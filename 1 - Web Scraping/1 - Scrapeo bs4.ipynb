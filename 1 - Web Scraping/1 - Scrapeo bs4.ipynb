{
  "cells": [
    {
      "cell_type": "markdown",
      "metadata": {
        "id": "xdQ0EtZAgT3j"
      },
      "source": [
        "# 1 - Web Scraping / Scrapeo con BeatifulSoup (Bs4)\n",
        "<p align = 'center'>\n",
        "<img src = 'https://editor.analyticsvidhya.com/uploads/75676cover.jfif'/>\n",
        "</p>\n",
        "\n",
        "Web scraping o raspado web, es una técnica utilizada mediante programas de software para extraer información de sitios web de manera automatizada y masiva. Usualmente, estos programas simulan la navegación de un humano en la web ya sea utilizando el protocolo HTTP manualmente, o incrustando un navegador en una aplicación.\n",
        "\n",
        "El web scraping está muy relacionado con la indexación de la web, la cual indexa la información de la web utilizando un robot y es una técnica universal adoptada por la mayoría de los motores de búsqueda. Sin embargo, el web scraping se enfoca más en la transformación de datos sin estructura en la web, como el formato HTML, en datos estructurados que pueden ser almacenados y analizados en una base de datos central, en una hoja de cálculo o en alguna otra fuente de almacenamiento. Alguno de los usos del web scraping son la comparación de precios en tiendas, la monitorización de datos relacionados con el clima de cierta región, la detección de cambios en sitios webs y la integración de datos en sitios webs.\n",
        "\n",
        "En los últimos años el web scraping se ha convertido en una **técnica muy utilizada** dentro del sector del posicionamiento web gracias a su capacidad de generar grandes cantidades de datos para crear contenidos de calidad.\n",
        "\n",
        "Podríamos pensar que el web scraping es nuestro recurso a **falta de una API o un feed RSS**. A falta de una fuente de datos, siempre podemos extraer aquello que sale por pantalla."
      ]
    },
    {
      "cell_type": "markdown",
      "metadata": {
        "id": "rpYvopdjC95u"
      },
      "source": [
        "Todo aquello que necesite interactividad con la página web va a necesitar **selenium**, una librería que nos permite darle instrucciones a nuestro explorador para poder simular los movimientos que haríamos por dentro de la web:\n",
        " - Cambiar de página\n",
        " - Rellenar formularios\n",
        " - Hacer click en botones\n",
        " - Cerrar pop-ups\n",
        " - Rechazar cookies\n",
        " \n",
        "Por otro lado, todo aquello que sea estático podemos tirar únicamente de **BeautifulSoup**, la primera librería para scrapeo que vamos a conocer que nos permite, una vez cargada la página de la que vamos a extraer la información, recorrer el código HTML y quedarnos con aquellos datos que necesitemos.\n",
        "\n",
        "Tendremos que realizar scrapeo cuando no dispongamos de una fuente más sencilla de la que obtener información como una API, una base de datos, fichero, etc..."
      ]
    },
    {
      "cell_type": "markdown",
      "metadata": {
        "id": "5q0_jKSEgT38"
      },
      "source": [
        "# 2 - Extracción de los datos del HTML\n",
        "\n",
        "Para scrapear necesitamos saber que pinta tiene la **estructura general** que tiene un HTML.\n",
        "\n",
        "El HTML consiste en contenido `<etiquetado>`, es como si fueran cajas de contenido, organizado de manera jerárquica:\n",
        "\n",
        "```\n",
        "<html>\n",
        "    <head>\n",
        "        <title>Titulo de la pagina</title>\n",
        "    </head>\n",
        "    <body>\n",
        "        <h1>Cabecera</h1>\n",
        "        <p>Parrafo</p>\n",
        "    </body>\n",
        "</html>\n",
        "```\n",
        "\n",
        "$$$$\n",
        "\n",
        "Las etiquetas el HTML se pueden clasificar en varios grupos, dependiendo del tipo de contenido que posea. Estos son algunos ejemplos:\n",
        "\n",
        "+ cabecera: `<h1>`, `<h2>`, `<h3>`, `<hgroup>`...\n",
        "+ texto: `<b>`, `<p>`, `<span>`...\n",
        "+ embebido: `<audio>`, `<img>`, `<video>`...\n",
        "+ tabular: `<table>`, `<tr>`, `<td>`, `<tbody>`...\n",
        "+ secciones: `<header>`, `<section>`, `<article>`...\n",
        "+ metadata: `<meta>`, `<title>`, `<script>`...\n",
        "\n",
        "$$$$\n",
        "\n",
        "\n",
        "Las etiquetas pueden tener atributos. Por ejemplo:\n",
        "\n",
        "`<div class=\"text-monospace\" id=\"name_132\", href=\"www.example.com\"> Contenido de la pagina </div>`\n",
        "\n",
        "Esta etiqueta `div` tiene los siguientes atributos:\n",
        "\n",
        "+ class: atributo con valor \"text-monospace\". La clase no es única en la página, varios elementos pueden tener la misma clase.\n",
        "+ id: atributo con valor \"name_132\". El id de una etiqueta la identifica de manera unívoca, no puede haber dos etiquetas con el mismo id.\n",
        "+ href: atributo con valor \"www.example.com\". El href suele contener el link a otra parte de la página.\n",
        "\n",
        "Siguiendo con la analogía de las cajas, si una etiqueta de HTML es una caja, los atributos serían las pegatinas pegadas en la tapa de la caja.\n",
        "\n",
        "Conociendo cual es el contenido que queremos extraer, debemos encontrar las **etiquetas** que nos interesan dentro de todo el HTML de la página web."
      ]
    },
    {
      "cell_type": "markdown",
      "metadata": {
        "id": "F-yRUsk8gT4E"
      },
      "source": [
        "Para ello vamos a usar **[BeautifulSoup](https://www.crummy.com/software/BeautifulSoup/bs4/doc/)**."
      ]
    },
    {
      "cell_type": "code",
      "execution_count": null,
      "metadata": {
        "id": "NCO_EbNigT4E"
      },
      "outputs": [],
      "source": [
        "#%pip install beautifulsoup4"
      ]
    },
    {
      "cell_type": "code",
      "execution_count": 5,
      "metadata": {
        "id": "7j8giB5MgT4H"
      },
      "outputs": [],
      "source": [
        "import requests as req\n",
        "from bs4 import BeautifulSoup as bs #este alias es standard"
      ]
    },
    {
      "cell_type": "markdown",
      "metadata": {
        "id": "Wx1oq9PrgT4I"
      },
      "source": [
        "# 3 - Scrapeando **WIKIPEDIA**\n",
        "\n",
        "Vamos a echar un ojo a esta web **[Países europeos según esperanza de vida](https://en.wikipedia.org/wiki/List_of_European_countries_by_life_expectancy)** para intentar sacar la información de la tabla que contiene la esperanza de vida de los países europeos."
      ]
    },
    {
      "cell_type": "markdown",
      "metadata": {
        "id": "5E8jOiYhu1J_"
      },
      "source": [
        "Hasta ahora habíamos visto `requests`para hacer llamadas a url (normalmente endpoints de las APIS que hemos estado mirando)\n",
        "\n",
        "¿Y si llamamos a una url de una web digamos `normal`?"
      ]
    },
    {
      "cell_type": "code",
      "execution_count": 6,
      "metadata": {
        "colab": {
          "base_uri": "https://localhost:8080/",
          "height": 157
        },
        "id": "fIghRQ_agT4J",
        "outputId": "d5254b86-0b8c-48a2-f639-a92a3a9b65f3"
      },
      "outputs": [
        {
          "data": {
            "text/plain": [
              "'<!DOCTYPE html>\\n<html class=\"client-nojs vector-feature-language-in-header-enabled vector-feature-language-in-main-page-header-disabled vector-feature-sticky-header-disabled vector-feature-page-tools-pinned-disabled vector-feature-toc-pinned-clientpref-1 vector-feature-main-menu-pinned-disabled vector-feature-limited-width-clientpref-1 vector-feature-limited-width-content-enabled vector-feature-custom-font-size-clientpref-1 vector-feature-appearance-enabled vector-feature-appearance-pinned-clientpref-1 vector-feature-night-mode-enabled skin-theme-clientpref-day vector-toc-available\" lang=\"en\" dir=\"ltr\">\\n<head>\\n<meta charset=\"UTF-8\">\\n<title>List of European countries by life expectancy - Wikipedia</title>\\n<script>(function(){var className=\"client-js vector-feature-language-in-header-enabled vector-feature-language-in-main-page-header-disabled vector-feature-sticky-header-disabled vector-feature-page-tools-pinned-disabled vector-feature-toc-pinned-clientpref-1 vector-feature-main-menu-pi'"
            ]
          },
          "execution_count": 6,
          "metadata": {},
          "output_type": "execute_result"
        }
      ],
      "source": [
        "#url de la pagina a scrapear\n",
        "url = 'https://en.wikipedia.org/wiki/List_of_European_countries_by_life_expectancy'\n",
        "\n",
        "html = req.get(url).text #obtenemos el contenido de la pagina\n",
        "html[:1000] #mostramos los primeros 1000 caracteres"
      ]
    },
    {
      "cell_type": "code",
      "execution_count": 7,
      "metadata": {
        "colab": {
          "base_uri": "https://localhost:8080/",
          "height": 157
        },
        "id": "sS-BcQM2gT4K",
        "outputId": "0d35b6b6-e364-4d32-b751-de8a0895b700"
      },
      "outputs": [
        {
          "data": {
            "text/plain": [
              "'\\n<body class=\"skin--responsive skin-vector skin-vector-search-vue mediawiki ltr sitedir-ltr mw-hide-empty-elt ns-0 ns-subject mw-editable page-List_of_European_countries_by_life_expectancy rootpage-List_of_European_countries_by_life_expectancy skin-vector-2022 action-view\"><a class=\"mw-jump-link\" href=\"#bodyContent\">Jump to content</a>\\n<div class=\"vector-header-container\">\\n\\t<header class=\"vector-header mw-header\">\\n\\t\\t<div class=\"vector-header-start\">\\n\\t\\t\\t<nav class=\"vector-main-menu-landmark\" aria-label=\"Site\">\\n\\t\\t\\t\\t\\n<div id=\"vector-main-menu-dropdown\" class=\"vector-dropdown vector-main-menu-dropdown vector-button-flush-left vector-button-flush-right\"  >\\n\\t<input type=\"checkbox\" id=\"vector-main-menu-dropdown-checkbox\" role=\"button\" aria-haspopup=\"true\" data-event-name=\"ui.dropdown-vector-main-menu-dropdown\" class=\"vector-dropdown-checkbox \"  aria-label=\"Main menu\"  >\\n\\t<label id=\"vector-main-menu-dropdown-label\" for=\"vector-main-menu-dropdown-checkbox\" class=\"vector-dropdown-label cdx-butto'"
            ]
          },
          "execution_count": 7,
          "metadata": {},
          "output_type": "execute_result"
        }
      ],
      "source": [
        "str(html).split('/head>')[1][:1000] #mostramos los primeros 1000 caracteres de la seccion body / Esto es una gualtrapada para ver el codigo html de la pagina"
      ]
    },
    {
      "cell_type": "markdown",
      "metadata": {
        "id": "NSXqfGkpFqpk"
      },
      "source": [
        "Esto es infumable y para nada práctico. Para ello BeautifulSoup entra en juego para facilitarnos la vida.\n",
        "\n",
        "Vimos en la docu, la manera de pasarle un `html` para que nos lo parsee (traduzca/convierta) en un objeto de BeautifulSoup muchos más manejable, amigable y con muchos métodos que nos facilitan el poder navegar el `html` para encontrar el contenido exacto que queremos extraer.\n",
        "\n",
        "Así, al **parsearlo**, es mucho más **legible**. A este objeto por convención se le llama `soup`."
      ]
    },
    {
      "cell_type": "code",
      "execution_count": 8,
      "metadata": {
        "colab": {
          "base_uri": "https://localhost:8080/",
          "height": 186
        },
        "id": "XtWBIiA4gT4L",
        "outputId": "ff3e478f-7517-44e3-b520-7e9ae774877a",
        "scrolled": false
      },
      "outputs": [
        {
          "data": {
            "text/plain": [
              "bs4.BeautifulSoup"
            ]
          },
          "execution_count": 8,
          "metadata": {},
          "output_type": "execute_result"
        }
      ],
      "source": [
        "soup = bs(html, 'html.parser') #creamos el objeto soup, y le decimos que lo que le pasamos tiene pinta de html\n",
        "type(soup)"
      ]
    },
    {
      "cell_type": "markdown",
      "metadata": {
        "id": "oHe0ZhK8GQ-i"
      },
      "source": [
        "Vamos a acceder a la tabla que hay en la web. \n",
        "\n",
        "En primer lugar es necesario entender cómo se estructura una tabla en código HTML.\n",
        "\n",
        "Gracias a BeautifulSoup podemos encontrar los diferentes **elementos** de una manera muy **veloz**.\n",
        "\n",
        "Hay varias funciones para encontrar elementos concretos. `find()` y `find_all()` son dos ejemplos."
      ]
    },
    {
      "cell_type": "markdown",
      "metadata": {
        "id": "hBi5YagriQvD"
      },
      "source": [
        "Vamos a ver como es la **estructura general** de una tabla en html:\n",
        "\n",
        "![](https://www.corelangs.com/html/tables/img/html-table-structure.png)"
      ]
    },
    {
      "cell_type": "markdown",
      "metadata": {
        "id": "91yf9l_AjOku"
      },
      "source": [
        "![](https://www.ourtutorials.in/html/img/table1.JPG)"
      ]
    },
    {
      "cell_type": "code",
      "execution_count": 9,
      "metadata": {
        "id": "5CeJT5w_gT4M"
      },
      "outputs": [],
      "source": [
        "# Tabla\n",
        "tabla = soup.find('table') #buscamos la tabla, en este caso solo hay una. Si hubiera mas, solo nos devolveria la primera. Si queremos todas, usamos find_all\n",
        "# soup.find_all('table')  -->  En caso de que tuviéramos más de una tabla esta sería la línea de código correcta para acceder a todas ellas\n",
        "#tabla"
      ]
    },
    {
      "cell_type": "code",
      "execution_count": null,
      "metadata": {
        "colab": {
          "base_uri": "https://localhost:8080/",
          "height": 157
        },
        "id": "esrynZ3KgT4M",
        "outputId": "d9bde501-cac4-44c4-fcfd-daae9bc6d94f"
      },
      "outputs": [],
      "source": [
        "tabla.prettify()"
      ]
    },
    {
      "cell_type": "code",
      "execution_count": null,
      "metadata": {
        "colab": {
          "base_uri": "https://localhost:8080/"
        },
        "id": "rPa-nNn-zZ61",
        "outputId": "8cc11094-db92-4c91-da2b-955a399665bf"
      },
      "outputs": [],
      "source": [
        "print(tabla.prettify()[:1000])"
      ]
    },
    {
      "cell_type": "code",
      "execution_count": null,
      "metadata": {
        "colab": {
          "base_uri": "https://localhost:8080/"
        },
        "id": "WEo8yLJ3gT4N",
        "outputId": "72ed4e6b-8821-4514-f950-640441492ce7"
      },
      "outputs": [],
      "source": [
        "# Filas de la tabla\n",
        "filas = tabla.find_all('tr') # tr --> table row\n",
        "len(filas) #Acordaros que vimos que find all nos devolvía una lista con todos los elementos encontrados"
      ]
    },
    {
      "cell_type": "code",
      "execution_count": null,
      "metadata": {
        "colab": {
          "base_uri": "https://localhost:8080/",
          "height": 138
        },
        "id": "zDQ7Zb8HHqZq",
        "outputId": "efde33b1-637b-4f61-f227-73f8bf17fb37"
      },
      "outputs": [],
      "source": [
        "type(filas) # ResultSet es una lista"
      ]
    },
    {
      "cell_type": "markdown",
      "metadata": {
        "id": "288MA6b0H5sD"
      },
      "source": [
        "Al ser una lista puedo recorrer cada elemento."
      ]
    },
    {
      "cell_type": "code",
      "execution_count": null,
      "metadata": {
        "colab": {
          "base_uri": "https://localhost:8080/",
          "height": 35
        },
        "id": "RCuFTQUkH-TE",
        "outputId": "4ffe0c0c-15f4-4169-f64b-8dfdb2421828"
      },
      "outputs": [],
      "source": [
        "# Texto del primer elemento de la lista\n",
        "filas[0].text"
      ]
    },
    {
      "cell_type": "code",
      "execution_count": null,
      "metadata": {
        "colab": {
          "base_uri": "https://localhost:8080/"
        },
        "id": "wc5RxlqMIUSw",
        "outputId": "0cd01213-e5a7-4cca-b062-d8c362384bea"
      },
      "outputs": [],
      "source": [
        "print(filas[0].text)"
      ]
    },
    {
      "cell_type": "code",
      "execution_count": null,
      "metadata": {
        "colab": {
          "base_uri": "https://localhost:8080/"
        },
        "id": "a-oUQjmggT4S",
        "outputId": "61f61b38-ce3c-4956-aee2-501f8b1f11a2"
      },
      "outputs": [],
      "source": [
        "# texto de cada fila solo para los 3 primeros elementos\n",
        "for f in filas[:3]:\n",
        "    print(type(f.text), f.text)\n",
        "    print('-----------------')"
      ]
    },
    {
      "cell_type": "code",
      "execution_count": null,
      "metadata": {
        "colab": {
          "base_uri": "https://localhost:8080/"
        },
        "id": "VnjRv18KOeCn",
        "outputId": "2ecf5cf0-e01e-4b7a-b29d-451e83ba74ea"
      },
      "outputs": [],
      "source": [
        "#vamos a sacar el texto de 3 primeros elementos del cuerpo de la tabla\n",
        "for f in filas[2:5]:\n",
        "    print(type(f.text), f.text)\n",
        "    print('-----------------')"
      ]
    },
    {
      "cell_type": "code",
      "execution_count": null,
      "metadata": {
        "colab": {
          "base_uri": "https://localhost:8080/"
        },
        "id": "SO613PGA2hTy",
        "outputId": "d1809f41-56e7-4953-db9c-4d04a1dec0c2"
      },
      "outputs": [],
      "source": [
        "f.text.split('\\n')"
      ]
    },
    {
      "cell_type": "code",
      "execution_count": null,
      "metadata": {
        "colab": {
          "base_uri": "https://localhost:8080/"
        },
        "id": "hOezc_JRgT4T",
        "outputId": "b159c188-1e69-4ff5-dd2a-df790c4758a3"
      },
      "outputs": [],
      "source": [
        "# Hagamos una lista, que contenga una lista por fila\n",
        "# strip() --> quita los espacios que haya delante y detrás del texto\n",
        "# split() --> va a separar la lista por la secuencia de caracteres '\\n' para hacer una lista\n",
        "filas_limpias = [f.text.strip().split('\\n') for f in filas]\n",
        "filas_limpias[:5]"
      ]
    },
    {
      "cell_type": "code",
      "execution_count": null,
      "metadata": {
        "colab": {
          "base_uri": "https://localhost:8080/"
        },
        "id": "MA9Y5JohgT4U",
        "outputId": "34af5ac6-9c97-4c41-dc9f-c587ded74383"
      },
      "outputs": [],
      "source": [
        "# La primera fila es la cabecera, y hay que limpiar los espacios en blanco\n",
        "cabecera = filas_limpias[0]\n",
        "cabecera"
      ]
    },
    {
      "cell_type": "code",
      "execution_count": null,
      "metadata": {
        "colab": {
          "base_uri": "https://localhost:8080/"
        },
        "id": "ZQ2HIJ1mgT4U",
        "outputId": "cab3a236-daf5-4c68-f791-7f633cb3cfd5"
      },
      "outputs": [],
      "source": [
        "# vamos a arreglarlo\n",
        "final = [] # aquí el resultado final limpio\n",
        "for fila in filas_limpias:\n",
        "    tmp = [] # lista vacía temporal\n",
        "    for elemento in fila:\n",
        "        if elemento != '':\n",
        "            tmp.append(elemento)\n",
        "    final.append(tmp)\n",
        "\n",
        "final[:5]"
      ]
    },
    {
      "cell_type": "markdown",
      "metadata": {
        "id": "uu7kxXWbLhXL"
      },
      "source": [
        "Hasta ahora hemos cogido la información contenida en una página que tiene una tabla. Hemos identificado la tabla y hemos accedido a ella. Con `find()` hemos buscado la etiqueta que nos interesa para ello (`<table>`). Una vez obtenido el HTML únicamente de la tabla lo hemos traducido para que sea algo más legible y hemos arreglado su contenido para poder llegar al siguiente paso: crear nuestro DataFrame."
      ]
    },
    {
      "cell_type": "code",
      "execution_count": null,
      "metadata": {
        "colab": {
          "base_uri": "https://localhost:8080/"
        },
        "id": "TkYdEju_MGYb",
        "outputId": "7834f67d-87a0-4669-94c9-59bbc3e06e1e"
      },
      "outputs": [],
      "source": [
        "final[0] # primer elemento de la lista final"
      ]
    },
    {
      "cell_type": "code",
      "execution_count": null,
      "metadata": {
        "colab": {
          "base_uri": "https://localhost:8080/"
        },
        "id": "r-R5kDpYMKz2",
        "outputId": "81bc705a-b74e-4516-bb6c-770395c2a4fc"
      },
      "outputs": [],
      "source": [
        "final[1] # segundo elemento de la lista final"
      ]
    },
    {
      "cell_type": "code",
      "execution_count": null,
      "metadata": {
        "colab": {
          "base_uri": "https://localhost:8080/"
        },
        "id": "pbCKKHNoNFXm",
        "outputId": "46476c1a-d3e2-4297-b8bd-a5eb06249334"
      },
      "outputs": [],
      "source": [
        "final[2]"
      ]
    },
    {
      "cell_type": "markdown",
      "metadata": {
        "id": "Qp3PjORtMT29"
      },
      "source": [
        "Para poder crear el DataFrame a partir de listas es necesario que todas ellas tengan la **misma cantidad de elementos**, tanto la que dará nombre a las columnas como la que contendrá la información de las filas."
      ]
    },
    {
      "cell_type": "code",
      "execution_count": null,
      "metadata": {
        "id": "94G8HZf6gT4V",
        "scrolled": true
      },
      "outputs": [],
      "source": [
        "import pandas as pd"
      ]
    },
    {
      "cell_type": "code",
      "execution_count": null,
      "metadata": {
        "colab": {
          "base_uri": "https://localhost:8080/"
        },
        "id": "0EGnZXmPOWOB",
        "outputId": "d29827c7-8e85-4b80-8d7e-02d338ef85bd"
      },
      "outputs": [],
      "source": [
        "nombres_columnas = final[1] # la primera fila la omitimos, nos quedamos la segunda, pero tenemos que arreglarla\n",
        "nombres_columnas"
      ]
    },
    {
      "cell_type": "code",
      "execution_count": null,
      "metadata": {
        "id": "yOocVIrVNwpB"
      },
      "outputs": [],
      "source": [
        "data = final[2:] # desde la primera fila con información, la de Liechtenstein, hasta el final"
      ]
    },
    {
      "cell_type": "code",
      "execution_count": null,
      "metadata": {
        "colab": {
          "base_uri": "https://localhost:8080/"
        },
        "id": "KR-dANMXT0yl",
        "outputId": "c5544ea4-f583-4a7f-80ef-687a906b690b"
      },
      "outputs": [],
      "source": [
        "len(data[0]), len(nombres_columnas) # las filas tienen info para más columnas que la lista que dará nombre a las columnas..."
      ]
    },
    {
      "cell_type": "markdown",
      "metadata": {
        "id": "Nmeyr3MVOEFk"
      },
      "source": [
        "En este caso no coinciden. Así que tendremos que hacer algún pequeño arreglo extra antes de conseguir hacer el DataFrame."
      ]
    },
    {
      "cell_type": "code",
      "execution_count": null,
      "metadata": {
        "colab": {
          "base_uri": "https://localhost:8080/"
        },
        "id": "n2xzsy-W4o0t",
        "outputId": "fbd71b04-5ad0-4f99-fff2-e9c5d0568382"
      },
      "outputs": [],
      "source": [
        "nombres_columnas"
      ]
    },
    {
      "cell_type": "code",
      "execution_count": null,
      "metadata": {
        "colab": {
          "base_uri": "https://localhost:8080/"
        },
        "id": "VeNLWufg4vo9",
        "outputId": "f9c06485-d694-4030-dd41-282160e037a7"
      },
      "outputs": [],
      "source": [
        "data[0]"
      ]
    },
    {
      "cell_type": "code",
      "execution_count": null,
      "metadata": {
        "id": "6ACbo801N58j"
      },
      "outputs": [],
      "source": [
        "nombres_columnas.insert(0, 'Country') # al añadir en primer lugar 'Country' ya tenemos tantos elementos como en el resto, que serán las filas"
      ]
    },
    {
      "cell_type": "code",
      "execution_count": null,
      "metadata": {
        "id": "5o75Z2ayNz8t"
      },
      "outputs": [],
      "source": [
        "df = pd.DataFrame(data, columns = nombres_columnas)"
      ]
    },
    {
      "cell_type": "code",
      "execution_count": null,
      "metadata": {
        "colab": {
          "base_uri": "https://localhost:8080/",
          "height": 397
        },
        "id": "ONidGtjCOrz7",
        "outputId": "328b47c0-7dfd-4f98-aca8-af93b355bd88"
      },
      "outputs": [],
      "source": [
        "df.head(10)"
      ]
    },
    {
      "cell_type": "code",
      "execution_count": null,
      "metadata": {
        "id": "2ejqDjY24_82"
      },
      "outputs": [],
      "source": [
        "#RETO\n",
        "\n",
        "#Vamos a escrapear la tabla de esta web --> https://en.wikipedia.org/wiki/List_of_countries_by_GNI_(nominal)_per_capita\n",
        "#Escrapeamos la primera tabla, y cuando lo tengamos vamos con la segunda\n",
        "#La salida debe ser un dataframe limpito,"
      ]
    },
    {
      "cell_type": "markdown",
      "metadata": {
        "id": "NsICPsyhgT4V"
      },
      "source": [
        "# 4 - Geolocalizando una IP"
      ]
    },
    {
      "cell_type": "markdown",
      "metadata": {
        "id": "ES4P2UxbgT4W"
      },
      "source": [
        "**¿Dónde estoy?** --> https://tools.keycdn.com/geo\n",
        "\n",
        "Esta web nos da toda la información de la IP que introducimos."
      ]
    },
    {
      "cell_type": "code",
      "execution_count": null,
      "metadata": {
        "id": "9-WID9augT4W"
      },
      "outputs": [],
      "source": [
        "url='https://tools.keycdn.com/geo'"
      ]
    },
    {
      "cell_type": "code",
      "execution_count": null,
      "metadata": {
        "colab": {
          "base_uri": "https://localhost:8080/",
          "height": 512
        },
        "id": "e2RhYzKnZiU5",
        "outputId": "a7569eef-ae70-401f-f568-d481b99a7429"
      },
      "outputs": [],
      "source": [
        "html = req.get(url).content"
      ]
    },
    {
      "cell_type": "markdown",
      "metadata": {
        "id": "0o212XMXOWZq"
      },
      "source": [
        "WTF? Que ha pasado\n",
        "\n",
        "\n",
        "\n",
        "que es un [user agent] ??(https://www.zenrows.com/blog/user-agent-web-scraping#what-is)\n",
        "\n",
        "User agents for web scraping --> [link](https://useragentstring.com/pages/Browserlist/)"
      ]
    },
    {
      "cell_type": "code",
      "execution_count": null,
      "metadata": {
        "colab": {
          "base_uri": "https://localhost:8080/"
        },
        "id": "VNGbYtvtQgdx",
        "outputId": "473c3f0c-ef2c-4aea-8793-b075e9c27bdb"
      },
      "outputs": [],
      "source": [
        "headers = {'User-Agent': 'Mozilla/5.0 (Windows NT 10.0; Win64; x64) AppleWebKit/537.36 (KHTML, like Gecko) Chrome/111.0.0.0 Safari/537.36'}\n",
        "\n",
        "response = req.get('http://httpbin.org/headers', headers=headers)\n",
        "\n",
        "print(response.status_code)\n",
        "print(response.text)"
      ]
    },
    {
      "cell_type": "markdown",
      "metadata": {
        "id": "qnVniC95Qipo"
      },
      "source": [
        "Se ha tenido que añadir un diccionario que contiene 'User-agent'. Hay muchos sitios web que van a poner impedimentos para que podamos obtener la información a través del scrapeo. Estamos haciendo una petición sin cabecera y no puede identificar el navegador que se está utilizando para acceder.\n",
        "\n",
        "Cuando accedemos a una web pedimos acceso aportando mucha información en los metadatos: quién soy, dónde estoy...\n",
        "\n",
        "Al hacer un `get` a pelo no está la información del navegador, se nos detecta como bot y se nos corta el acceso.\n",
        "\n",
        "Esta información se contiene en lo que se llama **cabecera**. Tal como indico en el diccionario le estoy diciendo a esta web que estoy accediendo desde el navegador Mozilla en su versión 5.0. Estoy intentando sacar información de la web que, a priori, no debería poder sacar. Esta web pone un impedimento para ello, pero hay una solución, la cabecera (el **`header=`**).\n"
      ]
    },
    {
      "cell_type": "code",
      "execution_count": null,
      "metadata": {
        "id": "E-YrM1SUByEc"
      },
      "outputs": [],
      "source": [
        "http://httpbin.org/headers"
      ]
    },
    {
      "cell_type": "code",
      "execution_count": null,
      "metadata": {
        "id": "6j3UqATKBnf4"
      },
      "outputs": [],
      "source": [
        "https://useragentstring.com/pages/Browserlist/"
      ]
    },
    {
      "cell_type": "code",
      "execution_count": null,
      "metadata": {
        "colab": {
          "base_uri": "https://localhost:8080/"
        },
        "id": "ew2FY5DNB5VP",
        "outputId": "a322d427-6345-41ea-8f5e-37a63df1a603"
      },
      "outputs": [],
      "source": [
        "import requests\n",
        "\n",
        "headers = {'User-Agent': 'Mozilla/5.0 (Windows NT 10.0; Win64; x64) AppleWebKit/537.36 (KHTML, like Gecko) Chrome/111.0.0.0 Safari/537.36'}\n",
        "\n",
        "response = requests.get('http://httpbin.org/headers', headers=headers)\n",
        "\n",
        "print(response.status_code)\n",
        "print(response.text)\n"
      ]
    },
    {
      "cell_type": "code",
      "execution_count": null,
      "metadata": {
        "id": "SHgH4pRLgT4W"
      },
      "outputs": [],
      "source": [
        "# soup parseada para tener el HTML legible\n",
        "soup = bs(html, 'html.parser')"
      ]
    },
    {
      "cell_type": "code",
      "execution_count": null,
      "metadata": {
        "colab": {
          "base_uri": "https://localhost:8080/"
        },
        "id": "qEKVAmScDE7q",
        "outputId": "f229a793-6069-47dd-da34-0f91aae8028f"
      },
      "outputs": [],
      "source": [
        "print(soup.prettify()[:1000]) # con .prettify() lo que hago es poner el código todavía más legible, con indentación\n",
        "                       # .prettify() funciona distinto dentro que fuera de la función print()"
      ]
    },
    {
      "cell_type": "markdown",
      "metadata": {
        "id": "CkzN8HY5SanB"
      },
      "source": [
        "Utilizando el inspector en el navegador podemos activar el cursor y encontrar en qué parte del código HTML se encuentra el elemento que necesitamos. Una vez identificado lo buscamos en nuestra *sopa*"
      ]
    },
    {
      "cell_type": "code",
      "execution_count": null,
      "metadata": {
        "colab": {
          "base_uri": "https://localhost:8080/"
        },
        "id": "VO6TxR4hgT4W",
        "outputId": "f6e357fa-adac-4d89-b634-d76e6719704a"
      },
      "outputs": [],
      "source": [
        "print(soup.find('div', {'id': 'geoResult'}).prettify()) # conseguido con el inspector"
      ]
    },
    {
      "cell_type": "code",
      "execution_count": null,
      "metadata": {
        "id": "WqhSKq_hgT4X"
      },
      "outputs": [],
      "source": [
        "tabla = soup.find('div', {'id': 'geoResult'}) # le llamo tabla, pues acabará siendo nuestra tabla\n",
        "info = tabla.find('div', {'class': 'bg-light medium rounded p-3'}) # la información que tendrá la tabla está aquí"
      ]
    },
    {
      "cell_type": "markdown",
      "metadata": {
        "id": "Mu8CGLQ5H8hl"
      },
      "source": [
        "Ahora que ya sé dónde está la información que necesito y tengo una variable que la alberga puedo buscar más profundamente hasta poder extraer los datos que necesito.\n",
        "\n",
        "Toda la info la tengo dentro de ese div veo que lo tengo en una lista con la class='row mb-0'\n",
        "\n",
        "Pero cuidado porque hay dos clases iguales.\n",
        "\n",
        "Accedamos a info para que nos dé todos los dd que tenga la clase col-8 text-monospace. Así me va a dar todos los que hay con la misma etiqueta y la misma clase.\n",
        "\n",
        "Por comodidad de lectura del código esto lo guardamos en una variable que se llama detalles, al fin y al cabo son los detalles de la información que contendrá la tabla que estamos haciendo."
      ]
    },
    {
      "cell_type": "code",
      "execution_count": null,
      "metadata": {
        "id": "-MK75bafgT4X"
      },
      "outputs": [],
      "source": [
        "detalles = info.find_all('dd', {'class': 'col-8 text-monospace'}) #Elemento y añado tb la clase"
      ]
    },
    {
      "cell_type": "markdown",
      "metadata": {
        "id": "dHU3fTXjTP0o"
      },
      "source": [
        "Hago una lista con el texto que hay en cada elemento de detalles. Le llamo conexión pues son los detalles de la info de esa conexión IP."
      ]
    },
    {
      "cell_type": "code",
      "execution_count": null,
      "metadata": {
        "colab": {
          "base_uri": "https://localhost:8080/"
        },
        "id": "Fm55VC-CTK1r",
        "outputId": "4d6471fd-d1d2-40b2-bc87-135b1911bab0"
      },
      "outputs": [],
      "source": [
        "conexion = [e.text for e in detalles]\n",
        "conexion"
      ]
    },
    {
      "cell_type": "markdown",
      "metadata": {
        "id": "bv_CJdV8TU-X"
      },
      "source": [
        "Necesito hacer un diccionario. `<dd>` es la información de la conexión. `<dt>` tiene el nombre de cada una de las filas (es la columna de la izquierda). Por ello cojo esa información y lo uso como `keys`, mientras que lo que hemos hecho hasta ahora serán los `values`."
      ]
    },
    {
      "cell_type": "code",
      "execution_count": null,
      "metadata": {
        "colab": {
          "base_uri": "https://localhost:8080/"
        },
        "id": "gUjHX9JLgT4X",
        "outputId": "e22424be-a827-4e14-bbf1-906030fac802"
      },
      "outputs": [],
      "source": [
        "keys = [e.text for e in tabla.find_all('dt')]\n",
        "keys"
      ]
    },
    {
      "cell_type": "code",
      "execution_count": null,
      "metadata": {
        "id": "AwrIszcjgT4Y"
      },
      "outputs": [],
      "source": [
        "dicc = {k:v for k,v in zip(keys,conexion)} #me hago un diccionario con los datos de la conexion"
      ]
    },
    {
      "cell_type": "code",
      "execution_count": null,
      "metadata": {
        "colab": {
          "base_uri": "https://localhost:8080/"
        },
        "id": "0fSgtoOGgT4Y",
        "outputId": "772b641d-d806-497a-e694-b23f9324b0e1"
      },
      "outputs": [],
      "source": [
        "dicc"
      ]
    },
    {
      "cell_type": "code",
      "execution_count": null,
      "metadata": {
        "colab": {
          "base_uri": "https://localhost:8080/",
          "height": 425
        },
        "id": "MvYloUCxTrnb",
        "outputId": "ff29b4d1-1565-4ff7-b2f7-0e4a39b38baf"
      },
      "outputs": [],
      "source": [
        "import pandas as pd\n",
        "ip = pd.DataFrame(dicc, index = [0]) #al ser valores escalares hay que proporcionar índice\n",
        "                                     #al aportar índice se genera una única fila\n",
        "ip.T"
      ]
    },
    {
      "cell_type": "markdown",
      "metadata": {
        "id": "5h_BIGP-gT4Y"
      },
      "source": [
        "**Búsqueda según IP**\n",
        "\n",
        "https://tools.keycdn.com/geo?host=137.255.90.7"
      ]
    },
    {
      "cell_type": "code",
      "execution_count": null,
      "metadata": {
        "colab": {
          "base_uri": "https://localhost:8080/",
          "height": 106
        },
        "id": "Eqz4-fyqMSpK",
        "outputId": "976df58e-b80d-426e-ee21-cb1c71715dac"
      },
      "outputs": [],
      "source": [
        "#Mi url ha cambiado\n",
        "https://tools.keycdn.com/geo?host=88.30.60.7"
      ]
    },
    {
      "cell_type": "code",
      "execution_count": null,
      "metadata": {
        "id": "9IagFgwkgT4Y"
      },
      "outputs": [],
      "source": [
        "url='https://tools.keycdn.com/geo?host=137.255.90.7' #tengo parámetros en la direccion en funcion de la IP que busque...🤔\n",
        "\n",
        "html = req.get(url, headers = user_agent).content\n",
        "\n",
        "soup=bs(html, 'html.parser')"
      ]
    },
    {
      "cell_type": "markdown",
      "metadata": {
        "id": "-t-d9S5DcVlO"
      },
      "source": [
        "Es igual que antes, pues la estructura es la misma, primero saco todos los `<dd>`luego todos los `<dt>`"
      ]
    },
    {
      "cell_type": "code",
      "execution_count": null,
      "metadata": {
        "colab": {
          "base_uri": "https://localhost:8080/"
        },
        "id": "l2Yp0DsfgT4Z",
        "outputId": "5dc14f69-f824-464f-f78e-37b9316964c7"
      },
      "outputs": [],
      "source": [
        "tabla = soup.find('div', {'id': 'geoResult'})\n",
        "tabla.find_all('dd', {'class': 'col-8 text-monospace'})"
      ]
    },
    {
      "cell_type": "code",
      "execution_count": null,
      "metadata": {
        "colab": {
          "base_uri": "https://localhost:8080/"
        },
        "id": "U5J9BYQ3gT4Z",
        "outputId": "8d44539c-6d7d-4eb9-97c4-0562be7c8c7c"
      },
      "outputs": [],
      "source": [
        "tabla.find_all('dt')"
      ]
    },
    {
      "cell_type": "code",
      "execution_count": null,
      "metadata": {
        "colab": {
          "base_uri": "https://localhost:8080/",
          "height": 35
        },
        "id": "2bgpLk4mgT4a",
        "outputId": "0403f83d-a8c5-4b56-dfb1-2e7e19f8c1e5"
      },
      "outputs": [],
      "source": [
        "#'{:2.2f}'.format(12.5436363636363)  # formato en strings de numeros"
      ]
    },
    {
      "cell_type": "markdown",
      "metadata": {
        "id": "jUglsxN8dZZt"
      },
      "source": [
        "Puedo hacer una función que haga de golpe todo lo que hemos hecho hasta ahora con una dirección IP"
      ]
    },
    {
      "cell_type": "code",
      "execution_count": null,
      "metadata": {
        "id": "pK2XdziagT4a"
      },
      "outputs": [],
      "source": [
        "def geo(ip):\n",
        "\n",
        "    url = f'https://tools.keycdn.com/geo?host={ip}' #Dinamica en fucnion de la IP que quiero buscar\n",
        "\n",
        "    html = req.get(url, headers = user_agent).content\n",
        "\n",
        "    soup = bs(html, 'html.parser')\n",
        "\n",
        "    tabla = soup.find('div', {'id': 'geoResult'})\n",
        "\n",
        "    conexion = [e.text for e in tabla.find_all('dd', {'class': 'col-8 text-monospace'})]\n",
        "\n",
        "    return conexion"
      ]
    },
    {
      "cell_type": "markdown",
      "metadata": {
        "id": "_Ilrer74csRJ"
      },
      "source": [
        "Vimos que una url también puede tener diferentes parámetros. ¿Qué pasa si tengo una lista de IP de la que quiero obtener la información y hacerme un dataframe?"
      ]
    },
    {
      "cell_type": "code",
      "execution_count": null,
      "metadata": {
        "id": "jnkT--EwgT4a"
      },
      "outputs": [],
      "source": [
        "list_ip = ['137.255.90.7', '195.255.90.10', '177.255.21.7']"
      ]
    },
    {
      "cell_type": "code",
      "execution_count": null,
      "metadata": {
        "colab": {
          "base_uri": "https://localhost:8080/"
        },
        "id": "qELLrk9YgT4b",
        "outputId": "2c031c4c-7ede-4478-a985-fc805bfc8d99"
      },
      "outputs": [],
      "source": [
        "for ip in list_ip:\n",
        "    print(geo(ip))\n"
      ]
    },
    {
      "cell_type": "code",
      "execution_count": null,
      "metadata": {
        "id": "F0aIPB0XfLIU"
      },
      "outputs": [],
      "source": [
        "s# Inténtalo tú (alumnos)"
      ]
    },
    {
      "cell_type": "code",
      "execution_count": null,
      "metadata": {
        "id": "XbI46n3wksKi"
      },
      "outputs": [],
      "source": []
    },
    {
      "cell_type": "markdown",
      "metadata": {
        "id": "Hvc_PTwpgT4b"
      },
      "source": [
        "### Ejemplo LinkedIn"
      ]
    },
    {
      "cell_type": "code",
      "execution_count": null,
      "metadata": {
        "id": "wOMoYPt_gT4b"
      },
      "outputs": [],
      "source": [
        "#Vamos intentar scrapear Linkedin\n",
        "URL='https://www.linkedin.com/jobs/search/' #Esta es la direccion de la pagina de busqueda de empleo de Linkedin general"
      ]
    },
    {
      "cell_type": "markdown",
      "metadata": {
        "id": "DzzcjcpXgT4b"
      },
      "source": [
        "A esta direccion le podemos poner parametros para afinar nuestra búsqueda.\n",
        "\n",
        "URL = 'https://www.linkedin.com/jobs/search/?keywords=data&location=Madrid&refresh=true'\n",
        "\n",
        "`?keywords=data` nos dice que la palabra clave que queremos buscar es 'data'\n",
        "    \n",
        "`&location=Madrid` nos dice que queremos buscar en Madrid\n",
        "    \n",
        "`&refresh=true` nos dice que queremos que nos devuelva los resultados más recientes\n",
        "\n",
        "Podemos filtrar más nuestra búsqueda en la web y veremos que van apareciendo más ***parametros*** en la URL.\n",
        "\n",
        "`&f_TPR=r120960` nos dice que empleos de la ultima semana. El parámetro va en segundos así que 60 * 60 * 24 * número de días atrás que queremos buscar\n",
        "\n",
        "`&start={i*25}` donde i sería el número de página\n"
      ]
    },
    {
      "cell_type": "code",
      "execution_count": null,
      "metadata": {
        "id": "prrEF2s1gT4q"
      },
      "outputs": [],
      "source": [
        "#Vamos a intentar scrapear esta URL\n",
        "import requests as req\n",
        "from bs4 import BeautifulSoup as bs\n",
        "url = 'https://www.linkedin.com/jobs/search/?keywords=data&location=Espa%C3%B1a&refresh=true%27&position=1&pageNum=0'\n",
        "html = req.get(url).content\n",
        "soup=bs(html, 'html.parser')"
      ]
    },
    {
      "cell_type": "code",
      "execution_count": null,
      "metadata": {
        "id": "pkczZhLRKXia"
      },
      "outputs": [],
      "source": [
        "print(soup.prettify())"
      ]
    },
    {
      "cell_type": "code",
      "execution_count": null,
      "metadata": {
        "id": "qAtLZ1IdgT4r"
      },
      "outputs": [],
      "source": [
        "# Intentad sacar los ingredientes de la recete de esta sopa y obtener para cada oferta de trabajo:\n",
        "\n",
        "# - Titulo\n",
        "# - Empresa\n",
        "# - Ubicacion\n",
        "# - Link de la empresa\n",
        "# - Link de la oferta\n",
        "# - Fecha de publicacion"
      ]
    },
    {
      "cell_type": "code",
      "execution_count": null,
      "metadata": {
        "id": "ynO74U6VgT4r"
      },
      "outputs": [],
      "source": [
        "#Os recomiendo ir echando una ojeada al html y la sopa poco a poco para ver como esta estructurado\n",
        "#Lo primero que tendremos que buscar será el elemento que contiene todas las ofertas....🤔\n",
        "\n",
        "#PISTA -- base-search-card__info\n",
        "#De aqui en adelante vosotros solos, tened presente que querremos guardar toda esa info en un dataframe"
      ]
    },
    {
      "cell_type": "code",
      "execution_count": null,
      "metadata": {
        "id": "uq-oVWFghhgP"
      },
      "outputs": [],
      "source": [
        "h3_titulos = soup.find_all('h3',{'class': 'base-search-card__title'})\n",
        "titulos_ofertas = [h3.text.replace('\\n','').strip() for h3 in h3_titulos]\n",
        "titulos_ofertas"
      ]
    },
    {
      "cell_type": "code",
      "execution_count": null,
      "metadata": {
        "id": "s7kCHBM0QrNB"
      },
      "outputs": [],
      "source": [
        "titulos_ofertas[0].replace('\\n','').strip()"
      ]
    },
    {
      "cell_type": "code",
      "execution_count": null,
      "metadata": {
        "id": "r0qRtso-iYOk"
      },
      "outputs": [],
      "source": [
        "# - Titulo\n",
        "# - Empresa\n",
        "# - Ubicacion\n",
        "# - Link de la empresa\n",
        "# - Link de la oferta\n",
        "# - Fecha de publicacion"
      ]
    },
    {
      "cell_type": "code",
      "execution_count": null,
      "metadata": {
        "id": "pciYYF2H3Ssp"
      },
      "outputs": [],
      "source": [
        "# SOLUCION para el primer elemento que aparece\n",
        "import pandas as pd\n",
        "\n",
        "data=[]\n",
        "tabla = soup.find('div', {'class': 'base-search-card__info'})\n",
        "\n",
        "titulo = tabla.find('h3', {'class': 'base-search-card__title'}).text.split('–')[0].strip() # - Titulo .sprit() para quitar espacios\n",
        "empresa = tabla.find('h4', {'class': 'base-search-card__subtitle'}).text.strip()  # - Empresa\n",
        "ubicacion = tabla.find('span', {'class': 'job-search-card__location'}).text.strip() # - Ubicacion\n",
        "link_empresa = tabla.find('a', {'class': 'hidden-nested-link'})['href'].split('?')[0] # - Link de la empresa\n",
        "link_oferta = soup.find('a', {'class': 'base-card__full-link absolute top-0 right-0 bottom-0 left-0 p-0 z-[2]'})['href'] # - Link de la oferta\n",
        "fecha_publicacion = tabla.find('time')['datetime'].strip()  # - Fecha de publicacion\n",
        "\n",
        "print(titulo)\n",
        "print(empresa)\n",
        "print(ubicacion)\n",
        "print(link_empresa)\n",
        "print(link_oferta)\n",
        "print(fecha_publicacion)\n",
        "\n",
        "data.append({\n",
        "    'titulo': titulo,\n",
        "    'empresa': empresa,\n",
        "    'ubicacion': ubicacion,\n",
        "    'link_empresa': link_empresa,\n",
        "    'link_oferta': link_oferta,\n",
        "    'fecha': fecha_publicacion\n",
        "})\n",
        "\n",
        "display(pd.DataFrame(data))"
      ]
    },
    {
      "cell_type": "markdown",
      "metadata": {
        "id": "SPkBAJ9FhJhu"
      },
      "source": [
        "### REDDIT - https://www.reddit.com/r/Python/"
      ]
    },
    {
      "cell_type": "code",
      "execution_count": null,
      "metadata": {
        "id": "sOSTjITbgT4s"
      },
      "outputs": [],
      "source": [
        "url = 'https://www.reddit.com/r/Python/'\n",
        "html = req.get(url).content\n",
        "soup = bs(html, 'html.parser')"
      ]
    },
    {
      "cell_type": "code",
      "execution_count": null,
      "metadata": {
        "id": "fs5r5Q1dgT4s"
      },
      "outputs": [],
      "source": [
        "print(soup.prettify())"
      ]
    },
    {
      "cell_type": "code",
      "execution_count": null,
      "metadata": {
        "id": "FmwrstFniw6p"
      },
      "outputs": [],
      "source": [
        "articulos = soup.find_all('shreddit-post')\n",
        "print(articulos[0].prettify())"
      ]
    },
    {
      "cell_type": "code",
      "execution_count": null,
      "metadata": {
        "id": "U7sHehNhuuYw"
      },
      "outputs": [],
      "source": [
        "len(articulos)"
      ]
    },
    {
      "cell_type": "markdown",
      "metadata": {
        "id": "z0kOKRcljbbo"
      },
      "source": [
        "Ya sé que tengo el autor del post dentro de `<span class=\"whitespace-nowrap\">` y quiero conseguir el nombre de los autores de los diferentes posts de reddit\n",
        "\n",
        "soup.find_all('span', {'class':'whitespace-nowrap'}) me va a dar una lista\n",
        "\n",
        "pues por cada elemento de la lista dame el texto y límpialo. (hemos visto que cada autor empieza por 'u/' y eso nos da igual)."
      ]
    },
    {
      "cell_type": "code",
      "execution_count": null,
      "metadata": {
        "id": "zKdwrjBfjZTt"
      },
      "outputs": [],
      "source": [
        "#Lista Autores\n",
        "autores =[autor.text.replace('u/','') for autor in soup.find_all('span', {'class':'whitespace-nowrap'})]\n",
        "autores[2]"
      ]
    },
    {
      "cell_type": "code",
      "execution_count": null,
      "metadata": {
        "id": "S_XnxLvOixDC"
      },
      "outputs": [],
      "source": [
        "#Titulos:\n",
        "titulos = []\n",
        "listado = soup.find_all('a', {'font-bold'})\n",
        "\n",
        "#este find_all me devuelve artículo y autor [0] no es lo que quiero, pero [1] sí es lo que quiero\n",
        "#necesito quedarme los impares\n",
        "for i in range(len(listado)):\n",
        "  if i%2 != 0:\n",
        "    titulos.append(listado[i].text.replace('\\n','').strip())\n",
        "titulos"
      ]
    },
    {
      "cell_type": "code",
      "execution_count": null,
      "metadata": {
        "id": "M1-sKv7rmolO"
      },
      "outputs": [],
      "source": [
        "#Tipo articulo\n",
        "tipos = [tipo.text.replace('\\n','').strip() for tipo in soup.find_all('div',{'class': 'md'})]"
      ]
    },
    {
      "cell_type": "markdown",
      "metadata": {
        "id": "5z6cSShTsNTG"
      },
      "source": [
        "Cuando tengo una etiqueta sea la que sea dentro tengo su clase, id, y más atributos. href, title, target...\n",
        "\n",
        "El contenido de los atributos también es accesible. Es como coger información de lo que pone por fuera de la caja. Puedo localizar cualquier etiqueta :"
      ]
    },
    {
      "cell_type": "code",
      "execution_count": null,
      "metadata": {
        "id": "11Y8m2rrixJ2"
      },
      "outputs": [],
      "source": [
        "#Queremos coger la info de los atributos\n",
        "soup.find_all('div', {'class': 'grow overflow-hidden'})[0]#.find('a').attrs#['href']"
      ]
    },
    {
      "cell_type": "code",
      "execution_count": null,
      "metadata": {
        "id": "_rKd-_aWjkM2"
      },
      "outputs": [],
      "source": [
        "soup.find_all('div', {'class': 'grow overflow-hidden'})[0].find('a')"
      ]
    },
    {
      "cell_type": "code",
      "execution_count": null,
      "metadata": {
        "id": "13bBDq-6jkqw"
      },
      "outputs": [],
      "source": [
        "soup.find_all('div', {'class':'grow overflow-hidden'})[0].find('a').attrs"
      ]
    },
    {
      "cell_type": "code",
      "execution_count": null,
      "metadata": {
        "id": "EDphEpFbjqVC"
      },
      "outputs": [],
      "source": [
        "soup.find_all('div', {'class':'grow overflow-hidden'})[0].find('a').attrs['href']"
      ]
    },
    {
      "cell_type": "markdown",
      "metadata": {
        "id": "OZ6ytQrqgT4s"
      },
      "source": [
        "### REPASO FUNCIONES"
      ]
    },
    {
      "cell_type": "code",
      "execution_count": null,
      "metadata": {
        "id": "IUwU65rrgT4t"
      },
      "outputs": [],
      "source": [
        "# repaso funciones\n",
        "\n",
        "def suma(*args):\n",
        "    return sum(args)\n",
        "\n",
        "suma(2, 2, 3, 45, 67, 890)"
      ]
    },
    {
      "cell_type": "code",
      "execution_count": null,
      "metadata": {
        "id": "27pleoccgT4t"
      },
      "outputs": [],
      "source": [
        "def saludar(nombre, lang='es', colega=True):\n",
        "    s=''\n",
        "\n",
        "    if colega:\n",
        "        s='colega!!!'\n",
        "\n",
        "    if lang=='es':\n",
        "        print('Hola {} {}'.format(nombre, s))\n",
        "\n",
        "    else:\n",
        "        print('Hello {} buddy!!!'.format(nombre))"
      ]
    },
    {
      "cell_type": "code",
      "execution_count": null,
      "metadata": {
        "id": "glnXOxIEgT4t"
      },
      "outputs": [],
      "source": [
        "def saludar_multiple(*lst, lang='es', colega=True):\n",
        "    for e in lst:\n",
        "        saludar(e, lang, colega)"
      ]
    },
    {
      "cell_type": "code",
      "execution_count": null,
      "metadata": {
        "id": "PnVJkC1dgT4u"
      },
      "outputs": [],
      "source": [
        "saludar('Pepe')"
      ]
    },
    {
      "cell_type": "code",
      "execution_count": null,
      "metadata": {
        "id": "Ay3JoUI2gT4u"
      },
      "outputs": [],
      "source": [
        "saludar(['Pepe', 'en'])"
      ]
    },
    {
      "cell_type": "code",
      "execution_count": null,
      "metadata": {
        "id": "kk-NzSZDgT4u"
      },
      "outputs": [],
      "source": [
        "saludar(*['Pepe', 'en'])"
      ]
    },
    {
      "cell_type": "code",
      "execution_count": null,
      "metadata": {
        "id": "wsQaalF0gT4v"
      },
      "outputs": [],
      "source": [
        "saludar_multiple('Ana', 'Pepe', 'Juan', 'Maria', lang='en')"
      ]
    },
    {
      "cell_type": "code",
      "execution_count": null,
      "metadata": {
        "id": "FnsJUHOZgT4v"
      },
      "outputs": [],
      "source": [
        "nombres=['Ana', 'Pepe', 'Juan', 'Maria']\n",
        "\n",
        "config={'lang': 'es', 'colega': True}"
      ]
    },
    {
      "cell_type": "code",
      "execution_count": null,
      "metadata": {
        "id": "Rq2p4RSpgT40"
      },
      "outputs": [],
      "source": [
        "saludar_multiple(*nombres, **config)"
      ]
    },
    {
      "cell_type": "code",
      "execution_count": null,
      "metadata": {
        "id": "UTaMdRO-gT41"
      },
      "outputs": [],
      "source": [
        "def function (*args, **kwargs):\n",
        "    return"
      ]
    }
  ],
  "metadata": {
    "colab": {
      "provenance": []
    },
    "kernelspec": {
      "display_name": "Python 3 (ipykernel)",
      "language": "python",
      "name": "python3"
    },
    "language_info": {
      "codemirror_mode": {
        "name": "ipython",
        "version": 3
      },
      "file_extension": ".py",
      "mimetype": "text/x-python",
      "name": "python",
      "nbconvert_exporter": "python",
      "pygments_lexer": "ipython3",
      "version": "3.12.2"
    },
    "varInspector": {
      "cols": {
        "lenName": 16,
        "lenType": 16,
        "lenVar": 40
      },
      "kernels_config": {
        "python": {
          "delete_cmd_postfix": "",
          "delete_cmd_prefix": "del ",
          "library": "var_list.py",
          "varRefreshCmd": "print(var_dic_list())"
        },
        "r": {
          "delete_cmd_postfix": ") ",
          "delete_cmd_prefix": "rm(",
          "library": "var_list.r",
          "varRefreshCmd": "cat(var_dic_list()) "
        }
      },
      "types_to_exclude": [
        "module",
        "function",
        "builtin_function_or_method",
        "instance",
        "_Feature"
      ],
      "window_display": false
    }
  },
  "nbformat": 4,
  "nbformat_minor": 0
}
