{
  "cells": [
    {
      "cell_type": "markdown",
      "metadata": {
        "id": "DBX1_T4wYKW_"
      },
      "source": [
        "# Amazon\n",
        "\n",
        "Utilizando un `hover` vamos a simular movimientos por dentro del sitio web.\n",
        "\n",
        "También cómo introducir cadenas de texto en cuadros de texto, y simularemos cómo una persona escribe para ser más indetectables.\n",
        "\n",
        "Descubriremos cómo interaccionar con banners que aparecen pasado un tiempo de estar en la web."
      ]
    },
    {
      "cell_type": "markdown",
      "metadata": {},
      "source": [
        "hover = la simulacion de el raton en la ventana "
      ]
    },
    {
      "cell_type": "code",
      "execution_count": null,
      "metadata": {
        "id": "Et_2yBFpNriB"
      },
      "outputs": [],
      "source": [
        "from selenium import webdriver\n",
        "from webdriver_manager.chrome import ChromeDriverManager # sustituye al archivo\n",
        "from selenium.webdriver.chrome.options import Options # opciones de chrome\n",
        "from selenium.webdriver.common.by import By # By es para buscar por tag, clase, id...\n",
        "from selenium.webdriver.support.ui import WebDriverWait   # para meter esperaras\n",
        "from selenium.webdriver.support import expected_conditions as EC   # para esperar ciertos eventos\n",
        "from selenium.webdriver import ActionChains # para hacer acciones con el ratón\n",
        "import time\n",
        "import random\n",
        "import selenium.webdriver.common.keys as Keys # para simular teclas"
      ]
    },
    {
      "cell_type": "code",
      "execution_count": null,
      "metadata": {
        "id": "Dm6gQn6Ba7Z7"
      },
      "outputs": [],
      "source": [
        "#Opciones de chrome\n",
        "opciones = webdriver.ChromeOptions()\n",
        "#opciones.add_argument('--start-maximized')\n",
        "opciones.add_argument('window-size=775,1400')\n",
        "opciones.add_argument('--disable-extensions')\n",
        "opciones.add_argument('--disable-blink-features=AutomationControlled')\n",
        "opciones.add_argument('--no-sandbox')\n",
        "opciones.add_experimental_option('useAutomationExtension', False)\n",
        "opciones.add_experimental_option('excludeSwitches', ['enable-automation'])\n",
        "\n",
        "# guardar las cookies\n",
        "# opciones.add_argument('user-data-dir=cookies')    # mantiene las cookies\n",
        "opciones.add_argument('--incognito') # modo incognito"
      ]
    },
    {
      "cell_type": "code",
      "execution_count": null,
      "metadata": {
        "id": "oK9l4Z85bYwS"
      },
      "outputs": [],
      "source": [
        "url = 'https://www.amazon.es/' #llamamos a la url"
      ]
    },
    {
      "cell_type": "code",
      "execution_count": null,
      "metadata": {
        "id": "LNS-18c2bcvR"
      },
      "outputs": [],
      "source": [
        "driver = webdriver.Chrome(options=options)\n",
        "\n",
        "driver.get(url) # abrimos la url "
      ]
    },
    {
      "cell_type": "code",
      "execution_count": null,
      "metadata": {
        "id": "MRJE6aE1bfRB"
      },
      "outputs": [],
      "source": [
        "# Continuamos sin aceptar las cookies\n",
        "driver.find_element(By.ID, 'sp-cc-rejectall-link').click() # encontramos las cookies con el inspertor de codigo esun botton que tiene un ID"
      ]
    },
    {
      "cell_type": "markdown",
      "metadata": {
        "id": "lXg3c-o4gnbg"
      },
      "source": [
        "**HOVER**\n",
        "\n",
        "El objeto `hover` en Selenium es una técnica que se utiliza para simular el movimiento del cursor del ratón sobre un elemento web específico en una página, activando de este modo las funciones de estilo o comportamiento asociadas al evento hover."
      ]
    },
    {
      "cell_type": "code",
      "execution_count": null,
      "metadata": {
        "id": "wWznd8KNgi6e"
      },
      "outputs": [],
      "source": [
        "#Hacemos hover sobre el elemento que queremos cuyo XPATH //*[@id=\"nav-link-accountList\"]\n",
        "elemento = driver.find_element(By.XPATH, '//*[@id=\"nav-link-accountList\"]') #\n",
        "\n",
        "#Y ahora creamos el objeto\n",
        "hover = ActionChains(driver).move_to_element(elemento)\n",
        "\n",
        "#Y ahora lo ejecutamos\n",
        "hover.perform()\n",
        "\n",
        "#lo primero es ubicar el elemento con el hovery al final pedimos que lo ejecute "
      ]
    },
    {
      "cell_type": "code",
      "execution_count": null,
      "metadata": {
        "id": "lxeP1s4hhVXF"
      },
      "outputs": [],
      "source": [
        "#Dentro de los elementos del hover voy a darle a identificarse:\n",
        "driver.find_element(By.CLASS_NAME, 'nav-action-inner').click() # una ves encontrado el elemento le damos el click para acceder a la siguiente pagina para registrarte "
      ]
    },
    {
      "cell_type": "code",
      "execution_count": null,
      "metadata": {
        "id": "KH9OPmxShWAO"
      },
      "outputs": [],
      "source": [
        "#Podríamos loguearnos, pero lo que vamos a hacer es decirle al navegador que vaya para atrás\n",
        "driver.back()"
      ]
    },
    {
      "cell_type": "code",
      "execution_count": null,
      "metadata": {
        "id": "CNMnORPdhYPx"
      },
      "outputs": [],
      "source": [
        "#buscamos una etiqueta imput que lo que haces es que nos permite colocar un texto \n",
        "#Introducir texto de busqueda\n",
        "cuadro_busqueda = driver.find_element(By.XPATH, '//*[@id=\"twotabsearchtextbox\"]')\n",
        "\n",
        "#Vamos a hacer una busqueda de partituras mozart:\n",
        "cuadro_busqueda.send_keys('partitura mozart') #send_keys es la funcion que le infica que texo colocar que viene entre los parentesis "
      ]
    },
    {
      "cell_type": "code",
      "execution_count": null,
      "metadata": {
        "id": "iEOW-U-Jhfhl"
      },
      "outputs": [],
      "source": [
        "#Y ahora le damos a enter\n",
        "cuadro_busqueda.submit()#submit es igual que un Enter "
      ]
    },
    {
      "cell_type": "code",
      "execution_count": null,
      "metadata": {
        "id": "BNFFAKKUhird"
      },
      "outputs": [],
      "source": [
        "#MODO NINJA ACTIVADO\n",
        "cuadro_busqueda = driver.find_element(By.XPATH, '//*[@id=\"twotabsearchtextbox\"]')\n",
        "\n",
        "#Queremos escribir juguetes lego, pero vamos a hacerlo letra a letra como lo haría un humano\n",
        "time.sleep(2)\n",
        "\n",
        "#Borramos la busqueda anterior:\n",
        "cuadro_busqueda.clear() #clear bacia el cuadro de busqueda \n",
        "time.sleep(2)\n",
        "\n",
        "#Y ahora vamos a escribir letra a letra: simulamos un imput para rellenar \n",
        "termino_de_busqueda = 'juguetes lego'\n",
        "for letra in termino_de_busqueda :\n",
        "    cuadro_busqueda.send_keys(letra)\n",
        "    time.sleep(random.uniform(0.3,0.75))\n",
        "cuadro_busqueda.submit()"
      ]
    },
    {
      "cell_type": "markdown",
      "metadata": {},
      "source": []
    },
    {
      "cell_type": "code",
      "execution_count": null,
      "metadata": {
        "id": "w2M-qkrBhrnk"
      },
      "outputs": [],
      "source": [
        "#Sacamos listado de los productos de la página:\n",
        "productos = driver.find_elements(By.CLASS_NAME, 'a-section.a-spacing-base')\n",
        "productos.__len__()"
      ]
    },
    {
      "cell_type": "code",
      "execution_count": null,
      "metadata": {
        "id": "bR_33SWohuGc"
      },
      "outputs": [],
      "source": [
        "#Le pasamos el listado de productos a Bs4\n",
        "from bs4 import BeautifulSoup\n",
        "soup = BeautifulSoup(driver.page_source, 'html.parser') # con page_source tenemos todo el codigo fuente y se lo podemos pasar a bs\n",
        "soup.find_all('div', class_='a-section a-spacing-base')\n",
        "#Printeamos la lista de productos:\n",
        "for producto in productos:\n",
        "    print(producto.text)"
      ]
    },
    {
      "cell_type": "code",
      "execution_count": null,
      "metadata": {
        "id": "2mSC-fnrhxLE"
      },
      "outputs": [],
      "source": [
        "productos[60].text.split('\\n')"
      ]
    },
    {
      "cell_type": "code",
      "execution_count": null,
      "metadata": {
        "id": "E51mLu-Ph2qU"
      },
      "outputs": [],
      "source": [
        "#Vamos a sacar el nombre del producto, el precio y el link\n",
        "\n",
        "for i,producto in enumerate(productos):\n",
        "    try:\n",
        "       nombre = producto.find_element(By.CLASS_NAME, 'a-size-base-plus').text\n",
        "    except: # Exception as e:\n",
        "        nombre = (f\"El producto[{i}] sin nombre\")#-->error: {e}\n",
        "    try:\n",
        "        precio = producto.find_element(By.CLASS_NAME, 'a-price-whole').text\n",
        "    except:\n",
        "        precio = (f\"El producto[{i}] sin precio\")\n",
        "    try:\n",
        "        link = producto.find_element(By.CLASS_NAME, 'a-link-normal.a-text-normal').get_attribute('href')\n",
        "    except:\n",
        "        link = (f\"El producto[{i}] sin link\")\n",
        "    print(nombre, precio, link)"
      ]
    },
    {
      "cell_type": "code",
      "execution_count": null,
      "metadata": {
        "id": "yZtuIBbCiAR-"
      },
      "outputs": [],
      "source": [
        "productos[7].text"
      ]
    },
    {
      "cell_type": "code",
      "execution_count": null,
      "metadata": {
        "id": "zVKRZIQliCgt"
      },
      "outputs": [],
      "source": [
        "driver.quit()"
      ]
    },
    {
      "cell_type": "markdown",
      "metadata": {
        "id": "mpOlA-rbiRu1"
      },
      "source": [
        "# MARCA\n",
        "\n",
        "Esperas hasta que un botón sea clickable."
      ]
    },
    {
      "cell_type": "code",
      "execution_count": null,
      "metadata": {
        "id": "GgEKFf4OiRTQ"
      },
      "outputs": [],
      "source": [
        "url = 'https://www.marca.com/'\n",
        "driver = webdriver.Chrome(options=options)\n",
        "driver.get(url)\n",
        "driver.find_element(By.ID, 'ue-accept-notice-button').click()\n",
        "#Boton de la radio\n",
        "driver.find_element(By.CLASS_NAME, 'ue-c-tooltip--closearrow').click()"
      ]
    },
    {
      "cell_type": "code",
      "execution_count": null,
      "metadata": {
        "id": "-UtdVXQTmhzF"
      },
      "outputs": [],
      "source": [
        "driver.quit()"
      ]
    },
    {
      "cell_type": "code",
      "execution_count": null,
      "metadata": {
        "id": "yZuBCjQVmmU6"
      },
      "outputs": [],
      "source": [
        "url = 'https://www.marca.com/'\n",
        "driver = webdriver.Chrome(options=options)\n",
        "driver.get(url)\n",
        "#Esperar hasta que el botón esté disponible\n",
        "WebDriverWait(driver, 10).until(EC.element_to_be_clickable((By.ID, 'ue-accept-notice-button'))).click()\n",
        "#Boton de la radio (X)\n",
        "WebDriverWait(driver, 10).until(EC.element_to_be_clickable((By.CLASS_NAME, 'ue-c-tooltip--closearrow'))).click()\n",
        "#Boton acceder a la radio\n",
        "WebDriverWait(driver, 10).until(EC.element_to_be_clickable((By.CLASS_NAME, 'radio-heading'))).click()"
      ]
    },
    {
      "cell_type": "code",
      "execution_count": null,
      "metadata": {
        "id": "hL714vnYmrN7"
      },
      "outputs": [],
      "source": [
        "driver.quit()"
      ]
    }
  ],
  "metadata": {
    "colab": {
      "provenance": []
    },
    "kernelspec": {
      "display_name": "Python 3",
      "name": "python3"
    },
    "language_info": {
      "name": "python"
    }
  },
  "nbformat": 4,
  "nbformat_minor": 0
}
