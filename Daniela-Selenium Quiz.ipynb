{
  "cells": [
    {
      "cell_type": "markdown",
      "metadata": {},
      "source": [
        "Aquí está tu último reto con Selenum.\n",
        "\n",
        "En esta sección o en el enlace  https://forms.gle/7jKq7vHV7V1R3NbR8 encontraréis un formulario, el cual hay que responder usando un script de Selenium.\n",
        "\n",
        "A lo largo del reto tendréis que hacer muchas interacciones con la web, cookies, loguearos, teclear, seleccionar... y finalmente subir dentro del cuestionario el notebook con vuestro código ejecutable.\n"
      ]
    },
    {
      "cell_type": "code",
      "execution_count": 115,
      "metadata": {},
      "outputs": [
        {
          "name": "stdout",
          "output_type": "stream",
          "text": [
            "Requirement already satisfied: python-dotenv in /home/daniela/miniconda3/envs/gamma/lib/python3.12/site-packages (1.0.1)\n",
            "Note: you may need to restart the kernel to use updated packages.\n"
          ]
        }
      ],
      "source": [
        "#pip install python-dotenv"
      ]
    },
    {
      "cell_type": "code",
      "execution_count": 1,
      "metadata": {},
      "outputs": [
        {
          "name": "stdout",
          "output_type": "stream",
          "text": [
            "URL video:https://www.youtube.com/watch?v=2_x3qsBJndo\n"
          ]
        },
        {
          "ename": "NoSuchElementException",
          "evalue": "Message: no such element: Unable to locate element: {\"method\":\"xpath\",\"selector\":\"//*[@id=\"mG61Hd\"]/div[2]/div/div[2]/div[4]/div/div/div[2]/div/div[1]/div/div[1]/input\"}\n  (Session info: chrome=129.0.6668.58); For documentation on this error, please visit: https://www.selenium.dev/documentation/webdriver/troubleshooting/errors#no-such-element-exception\nStacktrace:\n#0 0x55feaf21610a <unknown>\n#1 0x55feaeefc5e0 <unknown>\n#2 0x55feaef4bbe8 <unknown>\n#3 0x55feaef4be81 <unknown>\n#4 0x55feaef928c4 <unknown>\n#5 0x55feaef70b4d <unknown>\n#6 0x55feaef8fd7d <unknown>\n#7 0x55feaef708c3 <unknown>\n#8 0x55feaef3e6b3 <unknown>\n#9 0x55feaef3f68e <unknown>\n#10 0x55feaf1e0b0b <unknown>\n#11 0x55feaf1e4a91 <unknown>\n#12 0x55feaf1cd305 <unknown>\n#13 0x55feaf1e5612 <unknown>\n#14 0x55feaf1b246f <unknown>\n#15 0x55feaf205008 <unknown>\n#16 0x55feaf2051d3 <unknown>\n#17 0x55feaf214f5c <unknown>\n#18 0x7f53472b7ac3 <unknown>\n",
          "output_type": "error",
          "traceback": [
            "\u001b[0;31m---------------------------------------------------------------------------\u001b[0m",
            "\u001b[0;31mNoSuchElementException\u001b[0m                    Traceback (most recent call last)",
            "Cell \u001b[0;32mIn[1], line 96\u001b[0m\n\u001b[1;32m     93\u001b[0m time\u001b[38;5;241m.\u001b[39msleep(\u001b[38;5;241m3\u001b[39m)\n\u001b[1;32m     95\u001b[0m \u001b[38;5;66;03m# Escribe url del video\u001b[39;00m\n\u001b[0;32m---> 96\u001b[0m input_url_video \u001b[38;5;241m=\u001b[39m \u001b[43mdriver\u001b[49m\u001b[38;5;241;43m.\u001b[39;49m\u001b[43mfind_element\u001b[49m\u001b[43m(\u001b[49m\u001b[43mBy\u001b[49m\u001b[38;5;241;43m.\u001b[39;49m\u001b[43mXPATH\u001b[49m\u001b[43m,\u001b[49m\u001b[38;5;124;43m'\u001b[39;49m\u001b[38;5;124;43m//*[@id=\u001b[39;49m\u001b[38;5;124;43m\"\u001b[39;49m\u001b[38;5;124;43mmG61Hd\u001b[39;49m\u001b[38;5;124;43m\"\u001b[39;49m\u001b[38;5;124;43m]/div[2]/div/div[2]/div[4]/div/div/div[2]/div/div[1]/div/div[1]/input\u001b[39;49m\u001b[38;5;124;43m'\u001b[39;49m\u001b[43m)\u001b[49m\n\u001b[1;32m     97\u001b[0m time\u001b[38;5;241m.\u001b[39msleep(\u001b[38;5;241m1\u001b[39m)\n\u001b[1;32m     98\u001b[0m linea_url_video \u001b[38;5;241m=\u001b[39m url_video\n",
            "File \u001b[0;32m~/miniconda3/envs/gamma/lib/python3.12/site-packages/selenium/webdriver/remote/webdriver.py:748\u001b[0m, in \u001b[0;36mWebDriver.find_element\u001b[0;34m(self, by, value)\u001b[0m\n\u001b[1;32m    745\u001b[0m     by \u001b[38;5;241m=\u001b[39m By\u001b[38;5;241m.\u001b[39mCSS_SELECTOR\n\u001b[1;32m    746\u001b[0m     value \u001b[38;5;241m=\u001b[39m \u001b[38;5;124mf\u001b[39m\u001b[38;5;124m'\u001b[39m\u001b[38;5;124m[name=\u001b[39m\u001b[38;5;124m\"\u001b[39m\u001b[38;5;132;01m{\u001b[39;00mvalue\u001b[38;5;132;01m}\u001b[39;00m\u001b[38;5;124m\"\u001b[39m\u001b[38;5;124m]\u001b[39m\u001b[38;5;124m'\u001b[39m\n\u001b[0;32m--> 748\u001b[0m \u001b[38;5;28;01mreturn\u001b[39;00m \u001b[38;5;28;43mself\u001b[39;49m\u001b[38;5;241;43m.\u001b[39;49m\u001b[43mexecute\u001b[49m\u001b[43m(\u001b[49m\u001b[43mCommand\u001b[49m\u001b[38;5;241;43m.\u001b[39;49m\u001b[43mFIND_ELEMENT\u001b[49m\u001b[43m,\u001b[49m\u001b[43m \u001b[49m\u001b[43m{\u001b[49m\u001b[38;5;124;43m\"\u001b[39;49m\u001b[38;5;124;43musing\u001b[39;49m\u001b[38;5;124;43m\"\u001b[39;49m\u001b[43m:\u001b[49m\u001b[43m \u001b[49m\u001b[43mby\u001b[49m\u001b[43m,\u001b[49m\u001b[43m \u001b[49m\u001b[38;5;124;43m\"\u001b[39;49m\u001b[38;5;124;43mvalue\u001b[39;49m\u001b[38;5;124;43m\"\u001b[39;49m\u001b[43m:\u001b[49m\u001b[43m \u001b[49m\u001b[43mvalue\u001b[49m\u001b[43m}\u001b[49m\u001b[43m)\u001b[49m[\u001b[38;5;124m\"\u001b[39m\u001b[38;5;124mvalue\u001b[39m\u001b[38;5;124m\"\u001b[39m]\n",
            "File \u001b[0;32m~/miniconda3/envs/gamma/lib/python3.12/site-packages/selenium/webdriver/remote/webdriver.py:354\u001b[0m, in \u001b[0;36mWebDriver.execute\u001b[0;34m(self, driver_command, params)\u001b[0m\n\u001b[1;32m    352\u001b[0m response \u001b[38;5;241m=\u001b[39m \u001b[38;5;28mself\u001b[39m\u001b[38;5;241m.\u001b[39mcommand_executor\u001b[38;5;241m.\u001b[39mexecute(driver_command, params)\n\u001b[1;32m    353\u001b[0m \u001b[38;5;28;01mif\u001b[39;00m response:\n\u001b[0;32m--> 354\u001b[0m     \u001b[38;5;28;43mself\u001b[39;49m\u001b[38;5;241;43m.\u001b[39;49m\u001b[43merror_handler\u001b[49m\u001b[38;5;241;43m.\u001b[39;49m\u001b[43mcheck_response\u001b[49m\u001b[43m(\u001b[49m\u001b[43mresponse\u001b[49m\u001b[43m)\u001b[49m\n\u001b[1;32m    355\u001b[0m     response[\u001b[38;5;124m\"\u001b[39m\u001b[38;5;124mvalue\u001b[39m\u001b[38;5;124m\"\u001b[39m] \u001b[38;5;241m=\u001b[39m \u001b[38;5;28mself\u001b[39m\u001b[38;5;241m.\u001b[39m_unwrap_value(response\u001b[38;5;241m.\u001b[39mget(\u001b[38;5;124m\"\u001b[39m\u001b[38;5;124mvalue\u001b[39m\u001b[38;5;124m\"\u001b[39m, \u001b[38;5;28;01mNone\u001b[39;00m))\n\u001b[1;32m    356\u001b[0m     \u001b[38;5;28;01mreturn\u001b[39;00m response\n",
            "File \u001b[0;32m~/miniconda3/envs/gamma/lib/python3.12/site-packages/selenium/webdriver/remote/errorhandler.py:229\u001b[0m, in \u001b[0;36mErrorHandler.check_response\u001b[0;34m(self, response)\u001b[0m\n\u001b[1;32m    227\u001b[0m         alert_text \u001b[38;5;241m=\u001b[39m value[\u001b[38;5;124m\"\u001b[39m\u001b[38;5;124malert\u001b[39m\u001b[38;5;124m\"\u001b[39m]\u001b[38;5;241m.\u001b[39mget(\u001b[38;5;124m\"\u001b[39m\u001b[38;5;124mtext\u001b[39m\u001b[38;5;124m\"\u001b[39m)\n\u001b[1;32m    228\u001b[0m     \u001b[38;5;28;01mraise\u001b[39;00m exception_class(message, screen, stacktrace, alert_text)  \u001b[38;5;66;03m# type: ignore[call-arg]  # mypy is not smart enough here\u001b[39;00m\n\u001b[0;32m--> 229\u001b[0m \u001b[38;5;28;01mraise\u001b[39;00m exception_class(message, screen, stacktrace)\n",
            "\u001b[0;31mNoSuchElementException\u001b[0m: Message: no such element: Unable to locate element: {\"method\":\"xpath\",\"selector\":\"//*[@id=\"mG61Hd\"]/div[2]/div/div[2]/div[4]/div/div/div[2]/div/div[1]/div/div[1]/input\"}\n  (Session info: chrome=129.0.6668.58); For documentation on this error, please visit: https://www.selenium.dev/documentation/webdriver/troubleshooting/errors#no-such-element-exception\nStacktrace:\n#0 0x55feaf21610a <unknown>\n#1 0x55feaeefc5e0 <unknown>\n#2 0x55feaef4bbe8 <unknown>\n#3 0x55feaef4be81 <unknown>\n#4 0x55feaef928c4 <unknown>\n#5 0x55feaef70b4d <unknown>\n#6 0x55feaef8fd7d <unknown>\n#7 0x55feaef708c3 <unknown>\n#8 0x55feaef3e6b3 <unknown>\n#9 0x55feaef3f68e <unknown>\n#10 0x55feaf1e0b0b <unknown>\n#11 0x55feaf1e4a91 <unknown>\n#12 0x55feaf1cd305 <unknown>\n#13 0x55feaf1e5612 <unknown>\n#14 0x55feaf1b246f <unknown>\n#15 0x55feaf205008 <unknown>\n#16 0x55feaf2051d3 <unknown>\n#17 0x55feaf214f5c <unknown>\n#18 0x7f53472b7ac3 <unknown>\n"
          ]
        }
      ],
      "source": [
        "\n",
        "from selenium import webdriver\n",
        "from webdriver_manager.chrome import ChromeDriverManager # sustituye al archivo\n",
        "from selenium.webdriver.chrome.options import Options # opciones de chrome\n",
        "from selenium.webdriver.common.by import By # By es para buscar por tag, clase, id...\n",
        "from selenium.webdriver.support.ui import WebDriverWait   # para meter esperaras\n",
        "from selenium.webdriver.support import expected_conditions as EC   # para esperar ciertos eventos\n",
        "from selenium.webdriver import ActionChains # para hacer acciones con el ratón\n",
        "from dotenv import load_dotenv\n",
        "import time\n",
        "import random\n",
        "import os\n",
        "import selenium.webdriver.common.keys as Keys # para simular teclas\n",
        "\n",
        "#Opciones de chrome\n",
        "opciones = webdriver.ChromeOptions()\n",
        "#opciones.add_argument('--start-maximized')\n",
        "opciones.add_argument('window-size=775,1400')\n",
        "opciones.add_argument('--disable-extensions')\n",
        "opciones.add_argument('--disable-blink-features=AutomationControlled')\n",
        "opciones.add_argument('--no-sandbox')\n",
        "opciones.add_experimental_option('useAutomationExtension', False)\n",
        "opciones.add_experimental_option('excludeSwitches', ['enable-automation'])\n",
        "\n",
        "# guardar las cookies\n",
        "# opciones.add_argument('user-data-dir=cookies')    # mantiene las cookies\n",
        "opciones.add_argument('--incognito') # modo incognito\n",
        "# Cargar las variables del archivo .env\n",
        "load_dotenv()\n",
        "\n",
        "# Obtener el usuario y la contraseña de las variables de entorno\n",
        "usuario = os.getenv('User')\n",
        "passw = os.getenv('Pass')\n",
        "\n",
        "url = 'https://forms.gle/7jKq7vHV7V1R3NbR8'  #Web por cierto muy interesante\n",
        "driver = webdriver.Chrome(options=opciones)\n",
        "driver.get(url)\n",
        "\n",
        "#rellenamos el email\n",
        "\n",
        "#Nombre\n",
        "email = driver.find_element(By.ID,\"identifierId\")\n",
        "time.sleep(1)\n",
        "cuadro_de_relleno= usuario\n",
        "for letra in cuadro_de_relleno:\n",
        "    email.send_keys(letra)\n",
        "    time.sleep(random.uniform(0.3,0.3))\n",
        "\n",
        "#Vamos a buscar el boton de enviar\n",
        "time.sleep(3)\n",
        "boton_nex = driver.find_element(By.XPATH, '//*[@id=\"identifierNext\"]/div/button/span').click()\n",
        "time.sleep(3)\n",
        "\n",
        "#password\n",
        "imput_password = driver.find_element(By.XPATH, '//*[@id=\"password\"]/div[1]/div/div[1]/input')\n",
        "time.sleep(1)\n",
        "cuadro_de_relleno= passw\n",
        "for letra in cuadro_de_relleno:\n",
        "    imput_password.send_keys(letra)\n",
        "    time.sleep(random.uniform(0.3,0.3))\n",
        "imput_password.submit()\n",
        "\n",
        "time.sleep(3)\n",
        "boton_nex2 = driver.find_element(By.XPATH, '//*[@id=\"passwordNext\"]/div/button/span').click()\n",
        "time.sleep(3)\n",
        "\n",
        "#Recordar correo\n",
        "recordar_correo = driver.find_element(By.ID,'i5').click()\n",
        "time.sleep(3)\n",
        "\n",
        "#pregunta, con Selenium puedo?\n",
        "preguta1 = driver.find_element(By.XPATH, '//*[@id=\"mG61Hd\"]/div[2]/div/div[2]/div[2]/div/div/div[2]/div[1]/div/span/div/div[4]/label/div/div[2]/div/span').click()\n",
        "time.sleep(3)\n",
        "\n",
        "#Scroll hasta la mitad de la página\n",
        "driver.execute_script(\"window.scrollTo(0, document.body.scrollHeight/3);\")\n",
        "\n",
        "#Localizamos el iframe del video \n",
        "iframe = driver.find_element(By.XPATH, '//*[@id=\"mG61Hd\"]/div[2]/div/div[2]/div[3]/div/div[2]/iframe')\n",
        "time.sleep(3)\n",
        "\n",
        "#Cambio iframe\n",
        "driver.switch_to.frame(iframe)\n",
        "time.sleep(3)\n",
        "\n",
        "# Reproducir video\n",
        "reproducir = driver.find_element(By.ID, 'player').click()\n",
        "time.sleep(5)\n",
        "\n",
        "#Extaemos la URL del video \n",
        "url_video = driver.find_element(By.XPATH, '//*[@id=\"movie_player\"]/div[3]/div[2]/div/a').get_attribute('href')\n",
        "print(f'URL video:{url_video}')\n",
        "\n",
        "time.sleep(3)\n",
        "\n",
        "\n"
      ]
    },
    {
      "cell_type": "code",
      "execution_count": 194,
      "metadata": {},
      "outputs": [],
      "source": [
        "driver.quit()\n"
      ]
    },
    {
      "cell_type": "code",
      "execution_count": 196,
      "metadata": {},
      "outputs": [
        {
          "ename": "NoSuchElementException",
          "evalue": "Message: no such element: Unable to locate element: {\"method\":\"xpath\",\"selector\":\"//*[@id=\"password\"]/div[1]/div/div[1]/input\"}\n  (Session info: chrome=129.0.6668.58); For documentation on this error, please visit: https://www.selenium.dev/documentation/webdriver/troubleshooting/errors#no-such-element-exception\nStacktrace:\n#0 0x5647530d510a <unknown>\n#1 0x564752dbb5e0 <unknown>\n#2 0x564752e0abe8 <unknown>\n#3 0x564752e0ae81 <unknown>\n#4 0x564752e518c4 <unknown>\n#5 0x564752e2fb4d <unknown>\n#6 0x564752e4ed7d <unknown>\n#7 0x564752e2f8c3 <unknown>\n#8 0x564752dfd6b3 <unknown>\n#9 0x564752dfe68e <unknown>\n#10 0x56475309fb0b <unknown>\n#11 0x5647530a3a91 <unknown>\n#12 0x56475308c305 <unknown>\n#13 0x5647530a4612 <unknown>\n#14 0x56475307146f <unknown>\n#15 0x5647530c4008 <unknown>\n#16 0x5647530c41d3 <unknown>\n#17 0x5647530d3f5c <unknown>\n#18 0x7fec44ffcac3 <unknown>\n",
          "output_type": "error",
          "traceback": [
            "\u001b[0;31m---------------------------------------------------------------------------\u001b[0m",
            "\u001b[0;31mNoSuchElementException\u001b[0m                    Traceback (most recent call last)",
            "Cell \u001b[0;32mIn[196], line 50\u001b[0m\n\u001b[1;32m     46\u001b[0m driver\u001b[38;5;241m.\u001b[39mfind_element(By\u001b[38;5;241m.\u001b[39mXPATH, \u001b[38;5;124m'\u001b[39m\u001b[38;5;124m//*[@id=\u001b[39m\u001b[38;5;124m\"\u001b[39m\u001b[38;5;124midentifierNext\u001b[39m\u001b[38;5;124m\"\u001b[39m\u001b[38;5;124m]/div/button/span\u001b[39m\u001b[38;5;124m'\u001b[39m)\u001b[38;5;241m.\u001b[39mclick()\n\u001b[1;32m     49\u001b[0m \u001b[38;5;66;03m# Rellenar la contraseña\u001b[39;00m\n\u001b[0;32m---> 50\u001b[0m password_field \u001b[38;5;241m=\u001b[39m \u001b[43mdriver\u001b[49m\u001b[38;5;241;43m.\u001b[39;49m\u001b[43mfind_element\u001b[49m\u001b[43m(\u001b[49m\u001b[43mBy\u001b[49m\u001b[38;5;241;43m.\u001b[39;49m\u001b[43mXPATH\u001b[49m\u001b[43m,\u001b[49m\u001b[43m \u001b[49m\u001b[38;5;124;43m'\u001b[39;49m\u001b[38;5;124;43m//*[@id=\u001b[39;49m\u001b[38;5;124;43m\"\u001b[39;49m\u001b[38;5;124;43mpassword\u001b[39;49m\u001b[38;5;124;43m\"\u001b[39;49m\u001b[38;5;124;43m]/div[1]/div/div[1]/input\u001b[39;49m\u001b[38;5;124;43m'\u001b[39;49m\u001b[43m)\u001b[49m\n\u001b[1;32m     51\u001b[0m \u001b[38;5;28;01mfor\u001b[39;00m letra \u001b[38;5;129;01min\u001b[39;00m passw:\n\u001b[1;32m     52\u001b[0m     password_field\u001b[38;5;241m.\u001b[39msend_keys(letra)\n",
            "File \u001b[0;32m~/miniconda3/envs/gamma/lib/python3.12/site-packages/selenium/webdriver/remote/webdriver.py:748\u001b[0m, in \u001b[0;36mWebDriver.find_element\u001b[0;34m(self, by, value)\u001b[0m\n\u001b[1;32m    745\u001b[0m     by \u001b[38;5;241m=\u001b[39m By\u001b[38;5;241m.\u001b[39mCSS_SELECTOR\n\u001b[1;32m    746\u001b[0m     value \u001b[38;5;241m=\u001b[39m \u001b[38;5;124mf\u001b[39m\u001b[38;5;124m'\u001b[39m\u001b[38;5;124m[name=\u001b[39m\u001b[38;5;124m\"\u001b[39m\u001b[38;5;132;01m{\u001b[39;00mvalue\u001b[38;5;132;01m}\u001b[39;00m\u001b[38;5;124m\"\u001b[39m\u001b[38;5;124m]\u001b[39m\u001b[38;5;124m'\u001b[39m\n\u001b[0;32m--> 748\u001b[0m \u001b[38;5;28;01mreturn\u001b[39;00m \u001b[38;5;28;43mself\u001b[39;49m\u001b[38;5;241;43m.\u001b[39;49m\u001b[43mexecute\u001b[49m\u001b[43m(\u001b[49m\u001b[43mCommand\u001b[49m\u001b[38;5;241;43m.\u001b[39;49m\u001b[43mFIND_ELEMENT\u001b[49m\u001b[43m,\u001b[49m\u001b[43m \u001b[49m\u001b[43m{\u001b[49m\u001b[38;5;124;43m\"\u001b[39;49m\u001b[38;5;124;43musing\u001b[39;49m\u001b[38;5;124;43m\"\u001b[39;49m\u001b[43m:\u001b[49m\u001b[43m \u001b[49m\u001b[43mby\u001b[49m\u001b[43m,\u001b[49m\u001b[43m \u001b[49m\u001b[38;5;124;43m\"\u001b[39;49m\u001b[38;5;124;43mvalue\u001b[39;49m\u001b[38;5;124;43m\"\u001b[39;49m\u001b[43m:\u001b[49m\u001b[43m \u001b[49m\u001b[43mvalue\u001b[49m\u001b[43m}\u001b[49m\u001b[43m)\u001b[49m[\u001b[38;5;124m\"\u001b[39m\u001b[38;5;124mvalue\u001b[39m\u001b[38;5;124m\"\u001b[39m]\n",
            "File \u001b[0;32m~/miniconda3/envs/gamma/lib/python3.12/site-packages/selenium/webdriver/remote/webdriver.py:354\u001b[0m, in \u001b[0;36mWebDriver.execute\u001b[0;34m(self, driver_command, params)\u001b[0m\n\u001b[1;32m    352\u001b[0m response \u001b[38;5;241m=\u001b[39m \u001b[38;5;28mself\u001b[39m\u001b[38;5;241m.\u001b[39mcommand_executor\u001b[38;5;241m.\u001b[39mexecute(driver_command, params)\n\u001b[1;32m    353\u001b[0m \u001b[38;5;28;01mif\u001b[39;00m response:\n\u001b[0;32m--> 354\u001b[0m     \u001b[38;5;28;43mself\u001b[39;49m\u001b[38;5;241;43m.\u001b[39;49m\u001b[43merror_handler\u001b[49m\u001b[38;5;241;43m.\u001b[39;49m\u001b[43mcheck_response\u001b[49m\u001b[43m(\u001b[49m\u001b[43mresponse\u001b[49m\u001b[43m)\u001b[49m\n\u001b[1;32m    355\u001b[0m     response[\u001b[38;5;124m\"\u001b[39m\u001b[38;5;124mvalue\u001b[39m\u001b[38;5;124m\"\u001b[39m] \u001b[38;5;241m=\u001b[39m \u001b[38;5;28mself\u001b[39m\u001b[38;5;241m.\u001b[39m_unwrap_value(response\u001b[38;5;241m.\u001b[39mget(\u001b[38;5;124m\"\u001b[39m\u001b[38;5;124mvalue\u001b[39m\u001b[38;5;124m\"\u001b[39m, \u001b[38;5;28;01mNone\u001b[39;00m))\n\u001b[1;32m    356\u001b[0m     \u001b[38;5;28;01mreturn\u001b[39;00m response\n",
            "File \u001b[0;32m~/miniconda3/envs/gamma/lib/python3.12/site-packages/selenium/webdriver/remote/errorhandler.py:229\u001b[0m, in \u001b[0;36mErrorHandler.check_response\u001b[0;34m(self, response)\u001b[0m\n\u001b[1;32m    227\u001b[0m         alert_text \u001b[38;5;241m=\u001b[39m value[\u001b[38;5;124m\"\u001b[39m\u001b[38;5;124malert\u001b[39m\u001b[38;5;124m\"\u001b[39m]\u001b[38;5;241m.\u001b[39mget(\u001b[38;5;124m\"\u001b[39m\u001b[38;5;124mtext\u001b[39m\u001b[38;5;124m\"\u001b[39m)\n\u001b[1;32m    228\u001b[0m     \u001b[38;5;28;01mraise\u001b[39;00m exception_class(message, screen, stacktrace, alert_text)  \u001b[38;5;66;03m# type: ignore[call-arg]  # mypy is not smart enough here\u001b[39;00m\n\u001b[0;32m--> 229\u001b[0m \u001b[38;5;28;01mraise\u001b[39;00m exception_class(message, screen, stacktrace)\n",
            "\u001b[0;31mNoSuchElementException\u001b[0m: Message: no such element: Unable to locate element: {\"method\":\"xpath\",\"selector\":\"//*[@id=\"password\"]/div[1]/div/div[1]/input\"}\n  (Session info: chrome=129.0.6668.58); For documentation on this error, please visit: https://www.selenium.dev/documentation/webdriver/troubleshooting/errors#no-such-element-exception\nStacktrace:\n#0 0x5647530d510a <unknown>\n#1 0x564752dbb5e0 <unknown>\n#2 0x564752e0abe8 <unknown>\n#3 0x564752e0ae81 <unknown>\n#4 0x564752e518c4 <unknown>\n#5 0x564752e2fb4d <unknown>\n#6 0x564752e4ed7d <unknown>\n#7 0x564752e2f8c3 <unknown>\n#8 0x564752dfd6b3 <unknown>\n#9 0x564752dfe68e <unknown>\n#10 0x56475309fb0b <unknown>\n#11 0x5647530a3a91 <unknown>\n#12 0x56475308c305 <unknown>\n#13 0x5647530a4612 <unknown>\n#14 0x56475307146f <unknown>\n#15 0x5647530c4008 <unknown>\n#16 0x5647530c41d3 <unknown>\n#17 0x5647530d3f5c <unknown>\n#18 0x7fec44ffcac3 <unknown>\n"
          ]
        }
      ],
      "source": [
        "from selenium import webdriver\n",
        "from selenium.webdriver.chrome.options import Options # Opciones de Chrome\n",
        "from selenium.webdriver.common.by import By # Para buscar por tag, clase, id, etc.\n",
        "from selenium.webdriver.support.ui import WebDriverWait # Para manejar esperas\n",
        "from selenium.webdriver.support import expected_conditions as EC # Para condiciones de espera\n",
        "from selenium.webdriver import ActionChains # Para realizar acciones con el ratón\n",
        "from dotenv import load_dotenv # Para cargar las variables de entorno\n",
        "import time\n",
        "import random\n",
        "import os\n",
        "\n",
        "# Cargar variables de entorno\n",
        "load_dotenv()\n",
        "\n",
        "# Obtener usuario y contraseña de las variables de entorno\n",
        "usuario = os.getenv('User')\n",
        "passw = os.getenv('Pass')\n",
        "\n",
        "# Configuración de opciones de Chrome\n",
        "opciones = Options()\n",
        "opciones.add_argument('window-size=775,1400')  # Tamaño personalizado de ventana\n",
        "opciones.add_argument('--disable-extensions')  # Desactivar extensiones\n",
        "opciones.add_argument('--disable-blink-features=AutomationControlled')  # Evitar detección de bot\n",
        "opciones.add_argument('--no-sandbox')\n",
        "opciones.add_experimental_option('useAutomationExtension', False)\n",
        "opciones.add_experimental_option('excludeSwitches', ['enable-automation'])\n",
        "opciones.add_argument('--incognito')  # Modo incógnito\n",
        "\n",
        "# Inicializar el driver\n",
        "driver = webdriver.Chrome(options=opciones)\n",
        "\n",
        "# URL del formulario de Google\n",
        "url = 'https://forms.gle/7jKq7vHV7V1R3NbR8'\n",
        "driver.get(url)\n",
        "\n",
        "# Esperar a que el campo de email esté disponible\n",
        "WebDriverWait(driver, 10).until(EC.presence_of_element_located((By.ID, \"identifierId\")))\n",
        "\n",
        "# Rellenar el email\n",
        "email = driver.find_element(By.ID, \"identifierId\")\n",
        "for letra in usuario:\n",
        "    email.send_keys(letra)\n",
        "    time.sleep(random.uniform(0.05, 0.1))  # Simular escritura humana\n",
        "\n",
        "# Click en el botón \"Siguiente\"\n",
        "driver.find_element(By.XPATH, '//*[@id=\"identifierNext\"]/div/button/span').click()\n",
        "\n",
        "\n",
        "# Rellenar la contraseña\n",
        "password_field = driver.find_element(By.XPATH, '//*[@id=\"password\"]/div[1]/div/div[1]/input')\n",
        "for letra in passw:\n",
        "    password_field.send_keys(letra)\n",
        "    time.sleep(random.uniform(0.05, 0.1))  # Simular escritura humana\n",
        "\n",
        "password_field.submit()\n",
        "\n",
        "# Esperar a que la página cargue tras login\n",
        "WebDriverWait(driver, 10).until(EC.presence_of_element_located((By.ID, 'i5')))\n",
        "\n",
        "# Recordar correo\n",
        "driver.find_element(By.ID, 'i5').click()\n",
        "\n",
        "# Responder la primera pregunta\n",
        "WebDriverWait(driver, 10).until(EC.presence_of_element_located((By.XPATH, '//*[@id=\"mG61Hd\"]/div[2]/div/div[2]/div[2]/div/div/div[2]/div[1]/div/span/div/div[4]/label/div/div[2]/div/span')))\n",
        "driver.find_element(By.XPATH, '//*[@id=\"mG61Hd\"]/div[2]/div/div[2]/div[2]/div/div/div[2]/div[1]/div/span/div/div[4]/label/div/div[2]/div/span').click()\n",
        "\n",
        "# Desplazarse a la mitad de la página\n",
        "driver.execute_script(\"window.scrollTo(0, document.body.scrollHeight/3);\")\n",
        "\n"
      ]
    },
    {
      "cell_type": "code",
      "execution_count": 2,
      "metadata": {},
      "outputs": [
        {
          "ename": "NoSuchElementException",
          "evalue": "Message: no such element: Unable to locate element: {\"method\":\"xpath\",\"selector\":\"//*[@id=\"mG61Hd\"]/div[2]/div/div[2]/div[4]/div/div/div[2]/div/div[1]/div/div[1]/input\"}\n  (Session info: chrome=129.0.6668.58); For documentation on this error, please visit: https://www.selenium.dev/documentation/webdriver/troubleshooting/errors#no-such-element-exception\nStacktrace:\n#0 0x55feaf21610a <unknown>\n#1 0x55feaeefc5e0 <unknown>\n#2 0x55feaef4bbe8 <unknown>\n#3 0x55feaef4be81 <unknown>\n#4 0x55feaef928c4 <unknown>\n#5 0x55feaef70b4d <unknown>\n#6 0x55feaef8fd7d <unknown>\n#7 0x55feaef708c3 <unknown>\n#8 0x55feaef3e6b3 <unknown>\n#9 0x55feaef3f68e <unknown>\n#10 0x55feaf1e0b0b <unknown>\n#11 0x55feaf1e4a91 <unknown>\n#12 0x55feaf1cd305 <unknown>\n#13 0x55feaf1e5612 <unknown>\n#14 0x55feaf1b246f <unknown>\n#15 0x55feaf205008 <unknown>\n#16 0x55feaf2051d3 <unknown>\n#17 0x55feaf214f5c <unknown>\n#18 0x7f53472b7ac3 <unknown>\n",
          "output_type": "error",
          "traceback": [
            "\u001b[0;31m---------------------------------------------------------------------------\u001b[0m",
            "\u001b[0;31mNoSuchElementException\u001b[0m                    Traceback (most recent call last)",
            "Cell \u001b[0;32mIn[2], line 2\u001b[0m\n\u001b[1;32m      1\u001b[0m \u001b[38;5;66;03m# Escribe url del video\u001b[39;00m\n\u001b[0;32m----> 2\u001b[0m input_url_video \u001b[38;5;241m=\u001b[39m \u001b[43mdriver\u001b[49m\u001b[38;5;241;43m.\u001b[39;49m\u001b[43mfind_element\u001b[49m\u001b[43m(\u001b[49m\u001b[43mBy\u001b[49m\u001b[38;5;241;43m.\u001b[39;49m\u001b[43mXPATH\u001b[49m\u001b[43m,\u001b[49m\u001b[38;5;124;43m'\u001b[39;49m\u001b[38;5;124;43m//*[@id=\u001b[39;49m\u001b[38;5;124;43m\"\u001b[39;49m\u001b[38;5;124;43mmG61Hd\u001b[39;49m\u001b[38;5;124;43m\"\u001b[39;49m\u001b[38;5;124;43m]/div[2]/div/div[2]/div[4]/div/div/div[2]/div/div[1]/div/div[1]/input\u001b[39;49m\u001b[38;5;124;43m'\u001b[39;49m\u001b[43m)\u001b[49m\n\u001b[1;32m      3\u001b[0m time\u001b[38;5;241m.\u001b[39msleep(\u001b[38;5;241m1\u001b[39m)\n\u001b[1;32m      4\u001b[0m linea_url_video \u001b[38;5;241m=\u001b[39m url_video\n",
            "File \u001b[0;32m~/miniconda3/envs/gamma/lib/python3.12/site-packages/selenium/webdriver/remote/webdriver.py:748\u001b[0m, in \u001b[0;36mWebDriver.find_element\u001b[0;34m(self, by, value)\u001b[0m\n\u001b[1;32m    745\u001b[0m     by \u001b[38;5;241m=\u001b[39m By\u001b[38;5;241m.\u001b[39mCSS_SELECTOR\n\u001b[1;32m    746\u001b[0m     value \u001b[38;5;241m=\u001b[39m \u001b[38;5;124mf\u001b[39m\u001b[38;5;124m'\u001b[39m\u001b[38;5;124m[name=\u001b[39m\u001b[38;5;124m\"\u001b[39m\u001b[38;5;132;01m{\u001b[39;00mvalue\u001b[38;5;132;01m}\u001b[39;00m\u001b[38;5;124m\"\u001b[39m\u001b[38;5;124m]\u001b[39m\u001b[38;5;124m'\u001b[39m\n\u001b[0;32m--> 748\u001b[0m \u001b[38;5;28;01mreturn\u001b[39;00m \u001b[38;5;28;43mself\u001b[39;49m\u001b[38;5;241;43m.\u001b[39;49m\u001b[43mexecute\u001b[49m\u001b[43m(\u001b[49m\u001b[43mCommand\u001b[49m\u001b[38;5;241;43m.\u001b[39;49m\u001b[43mFIND_ELEMENT\u001b[49m\u001b[43m,\u001b[49m\u001b[43m \u001b[49m\u001b[43m{\u001b[49m\u001b[38;5;124;43m\"\u001b[39;49m\u001b[38;5;124;43musing\u001b[39;49m\u001b[38;5;124;43m\"\u001b[39;49m\u001b[43m:\u001b[49m\u001b[43m \u001b[49m\u001b[43mby\u001b[49m\u001b[43m,\u001b[49m\u001b[43m \u001b[49m\u001b[38;5;124;43m\"\u001b[39;49m\u001b[38;5;124;43mvalue\u001b[39;49m\u001b[38;5;124;43m\"\u001b[39;49m\u001b[43m:\u001b[49m\u001b[43m \u001b[49m\u001b[43mvalue\u001b[49m\u001b[43m}\u001b[49m\u001b[43m)\u001b[49m[\u001b[38;5;124m\"\u001b[39m\u001b[38;5;124mvalue\u001b[39m\u001b[38;5;124m\"\u001b[39m]\n",
            "File \u001b[0;32m~/miniconda3/envs/gamma/lib/python3.12/site-packages/selenium/webdriver/remote/webdriver.py:354\u001b[0m, in \u001b[0;36mWebDriver.execute\u001b[0;34m(self, driver_command, params)\u001b[0m\n\u001b[1;32m    352\u001b[0m response \u001b[38;5;241m=\u001b[39m \u001b[38;5;28mself\u001b[39m\u001b[38;5;241m.\u001b[39mcommand_executor\u001b[38;5;241m.\u001b[39mexecute(driver_command, params)\n\u001b[1;32m    353\u001b[0m \u001b[38;5;28;01mif\u001b[39;00m response:\n\u001b[0;32m--> 354\u001b[0m     \u001b[38;5;28;43mself\u001b[39;49m\u001b[38;5;241;43m.\u001b[39;49m\u001b[43merror_handler\u001b[49m\u001b[38;5;241;43m.\u001b[39;49m\u001b[43mcheck_response\u001b[49m\u001b[43m(\u001b[49m\u001b[43mresponse\u001b[49m\u001b[43m)\u001b[49m\n\u001b[1;32m    355\u001b[0m     response[\u001b[38;5;124m\"\u001b[39m\u001b[38;5;124mvalue\u001b[39m\u001b[38;5;124m\"\u001b[39m] \u001b[38;5;241m=\u001b[39m \u001b[38;5;28mself\u001b[39m\u001b[38;5;241m.\u001b[39m_unwrap_value(response\u001b[38;5;241m.\u001b[39mget(\u001b[38;5;124m\"\u001b[39m\u001b[38;5;124mvalue\u001b[39m\u001b[38;5;124m\"\u001b[39m, \u001b[38;5;28;01mNone\u001b[39;00m))\n\u001b[1;32m    356\u001b[0m     \u001b[38;5;28;01mreturn\u001b[39;00m response\n",
            "File \u001b[0;32m~/miniconda3/envs/gamma/lib/python3.12/site-packages/selenium/webdriver/remote/errorhandler.py:229\u001b[0m, in \u001b[0;36mErrorHandler.check_response\u001b[0;34m(self, response)\u001b[0m\n\u001b[1;32m    227\u001b[0m         alert_text \u001b[38;5;241m=\u001b[39m value[\u001b[38;5;124m\"\u001b[39m\u001b[38;5;124malert\u001b[39m\u001b[38;5;124m\"\u001b[39m]\u001b[38;5;241m.\u001b[39mget(\u001b[38;5;124m\"\u001b[39m\u001b[38;5;124mtext\u001b[39m\u001b[38;5;124m\"\u001b[39m)\n\u001b[1;32m    228\u001b[0m     \u001b[38;5;28;01mraise\u001b[39;00m exception_class(message, screen, stacktrace, alert_text)  \u001b[38;5;66;03m# type: ignore[call-arg]  # mypy is not smart enough here\u001b[39;00m\n\u001b[0;32m--> 229\u001b[0m \u001b[38;5;28;01mraise\u001b[39;00m exception_class(message, screen, stacktrace)\n",
            "\u001b[0;31mNoSuchElementException\u001b[0m: Message: no such element: Unable to locate element: {\"method\":\"xpath\",\"selector\":\"//*[@id=\"mG61Hd\"]/div[2]/div/div[2]/div[4]/div/div/div[2]/div/div[1]/div/div[1]/input\"}\n  (Session info: chrome=129.0.6668.58); For documentation on this error, please visit: https://www.selenium.dev/documentation/webdriver/troubleshooting/errors#no-such-element-exception\nStacktrace:\n#0 0x55feaf21610a <unknown>\n#1 0x55feaeefc5e0 <unknown>\n#2 0x55feaef4bbe8 <unknown>\n#3 0x55feaef4be81 <unknown>\n#4 0x55feaef928c4 <unknown>\n#5 0x55feaef70b4d <unknown>\n#6 0x55feaef8fd7d <unknown>\n#7 0x55feaef708c3 <unknown>\n#8 0x55feaef3e6b3 <unknown>\n#9 0x55feaef3f68e <unknown>\n#10 0x55feaf1e0b0b <unknown>\n#11 0x55feaf1e4a91 <unknown>\n#12 0x55feaf1cd305 <unknown>\n#13 0x55feaf1e5612 <unknown>\n#14 0x55feaf1b246f <unknown>\n#15 0x55feaf205008 <unknown>\n#16 0x55feaf2051d3 <unknown>\n#17 0x55feaf214f5c <unknown>\n#18 0x7f53472b7ac3 <unknown>\n"
          ]
        }
      ],
      "source": []
    },
    {
      "cell_type": "code",
      "execution_count": null,
      "metadata": {},
      "outputs": [],
      "source": [
        "# Cambiar al iframe del video y reproducirlo\n",
        "iframe = WebDriverWait(driver, 10).until(EC.presence_of_element_located((By.XPATH, '//*[@id=\"mG61Hd\"]/div[2]/div/div[2]/div[3]/div/div[2]/iframe')))\n",
        "driver.switch_to.frame(iframe)\n",
        "WebDriverWait(driver, 10).until(EC.presence_of_element_located((By.ID, 'player'))).click()\n",
        "\n",
        "# Obtener la URL del video\n",
        "time.sleep(5)  # Asegurarse de que el video se haya cargado correctamente\n",
        "url_video = driver.find_element(By.XPATH, '//*[@id=\"movie_player\"]/div[3]/div[2]/div/a').get_attribute('href')\n",
        "print(f'URL del video: {url_video}')\n",
        "\n",
        "# Volver al contenido principal\n",
        "driver.switch_to.default_content()"
      ]
    },
    {
      "cell_type": "code",
      "execution_count": null,
      "metadata": {},
      "outputs": [],
      "source": [
        "# Escribir la URL del video en el formulario\n",
        "video_input = driver.find_element(By.XPATH, '//*[@id=\"mG61Hd\"]/div[2]/div/div[2]/div[4]/div/div/div[2]/div/div[1]/div/div[1]/input')\n",
        "for letra in url_video:\n",
        "    video_input.send_keys(letra)\n",
        "    time.sleep(random.uniform(0.05, 0.1))"
      ]
    },
    {
      "cell_type": "code",
      "execution_count": null,
      "metadata": {},
      "outputs": [],
      "source": [
        "\n",
        "\n",
        "# Abrir la URL de las imágenes en una nueva pestaña\n",
        "url_imagenes = driver.find_element(By.CSS_SELECTOR, '#i28 > span > a').get_attribute('href')\n",
        "driver.execute_script(f\"window.open('{url_imagenes}')\")\n",
        "driver.switch_to.window(driver.window_handles[1])\n",
        "\n",
        "# Cerrar el cuadro de cookies\n",
        "WebDriverWait(driver, 10).until(EC.element_to_be_clickable((By.CSS_SELECTOR, 'body > dialog > button'))).click()\n",
        "\n",
        "# Desplazarse al final de la página para cargar más imágenes\n",
        "driver.execute_script(\"window.scrollTo(0, document.body.scrollHeight);\")\n",
        "\n",
        "# Obtener las URLs de las imágenes\n",
        "columna_izq = driver.find_element(By.CSS_SELECTOR, '.m3xjc.NZxG4.n6mLh.BOC6f .LYMM9 div:nth-child(1)')\n",
        "columna_der = driver.find_element(By.CSS_SELECTOR, '.m3xjc.NZxG4.n6mLh.BOC6f .LYMM9 div:nth-child(2)')\n",
        "\n",
        "urls_izq = [foto.get_attribute('href') for foto in columna_izq.find_elements(By.CLASS_NAME, 'zNNw1')]\n",
        "urls_der = [foto.get_attribute('href') for foto in columna_der.find_elements(By.CLASS_NAME, 'zNNw1')]\n",
        "\n",
        "# Unir las URLs de ambas columnas\n",
        "todas_las_fotos = urls_izq + urls_der\n",
        "print(f'Todas las fotos: {todas_las_fotos}')\n",
        "\n",
        "# Cerrar la pestaña actual y volver a la anterior\n",
        "driver.close()\n",
        "driver.switch_to.window(driver.window_handles[0])\n",
        "\n",
        "# Pegar las URLs de las imágenes en el formulario\n",
        "rellenar_url_input = driver.find_element(By.CSS_SELECTOR, '#mG61Hd > div.RH5hzf.RLS9Fe > div > div.o3Dpx > div:nth-child(6) > div > div > div.AgroKb > div > div.aCsJod.oJeWuf > div > div.Xb9hP > input')\n",
        "\n",
        "for i, url in enumerate(todas_las_fotos):\n",
        "    rellenar_url_input.send_keys(f'foto {i+1}: {url}; ')\n",
        "    time.sleep(random.uniform(0.1, 0.2))\n",
        "\n",
        "# Pegar las primeras 6 URLs en otro campo\n",
        "rellenar_6url_input = driver.find_element(By.CSS_SELECTOR, '#mG61Hd > div.RH5hzf.RLS9Fe > div > div.o3Dpx > div:nth-child(7) > div > div > div.AgroKb > div > div.RpC4Ne.oJeWuf > div.Pc9Gce.Wic03c > textarea')\n",
        "\n",
        "for i, url in enumerate(todas_las_fotos[:6]):\n",
        "    rellenar_6url_input.send_keys(f'foto {i+1}: {url}; ')\n",
        "    time.sleep(random.uniform(0.1, 0.2))\n",
        "\n",
        "# Navegar a la siguiente página del formulario\n",
        "driver.find_element(By.XPATH, '//*[@id=\"mG61Hd\"]/div[2]/div/div[3]/div[1]/div[1]/div/span').click()\n",
        "\n",
        "# Responder la pregunta de cuánto te gusta Selenium\n",
        "driver.find_element(By.XPATH, '//*[@id=\"mG61Hd\"]/div[2]/div/div[2]/div[2]/div/div/div[2]/div/span/div/label[4]/div[2]/div/div/div[3]/div').click()\n",
        "\n",
        "# Completar las casillas de tres en raya\n",
        "tres_en_raya = [\n",
        "    '//*[@id=\"mG61Hd\"]/div[2]/div/div[2]/div[3]/div/div/div[2]/div/div[1]/div/div[2]/label[1]/div/div/div[2]',\n",
        "    '//*[@id=\"mG61Hd\"]/div[2]/div/div[2]/div[3]/div/div/div[2]/div/div[1]/div/div[4]/label[1]/div/div/div[2]',\n",
        "    '//*[@id=\"mG61Hd\"]/div[2]/div/div[2]/div[3]/div/div/div[2]/div/div[1]/div/div[6]/label[1]/div/div/div[2]'\n",
        "]\n",
        "\n",
        "for xpath in tres_en_raya:\n",
        "    driver.find_element(By.XPATH, xpath).click()\n",
        "    time.sleep(1)\n",
        "\n",
        "# Responder la última pregunta del formulario\n",
        "driver.find_element(By.CSS_SELECTOR, '#mG61Hd > div.RH5hzf.RLS9Fe > div > div.o3Dpx > div:nth-child(4) > div > div > div.vQES8d > div > div:nth-child(1) > div.ry3kXd > div.MocG8c.HZ3kWc.mhLiyf.LMgvRb.KKjvXb.DEh1R').click()\n",
        "driver.find_element(By.XPATH, '//*[@id=\"mG61Hd\"]/div[2]/div/div[2]/div[4]/div/div/div[2]/div/div[2]/div[5]/span').click()\n",
        "\n",
        "# Finaliza el proceso\n",
        "print(\"Formulario completado.\")\n"
      ]
    },
    {
      "cell_type": "code",
      "execution_count": null,
      "metadata": {},
      "outputs": [],
      "source": []
    }
  ],
  "metadata": {
    "colab": {
      "provenance": []
    },
    "kernelspec": {
      "display_name": "Python 3 (ipykernel)",
      "language": "python",
      "name": "python3"
    },
    "language_info": {
      "codemirror_mode": {
        "name": "ipython",
        "version": 3
      },
      "file_extension": ".py",
      "mimetype": "text/x-python",
      "name": "python",
      "nbconvert_exporter": "python",
      "pygments_lexer": "ipython3",
      "version": "3.12.4"
    },
    "varInspector": {
      "cols": {
        "lenName": 16,
        "lenType": 16,
        "lenVar": 40
      },
      "kernels_config": {
        "python": {
          "delete_cmd_postfix": "",
          "delete_cmd_prefix": "del ",
          "library": "var_list.py",
          "varRefreshCmd": "print(var_dic_list())"
        },
        "r": {
          "delete_cmd_postfix": ") ",
          "delete_cmd_prefix": "rm(",
          "library": "var_list.r",
          "varRefreshCmd": "cat(var_dic_list()) "
        }
      },
      "types_to_exclude": [
        "module",
        "function",
        "builtin_function_or_method",
        "instance",
        "_Feature"
      ],
      "window_display": false
    }
  },
  "nbformat": 4,
  "nbformat_minor": 0
}
