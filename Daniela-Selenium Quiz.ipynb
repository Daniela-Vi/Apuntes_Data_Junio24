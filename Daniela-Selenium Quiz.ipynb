{
  "cells": [
    {
      "cell_type": "markdown",
      "metadata": {},
      "source": [
        "Aquí está tu último reto con Selenum.\n",
        "\n",
        "En esta sección o en el enlace  https://forms.gle/7jKq7vHV7V1R3NbR8 encontraréis un formulario, el cual hay que responder usando un script de Selenium.\n",
        "\n",
        "A lo largo del reto tendréis que hacer muchas interacciones con la web, cookies, loguearos, teclear, seleccionar... y finalmente subir dentro del cuestionario el notebook con vuestro código ejecutable.\n"
      ]
    },
    {
      "cell_type": "code",
      "execution_count": 38,
      "metadata": {},
      "outputs": [
        {
          "name": "stdout",
          "output_type": "stream",
          "text": [
            "Requirement already satisfied: python-dotenv in /home/daniela/miniconda3/envs/gamma/lib/python3.12/site-packages (1.0.1)\n",
            "Note: you may need to restart the kernel to use updated packages.\n"
          ]
        }
      ],
      "source": [
        "pip install python-dotenv"
      ]
    },
    {
      "cell_type": "code",
      "execution_count": 45,
      "metadata": {},
      "outputs": [],
      "source": [
        "\n",
        "from selenium import webdriver\n",
        "from webdriver_manager.chrome import ChromeDriverManager # sustituye al archivo\n",
        "from selenium.webdriver.chrome.options import Options # opciones de chrome\n",
        "from selenium.webdriver.common.by import By # By es para buscar por tag, clase, id...\n",
        "from selenium.webdriver.support.ui import WebDriverWait   # para meter esperaras\n",
        "from selenium.webdriver.support import expected_conditions as EC   # para esperar ciertos eventos\n",
        "from selenium.webdriver import ActionChains # para hacer acciones con el ratón\n",
        "from dotenv import load_dotenv\n",
        "import time\n",
        "import random\n",
        "import os\n",
        "import selenium.webdriver.common.keys as Keys # para simular teclas"
      ]
    },
    {
      "cell_type": "code",
      "execution_count": 46,
      "metadata": {},
      "outputs": [],
      "source": [
        "#Opciones de chrome\n",
        "opciones = webdriver.ChromeOptions()\n",
        "#opciones.add_argument('--start-maximized')\n",
        "opciones.add_argument('window-size=775,1400')\n",
        "opciones.add_argument('--disable-extensions')\n",
        "opciones.add_argument('--disable-blink-features=AutomationControlled')\n",
        "opciones.add_argument('--no-sandbox')\n",
        "opciones.add_experimental_option('useAutomationExtension', False)\n",
        "opciones.add_experimental_option('excludeSwitches', ['enable-automation'])\n",
        "\n",
        "# guardar las cookies\n",
        "# opciones.add_argument('user-data-dir=cookies')    # mantiene las cookies\n",
        "opciones.add_argument('--incognito') # modo incognito"
      ]
    },
    {
      "cell_type": "code",
      "execution_count": 47,
      "metadata": {},
      "outputs": [],
      "source": [
        "# Cargar las variables del archivo .env\n",
        "load_dotenv()\n",
        "\n",
        "# Obtener el usuario y la contraseña de las variables de entorno\n",
        "usuario = os.getenv('MY_USER')\n",
        "contraseña = os.getenv('MY_PASS')\n"
      ]
    },
    {
      "cell_type": "code",
      "execution_count": 53,
      "metadata": {},
      "outputs": [],
      "source": [
        "url = 'https://forms.gle/7jKq7vHV7V1R3NbR8'  #Web por cierto muy interesante\n",
        "driver = webdriver.Chrome(options=opciones)\n",
        "driver.get(url)"
      ]
    },
    {
      "cell_type": "code",
      "execution_count": 56,
      "metadata": {},
      "outputs": [],
      "source": [
        "driver.quit()\n"
      ]
    },
    {
      "cell_type": "code",
      "execution_count": 54,
      "metadata": {},
      "outputs": [],
      "source": [
        "#rellenamos el email\n",
        "\n",
        "#Nombre\n",
        "email = driver.find_element(By.XPATH,'//*[@id=\"identifierId\"]')\n",
        "time.sleep(2)\n",
        "cuadro_de_relleno= usuario\n",
        "for letra in cuadro_de_relleno:\n",
        "    email.send_keys(letra)\n",
        "    time.sleep(random.uniform(0.3,0.75))"
      ]
    },
    {
      "cell_type": "code",
      "execution_count": 55,
      "metadata": {},
      "outputs": [],
      "source": [
        "#Vamos a buscar el boton de enviar\n",
        "\n",
        "boton_nex = driver.find_element(By.XPATH, '//*[@id=\"identifierNext\"]/div/button/span').click()\n",
        "\n",
        "\n"
      ]
    }
  ],
  "metadata": {
    "colab": {
      "provenance": []
    },
    "kernelspec": {
      "display_name": "Python 3 (ipykernel)",
      "language": "python",
      "name": "python3"
    },
    "language_info": {
      "codemirror_mode": {
        "name": "ipython",
        "version": 3
      },
      "file_extension": ".py",
      "mimetype": "text/x-python",
      "name": "python",
      "nbconvert_exporter": "python",
      "pygments_lexer": "ipython3",
      "version": "3.12.4"
    },
    "varInspector": {
      "cols": {
        "lenName": 16,
        "lenType": 16,
        "lenVar": 40
      },
      "kernels_config": {
        "python": {
          "delete_cmd_postfix": "",
          "delete_cmd_prefix": "del ",
          "library": "var_list.py",
          "varRefreshCmd": "print(var_dic_list())"
        },
        "r": {
          "delete_cmd_postfix": ") ",
          "delete_cmd_prefix": "rm(",
          "library": "var_list.r",
          "varRefreshCmd": "cat(var_dic_list()) "
        }
      },
      "types_to_exclude": [
        "module",
        "function",
        "builtin_function_or_method",
        "instance",
        "_Feature"
      ],
      "window_display": false
    }
  },
  "nbformat": 4,
  "nbformat_minor": 0
}
