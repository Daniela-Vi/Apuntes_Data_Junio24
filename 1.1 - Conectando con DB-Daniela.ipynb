{
  "cells": [
    {
      "cell_type": "markdown",
      "metadata": {
        "id": "CBwmwyFvNP3j"
      },
      "source": [
        "# BASES DE DATOS CON PYTHON\n",
        "\n",
        "![Python](https://memgraph.com/images/blog/in-memory-databases-that-work-great-with-python/cover.png)"
      ]
    },
    {
      "cell_type": "markdown",
      "metadata": {
        "id": "C18T7VejNP3l"
      },
      "source": [
        "### 1 - Introducción\n",
        "\n",
        "Desde Python podemos interactuar con distintos tipos de bases de datos, ya sean **relacionales** o **no relacionales**. \n",
        "\n",
        "Para ello, existen distintas **librerías** que nos permiten realizar operaciones `CRUD` (lectura, escritura, actualización y borrado) sobre las bases de datos.\n",
        "\n",
        "Vamos a ver las más comunes y más sencillas por las que podemos empezar a trabajar con bases de datos desde Python.\n",
        "\n",
        "### 2 - MySQL Connector\n",
        "Primera librería que vamos a ver es `mysql-connector-python`. Para instalarla, ejecutamos el siguiente comando:\n",
        "\n",
        "```bash\n",
        "!pip install mysql-connector-python\n",
        "```"
      ]
    },
    {
      "cell_type": "code",
      "execution_count": 5,
      "metadata": {
        "id": "O9l9JuSMNP3m"
      },
      "outputs": [
        {
          "name": "stdout",
          "output_type": "stream",
          "text": [
            "Requirement already satisfied: mysql-connector-python in /home/daniela/miniconda3/envs/gamma/lib/python3.12/site-packages (9.0.0)\n"
          ]
        }
      ],
      "source": [
        "#instalamos la librería en caso de que no la tengamos\n",
        "!pip install mysql-connector-python"
      ]
    },
    {
      "cell_type": "markdown",
      "metadata": {},
      "source": [
        "con estas librerias vamos a poder hacer todo lo que necesitamos "
      ]
    },
    {
      "cell_type": "code",
      "execution_count": 1,
      "metadata": {
        "id": "1KuTuSaNNP3n"
      },
      "outputs": [],
      "source": [
        "import mysql.connector as conn #Alias no estándar, pero muy usado (connection --> conexión)"
      ]
    },
    {
      "cell_type": "markdown",
      "metadata": {
        "id": "D4Z3u_N3NP3n"
      },
      "source": [
        "Vamos a trabajar con `MySQL` en nuestro **localhost**, es decir una base de datos local en nuestro **propio ordenador**.\n",
        "\n",
        "Para empezar a trabajar con MySQL desde Python tendremos que darle la información de :\n",
        "- `Host`: Donde queremos conectarnos (ya sea local o remota)\n",
        "- `Usuario` que se va a conectar\n",
        "- `Credenciales` del usuario\n",
        "- `Nombre` de la base de datos a la que nos queremos conectar (si nuestro usuario tiene acceso a varias bases de datos)\n",
        "- `Puerto` de conexión (No siempre es necesario)"
      ]
    },
    {
      "cell_type": "markdown",
      "metadata": {
        "id": "bZ8j274HNP3o"
      },
      "source": [
        "```python\n",
        "mydb = conn.connect(\n",
        "  host=\"localhost\", #Si no es local, ponemos la IP de la máquina\n",
        "  user=\"root\",\n",
        "  passwd =\"contraseña\", #Nuestra contraseña para acceder a mysql\n",
        "  database=\"BasedeDatos\" #Si queremos conectarnos a una base de datos en concreto, sino entraremos a la raíz\n",
        ")\n",
        "cursor=mydb.cursor() #Creamos un cursor para poder ejecutar comandos, un cursor es un objeto que nos permite interactuar con la base de datos\n",
        "```"
      ]
    },
    {
      "cell_type": "markdown",
      "metadata": {},
      "source": [
        "#### 2.1 - Como SÍ cargar los datos de la conexión"
      ]
    },
    {
      "cell_type": "code",
      "execution_count": 2,
      "metadata": {
        "id": "r8gFIPq754_E"
      },
      "outputs": [
        {
          "data": {
            "text/plain": [
              "True"
            ]
          },
          "execution_count": 2,
          "metadata": {},
          "output_type": "execute_result"
        }
      ],
      "source": [
        "import os\n",
        "from dotenv import load_dotenv # funcion de cargar entorno \n",
        "load_dotenv()"
      ]
    },
    {
      "cell_type": "code",
      "execution_count": 4,
      "metadata": {},
      "outputs": [],
      "source": [
        "#Creamos fichero .env\n",
        "#Comprobamos que lo leemos correctamente"
      ]
    },
    {
      "cell_type": "markdown",
      "metadata": {
        "id": "vY6OlNJHcsPJ"
      },
      "source": [
        "Cuidado con cómo creamos el archivo .env:\n",
        "```\n",
        "variable=valor_de_la_variable\n",
        "```\n",
        "\n",
        "Sin espacios, sin comas (a no ser que las comas formen parte del valor de la variable) y con cuidado con los comentarios."
      ]
    },
    {
      "cell_type": "code",
      "execution_count": 1,
      "metadata": {
        "id": "eHjfOZ9J54_F"
      },
      "outputs": [
        {
          "ename": "NameError",
          "evalue": "name 'conn' is not defined",
          "output_type": "error",
          "traceback": [
            "\u001b[0;31m---------------------------------------------------------------------------\u001b[0m",
            "\u001b[0;31mNameError\u001b[0m                                 Traceback (most recent call last)",
            "Cell \u001b[0;32mIn[1], line 2\u001b[0m\n\u001b[1;32m      1\u001b[0m \u001b[38;5;66;03m#Ahora puedo montar mi motor sin exponer credenciales ni detalles de la conexión, lo cargamos todo desde el fichero dotenv\u001b[39;00m\n\u001b[0;32m----> 2\u001b[0m mydb \u001b[38;5;241m=\u001b[39m \u001b[43mconn\u001b[49m\u001b[38;5;241m.\u001b[39mconnect(\n\u001b[1;32m      3\u001b[0m     host \u001b[38;5;241m=\u001b[39m os\u001b[38;5;241m.\u001b[39mgetenv(\u001b[38;5;124m'\u001b[39m\u001b[38;5;124mhost\u001b[39m\u001b[38;5;124m'\u001b[39m),\n\u001b[1;32m      4\u001b[0m     password \u001b[38;5;241m=\u001b[39m os\u001b[38;5;241m.\u001b[39mgetenv(\u001b[38;5;124m'\u001b[39m\u001b[38;5;124mpwd\u001b[39m\u001b[38;5;124m'\u001b[39m),\n\u001b[1;32m      5\u001b[0m     \u001b[38;5;66;03m#database = os.getenv('db'),\u001b[39;00m\n\u001b[1;32m      6\u001b[0m     user \u001b[38;5;241m=\u001b[39m os\u001b[38;5;241m.\u001b[39mgetenv(\u001b[38;5;124m'\u001b[39m\u001b[38;5;124musuario\u001b[39m\u001b[38;5;124m'\u001b[39m),\n\u001b[1;32m      7\u001b[0m     port \u001b[38;5;241m=\u001b[39m os\u001b[38;5;241m.\u001b[39mgetenv(\u001b[38;5;124m'\u001b[39m\u001b[38;5;124mpuerto\u001b[39m\u001b[38;5;124m'\u001b[39m)\n\u001b[1;32m      8\u001b[0m )\n\u001b[1;32m      9\u001b[0m cursor \u001b[38;5;241m=\u001b[39m mydb\u001b[38;5;241m.\u001b[39mcursor()\n",
            "\u001b[0;31mNameError\u001b[0m: name 'conn' is not defined"
          ]
        }
      ],
      "source": [
        "#Ahora puedo montar mi motor sin exponer credenciales ni detalles de la conexión, lo cargamos todo desde el fichero dotenv\n",
        "mydb = conn.connect(\n",
        "    host = os.getenv('host'),\n",
        "    password = os.getenv('pwd'),\n",
        "    #database = os.getenv('db'),\n",
        "    user = os.getenv('usuario'),\n",
        "    port = os.getenv('puerto')\n",
        ")\n",
        "cursor = mydb.cursor()"
      ]
    },
    {
      "cell_type": "code",
      "execution_count": 6,
      "metadata": {
        "id": "J4ZbrED7NP3o"
      },
      "outputs": [],
      "source": [
        "#Vamos a comprobar si estamos bien conectados:\n",
        "cursor.execute(\"SHOW DATABASES\") #el recoge las instrucciones que se piden, se tiene que sarcar la instrucion antes de hacer otra consulta"
      ]
    },
    {
      "cell_type": "code",
      "execution_count": null,
      "metadata": {
        "id": "PyfQ2gMcNP3o"
      },
      "outputs": [],
      "source": [
        "for x in cursor:# imprime la consulta para limpiar el cursor \n",
        "    print(x)"
      ]
    },
    {
      "cell_type": "markdown",
      "metadata": {
        "id": "oATEBH8kNP3p"
      },
      "source": [
        "#### 2.2 - CREANDO UNA BASE DE DATOS"
      ]
    },
    {
      "cell_type": "code",
      "execution_count": 8,
      "metadata": {
        "id": "fNY9YmVINP3p"
      },
      "outputs": [],
      "source": [
        "#Vamos a crear una base de datos y la llamaremos \"prueba\"\n",
        "cursor.execute(\"CREATE DATABASE prueba\") # siempre es mejor utilizar la sentencia CREATE DATABASE IF NOT EXISTS nombre_base_datos"
      ]
    },
    {
      "cell_type": "markdown",
      "metadata": {},
      "source": [
        "cursor.execute(\"DROP DATBASE prueba\") # eliminamos la base de datos "
      ]
    },
    {
      "cell_type": "markdown",
      "metadata": {
        "id": "tYCOt2Y6NP3p"
      },
      "source": [
        "Vamos a comprobar si todo ha funcionado correctamente, vamos a **conectarnos** a la base de datos que acabamos de crear que se llama **\"prueba\"**."
      ]
    },
    {
      "cell_type": "code",
      "execution_count": 9,
      "metadata": {
        "id": "M92M1QiJNP3p"
      },
      "outputs": [],
      "source": [
        "cursor.execute(\"USE prueba\") #Nos cambiamos a la base de datos prueba, significa que le dice que use esa base de datos\n",
        "cursor.execute(\"SHOW TABLES\")# le indicamos que solo queremos esa tabla \n",
        "for x in cursor:\n",
        "    print(x) #No hay tablas porque no emos creado la tabla"
      ]
    },
    {
      "cell_type": "markdown",
      "metadata": {
        "id": "WadDszBHNP3p"
      },
      "source": [
        "Efectivamente la base de datos `prueba` existe, pero está vacía, no tiene ninguna tabla. Por lo que vamos a crearla."
      ]
    },
    {
      "cell_type": "markdown",
      "metadata": {
        "id": "A0HLA42u54_H"
      },
      "source": [
        "Vamos a crear una tabla de alumnos"
      ]
    },
    {
      "cell_type": "code",
      "execution_count": 6,
      "metadata": {
        "id": "IzUEL7le54_H"
      },
      "outputs": [
        {
          "data": {
            "text/html": [
              "<div>\n",
              "<style scoped>\n",
              "    .dataframe tbody tr th:only-of-type {\n",
              "        vertical-align: middle;\n",
              "    }\n",
              "\n",
              "    .dataframe tbody tr th {\n",
              "        vertical-align: top;\n",
              "    }\n",
              "\n",
              "    .dataframe thead th {\n",
              "        text-align: right;\n",
              "    }\n",
              "</style>\n",
              "<table border=\"1\" class=\"dataframe\">\n",
              "  <thead>\n",
              "    <tr style=\"text-align: right;\">\n",
              "      <th></th>\n",
              "      <th>alumno</th>\n",
              "      <th>sexo</th>\n",
              "      <th>ciudad</th>\n",
              "    </tr>\n",
              "  </thead>\n",
              "  <tbody>\n",
              "    <tr>\n",
              "      <th>0</th>\n",
              "      <td>Gino</td>\n",
              "      <td>hombre</td>\n",
              "      <td>madrid</td>\n",
              "    </tr>\n",
              "    <tr>\n",
              "      <th>1</th>\n",
              "      <td>Yovanna</td>\n",
              "      <td>mujer</td>\n",
              "      <td>madrid</td>\n",
              "    </tr>\n",
              "    <tr>\n",
              "      <th>2</th>\n",
              "      <td>Daniela</td>\n",
              "      <td>mujer</td>\n",
              "      <td>madrid</td>\n",
              "    </tr>\n",
              "    <tr>\n",
              "      <th>3</th>\n",
              "      <td>Zuley</td>\n",
              "      <td>hombre</td>\n",
              "      <td>madrid</td>\n",
              "    </tr>\n",
              "    <tr>\n",
              "      <th>4</th>\n",
              "      <td>Yan</td>\n",
              "      <td>hombre</td>\n",
              "      <td>madrid</td>\n",
              "    </tr>\n",
              "    <tr>\n",
              "      <th>5</th>\n",
              "      <td>Rubén</td>\n",
              "      <td>hombre</td>\n",
              "      <td>madrid</td>\n",
              "    </tr>\n",
              "    <tr>\n",
              "      <th>6</th>\n",
              "      <td>JJ</td>\n",
              "      <td>hombre</td>\n",
              "      <td>madrid</td>\n",
              "    </tr>\n",
              "    <tr>\n",
              "      <th>7</th>\n",
              "      <td>Tobal</td>\n",
              "      <td>hombre</td>\n",
              "      <td>madrid</td>\n",
              "    </tr>\n",
              "  </tbody>\n",
              "</table>\n",
              "</div>"
            ],
            "text/plain": [
              "    alumno    sexo  ciudad\n",
              "0     Gino  hombre  madrid\n",
              "1  Yovanna   mujer  madrid\n",
              "2  Daniela   mujer  madrid\n",
              "3    Zuley  hombre  madrid\n",
              "4      Yan  hombre  madrid\n",
              "5    Rubén  hombre  madrid\n",
              "6       JJ  hombre  madrid\n",
              "7    Tobal  hombre  madrid"
            ]
          },
          "execution_count": 6,
          "metadata": {},
          "output_type": "execute_result"
        }
      ],
      "source": [
        "import pandas as pd\n",
        "\n",
        "# Alumnos de la clase:\n",
        "alumnos = [{'alumno':'Gino','sexo':'hombre','ciudad':'madrid'},\n",
        "           {'alumno':'Yovanna','sexo':'mujer','ciudad':'madrid'},\n",
        "           {'alumno':'Daniela','sexo':'mujer','ciudad':'madrid'},\n",
        "           {'alumno':'Zuley','sexo':'hombre','ciudad':'madrid'},\n",
        "           {'alumno':'Yan','sexo':'hombre','ciudad':'madrid'},\n",
        "           {'alumno':'Rubén','sexo':'hombre','ciudad':'madrid'},\n",
        "           {'alumno':'JJ','sexo':'hombre','ciudad':'madrid'},\n",
        "           {'alumno':'Tobal','sexo':'hombre','ciudad':'madrid'}]\n",
        "\n",
        "df_alumnos = pd.DataFrame(alumnos)\n",
        "df_alumnos"
      ]
    },
    {
      "cell_type": "markdown",
      "metadata": {
        "id": "UDXQ4ErUNP3r"
      },
      "source": [
        "Ahora vamos a crear una tabla de ejercicios"
      ]
    },
    {
      "cell_type": "code",
      "execution_count": 7,
      "metadata": {
        "id": "yxQtYQOD54_H"
      },
      "outputs": [
        {
          "data": {
            "text/html": [
              "<div>\n",
              "<style scoped>\n",
              "    .dataframe tbody tr th:only-of-type {\n",
              "        vertical-align: middle;\n",
              "    }\n",
              "\n",
              "    .dataframe tbody tr th {\n",
              "        vertical-align: top;\n",
              "    }\n",
              "\n",
              "    .dataframe thead th {\n",
              "        text-align: right;\n",
              "    }\n",
              "</style>\n",
              "<table border=\"1\" class=\"dataframe\">\n",
              "  <thead>\n",
              "    <tr style=\"text-align: right;\">\n",
              "      <th></th>\n",
              "      <th>alumno</th>\n",
              "      <th>ejercicios</th>\n",
              "    </tr>\n",
              "  </thead>\n",
              "  <tbody>\n",
              "    <tr>\n",
              "      <th>0</th>\n",
              "      <td>Gino</td>\n",
              "      <td>[8, 5, 2, 6, 2]</td>\n",
              "    </tr>\n",
              "    <tr>\n",
              "      <th>1</th>\n",
              "      <td>Yovanna</td>\n",
              "      <td>[8, 1, 8, 4, 8]</td>\n",
              "    </tr>\n",
              "    <tr>\n",
              "      <th>2</th>\n",
              "      <td>Daniela</td>\n",
              "      <td>[6, 4, 4, 6, 2]</td>\n",
              "    </tr>\n",
              "    <tr>\n",
              "      <th>3</th>\n",
              "      <td>Zuley</td>\n",
              "      <td>[8, 4, 1, 9, 4]</td>\n",
              "    </tr>\n",
              "    <tr>\n",
              "      <th>4</th>\n",
              "      <td>Yan</td>\n",
              "      <td>[1, 5, 10, 10, 2]</td>\n",
              "    </tr>\n",
              "    <tr>\n",
              "      <th>5</th>\n",
              "      <td>Rubén</td>\n",
              "      <td>[9, 5, 4, 10, 6]</td>\n",
              "    </tr>\n",
              "    <tr>\n",
              "      <th>6</th>\n",
              "      <td>JJ</td>\n",
              "      <td>[1, 5, 10, 8, 4]</td>\n",
              "    </tr>\n",
              "    <tr>\n",
              "      <th>7</th>\n",
              "      <td>Tobal</td>\n",
              "      <td>[10, 6, 3, 3, 9]</td>\n",
              "    </tr>\n",
              "  </tbody>\n",
              "</table>\n",
              "</div>"
            ],
            "text/plain": [
              "    alumno         ejercicios\n",
              "0     Gino    [8, 5, 2, 6, 2]\n",
              "1  Yovanna    [8, 1, 8, 4, 8]\n",
              "2  Daniela    [6, 4, 4, 6, 2]\n",
              "3    Zuley    [8, 4, 1, 9, 4]\n",
              "4      Yan  [1, 5, 10, 10, 2]\n",
              "5    Rubén   [9, 5, 4, 10, 6]\n",
              "6       JJ   [1, 5, 10, 8, 4]\n",
              "7    Tobal   [10, 6, 3, 3, 9]"
            ]
          },
          "execution_count": 7,
          "metadata": {},
          "output_type": "execute_result"
        }
      ],
      "source": [
        "#ejercicios va a ser una lista de notas aleatorias de los alumnos\n",
        "import random\n",
        "def notas():\n",
        "        return [random.randint(1,10) for i in range(5)]\n",
        "ejercicios = [{'alumno': 'Gino', 'ejercicios': notas()},\n",
        "              {'alumno': 'Yovanna','ejercicios': notas()},\n",
        "              {'alumno': 'Daniela','ejercicios': notas()},\n",
        "              {'alumno': 'Zuley','ejercicios': notas()},\n",
        "              {'alumno': 'Yan','ejercicios': notas()},\n",
        "              {'alumno': 'Rubén','ejercicios': notas()},\n",
        "              {'alumno': 'JJ','ejercicios': notas()},\n",
        "              {'alumno': 'Tobal','ejercicios': notas()}]\n",
        "df_ejercicios = pd.DataFrame(ejercicios)\n",
        "df_ejercicios"
      ]
    },
    {
      "cell_type": "code",
      "execution_count": 9,
      "metadata": {},
      "outputs": [
        {
          "data": {
            "text/html": [
              "<div>\n",
              "<style scoped>\n",
              "    .dataframe tbody tr th:only-of-type {\n",
              "        vertical-align: middle;\n",
              "    }\n",
              "\n",
              "    .dataframe tbody tr th {\n",
              "        vertical-align: top;\n",
              "    }\n",
              "\n",
              "    .dataframe thead th {\n",
              "        text-align: right;\n",
              "    }\n",
              "</style>\n",
              "<table border=\"1\" class=\"dataframe\">\n",
              "  <thead>\n",
              "    <tr style=\"text-align: right;\">\n",
              "      <th></th>\n",
              "      <th>alumno</th>\n",
              "      <th>ejercicios</th>\n",
              "    </tr>\n",
              "  </thead>\n",
              "  <tbody>\n",
              "    <tr>\n",
              "      <th>0</th>\n",
              "      <td>Gino</td>\n",
              "      <td>8</td>\n",
              "    </tr>\n",
              "    <tr>\n",
              "      <th>0</th>\n",
              "      <td>Gino</td>\n",
              "      <td>5</td>\n",
              "    </tr>\n",
              "    <tr>\n",
              "      <th>0</th>\n",
              "      <td>Gino</td>\n",
              "      <td>2</td>\n",
              "    </tr>\n",
              "    <tr>\n",
              "      <th>0</th>\n",
              "      <td>Gino</td>\n",
              "      <td>6</td>\n",
              "    </tr>\n",
              "    <tr>\n",
              "      <th>0</th>\n",
              "      <td>Gino</td>\n",
              "      <td>2</td>\n",
              "    </tr>\n",
              "    <tr>\n",
              "      <th>1</th>\n",
              "      <td>Yovanna</td>\n",
              "      <td>8</td>\n",
              "    </tr>\n",
              "    <tr>\n",
              "      <th>1</th>\n",
              "      <td>Yovanna</td>\n",
              "      <td>1</td>\n",
              "    </tr>\n",
              "    <tr>\n",
              "      <th>1</th>\n",
              "      <td>Yovanna</td>\n",
              "      <td>8</td>\n",
              "    </tr>\n",
              "    <tr>\n",
              "      <th>1</th>\n",
              "      <td>Yovanna</td>\n",
              "      <td>4</td>\n",
              "    </tr>\n",
              "    <tr>\n",
              "      <th>1</th>\n",
              "      <td>Yovanna</td>\n",
              "      <td>8</td>\n",
              "    </tr>\n",
              "  </tbody>\n",
              "</table>\n",
              "</div>"
            ],
            "text/plain": [
              "    alumno ejercicios\n",
              "0     Gino          8\n",
              "0     Gino          5\n",
              "0     Gino          2\n",
              "0     Gino          6\n",
              "0     Gino          2\n",
              "1  Yovanna          8\n",
              "1  Yovanna          1\n",
              "1  Yovanna          8\n",
              "1  Yovanna          4\n",
              "1  Yovanna          8"
            ]
          },
          "execution_count": 9,
          "metadata": {},
          "output_type": "execute_result"
        }
      ],
      "source": [
        "df_ejercicios = df_ejercicios.explode('ejercicios')# el explode lo que hace es explotar la columna y ordena la lista y las tranforma en filas de la tabla\n",
        "df_ejercicios.head(10) #mantiene el indice inicial "
      ]
    },
    {
      "cell_type": "code",
      "execution_count": 10,
      "metadata": {
        "id": "9vn_EAG854_H"
      },
      "outputs": [
        {
          "data": {
            "text/html": [
              "<div>\n",
              "<style scoped>\n",
              "    .dataframe tbody tr th:only-of-type {\n",
              "        vertical-align: middle;\n",
              "    }\n",
              "\n",
              "    .dataframe tbody tr th {\n",
              "        vertical-align: top;\n",
              "    }\n",
              "\n",
              "    .dataframe thead th {\n",
              "        text-align: right;\n",
              "    }\n",
              "</style>\n",
              "<table border=\"1\" class=\"dataframe\">\n",
              "  <thead>\n",
              "    <tr style=\"text-align: right;\">\n",
              "      <th></th>\n",
              "      <th>alumno</th>\n",
              "      <th>ejercicios</th>\n",
              "    </tr>\n",
              "  </thead>\n",
              "  <tbody>\n",
              "    <tr>\n",
              "      <th>0</th>\n",
              "      <td>Gino</td>\n",
              "      <td>8</td>\n",
              "    </tr>\n",
              "    <tr>\n",
              "      <th>1</th>\n",
              "      <td>Gino</td>\n",
              "      <td>5</td>\n",
              "    </tr>\n",
              "    <tr>\n",
              "      <th>2</th>\n",
              "      <td>Gino</td>\n",
              "      <td>2</td>\n",
              "    </tr>\n",
              "    <tr>\n",
              "      <th>3</th>\n",
              "      <td>Gino</td>\n",
              "      <td>6</td>\n",
              "    </tr>\n",
              "    <tr>\n",
              "      <th>4</th>\n",
              "      <td>Gino</td>\n",
              "      <td>2</td>\n",
              "    </tr>\n",
              "    <tr>\n",
              "      <th>5</th>\n",
              "      <td>Yovanna</td>\n",
              "      <td>8</td>\n",
              "    </tr>\n",
              "    <tr>\n",
              "      <th>6</th>\n",
              "      <td>Yovanna</td>\n",
              "      <td>1</td>\n",
              "    </tr>\n",
              "    <tr>\n",
              "      <th>7</th>\n",
              "      <td>Yovanna</td>\n",
              "      <td>8</td>\n",
              "    </tr>\n",
              "    <tr>\n",
              "      <th>8</th>\n",
              "      <td>Yovanna</td>\n",
              "      <td>4</td>\n",
              "    </tr>\n",
              "    <tr>\n",
              "      <th>9</th>\n",
              "      <td>Yovanna</td>\n",
              "      <td>8</td>\n",
              "    </tr>\n",
              "  </tbody>\n",
              "</table>\n",
              "</div>"
            ],
            "text/plain": [
              "    alumno ejercicios\n",
              "0     Gino          8\n",
              "1     Gino          5\n",
              "2     Gino          2\n",
              "3     Gino          6\n",
              "4     Gino          2\n",
              "5  Yovanna          8\n",
              "6  Yovanna          1\n",
              "7  Yovanna          8\n",
              "8  Yovanna          4\n",
              "9  Yovanna          8"
            ]
          },
          "execution_count": 10,
          "metadata": {},
          "output_type": "execute_result"
        }
      ],
      "source": [
        "df_ejercicios.reset_index(drop=True,inplace=True)# vamos a recetear el indice para tenerlo mas ordenado \n",
        "df_ejercicios.head(10)"
      ]
    },
    {
      "cell_type": "markdown",
      "metadata": {
        "id": "RHKTsfViNP3r"
      },
      "source": [
        "Ahora que tenemos los 2 dataframes con los datos que queremos, vamos a crear las tablas en nuestra base de datos.\n",
        "\n",
        "1 - Tabla `alumnos`:"
      ]
    },
    {
      "cell_type": "code",
      "execution_count": 11,
      "metadata": {
        "id": "aqFa6up_NP3s"
      },
      "outputs": [
        {
          "ename": "NameError",
          "evalue": "name 'cursor' is not defined",
          "output_type": "error",
          "traceback": [
            "\u001b[0;31m---------------------------------------------------------------------------\u001b[0m",
            "\u001b[0;31mNameError\u001b[0m                                 Traceback (most recent call last)",
            "Cell \u001b[0;32mIn[11], line 2\u001b[0m\n\u001b[1;32m      1\u001b[0m \u001b[38;5;66;03m#Vamos a crear una base de datos llamada \"alumnos_data\" con los datos de df_alumnos\u001b[39;00m\n\u001b[0;32m----> 2\u001b[0m \u001b[43mcursor\u001b[49m\u001b[38;5;241m.\u001b[39mexecute(\u001b[38;5;124m\"\u001b[39m\u001b[38;5;124mCREATE DATABASE IF NOT EXISTS alumnos_data\u001b[39m\u001b[38;5;124m\"\u001b[39m)\n\u001b[1;32m      3\u001b[0m cursor\u001b[38;5;241m.\u001b[39mexecute(\u001b[38;5;124m\"\u001b[39m\u001b[38;5;124mUSE alumnos_data\u001b[39m\u001b[38;5;124m\"\u001b[39m)\n\u001b[1;32m      5\u001b[0m \u001b[38;5;66;03m#Entidad alumnos --> alumno | sexo | ciudad\u001b[39;00m\n",
            "\u001b[0;31mNameError\u001b[0m: name 'cursor' is not defined"
          ]
        }
      ],
      "source": [
        "#Vamos a crear una base de datos llamada \"alumnos_data\" con los datos de df_alumnos\n",
        "cursor.execute(\"CREATE DATABASE IF NOT EXISTS alumnos_data\")\n",
        "cursor.execute(\"USE alumnos_data\")\n",
        "\n",
        "#Entidad alumnos --> alumno | sexo | ciudad"
      ]
    },
    {
      "cell_type": "code",
      "execution_count": null,
      "metadata": {},
      "outputs": [],
      "source": [
        "# vamos hacer el esqueleto de la tabla de alumnos \n",
        "#Entidad alumnos --> alumno | sexo | ciudad\n",
        "cursor.execute('CREATE TABLA if not exists alumnos(alumno VARCHAR(15), sexo VARCHAR(10), ciudad VARCHAR(20))')"
      ]
    },
    {
      "cell_type": "code",
      "execution_count": null,
      "metadata": {},
      "outputs": [],
      "source": [
        "#ejecutamos las tabla \n",
        "cursor.execute('SHOW TABLES')\n",
        "for table in cursor:\n",
        "    print(table)"
      ]
    },
    {
      "cell_type": "code",
      "execution_count": 15,
      "metadata": {
        "id": "g8ZQHOI-NP3s"
      },
      "outputs": [],
      "source": [
        "#Entidad ejercicios --> alumno | ejercicios\n",
        "cursor.execute('CREATE TABLA if not exists ejercicios(alumno VARCHAR(15), ejercicios VARCHAR(10))') # emos creado las dos tablas "
      ]
    },
    {
      "cell_type": "markdown",
      "metadata": {
        "id": "45r3lpKINP3s"
      },
      "source": [
        "Ahora que tenemos nuestras 2 tablas creadas en nuestra base de datos `alumnos_data`, vamos a insertar los datos que tenemos en nuestros dataframes. El de alumnos y el de ejercicios."
      ]
    },
    {
      "cell_type": "code",
      "execution_count": 12,
      "metadata": {
        "id": "GDnAXmcDNP3s"
      },
      "outputs": [
        {
          "data": {
            "text/html": [
              "<div>\n",
              "<style scoped>\n",
              "    .dataframe tbody tr th:only-of-type {\n",
              "        vertical-align: middle;\n",
              "    }\n",
              "\n",
              "    .dataframe tbody tr th {\n",
              "        vertical-align: top;\n",
              "    }\n",
              "\n",
              "    .dataframe thead th {\n",
              "        text-align: right;\n",
              "    }\n",
              "</style>\n",
              "<table border=\"1\" class=\"dataframe\">\n",
              "  <thead>\n",
              "    <tr style=\"text-align: right;\">\n",
              "      <th></th>\n",
              "      <th>alumno</th>\n",
              "      <th>sexo</th>\n",
              "      <th>ciudad</th>\n",
              "    </tr>\n",
              "  </thead>\n",
              "  <tbody>\n",
              "    <tr>\n",
              "      <th>0</th>\n",
              "      <td>Gino</td>\n",
              "      <td>hombre</td>\n",
              "      <td>madrid</td>\n",
              "    </tr>\n",
              "    <tr>\n",
              "      <th>1</th>\n",
              "      <td>Yovanna</td>\n",
              "      <td>mujer</td>\n",
              "      <td>madrid</td>\n",
              "    </tr>\n",
              "    <tr>\n",
              "      <th>2</th>\n",
              "      <td>Daniela</td>\n",
              "      <td>mujer</td>\n",
              "      <td>madrid</td>\n",
              "    </tr>\n",
              "    <tr>\n",
              "      <th>3</th>\n",
              "      <td>Zuley</td>\n",
              "      <td>hombre</td>\n",
              "      <td>madrid</td>\n",
              "    </tr>\n",
              "    <tr>\n",
              "      <th>4</th>\n",
              "      <td>Yan</td>\n",
              "      <td>hombre</td>\n",
              "      <td>madrid</td>\n",
              "    </tr>\n",
              "  </tbody>\n",
              "</table>\n",
              "</div>"
            ],
            "text/plain": [
              "    alumno    sexo  ciudad\n",
              "0     Gino  hombre  madrid\n",
              "1  Yovanna   mujer  madrid\n",
              "2  Daniela   mujer  madrid\n",
              "3    Zuley  hombre  madrid\n",
              "4      Yan  hombre  madrid"
            ]
          },
          "execution_count": 12,
          "metadata": {},
          "output_type": "execute_result"
        }
      ],
      "source": [
        "df_alumnos.head(5) #Refresecamos que pinta tiene el df"
      ]
    },
    {
      "cell_type": "markdown",
      "metadata": {},
      "source": [
        "Refrescamos como era una onstrucción INSERT de SQL:\n",
        "\n",
        "```sql\n",
        "--Opcion 1\n",
        "INSERT INTO nombre_tabla (columna1, columna2, columna3, ...)\n",
        "VALUES (valor1, valor2, valor3, ...);\n",
        "```\n",
        "\n",
        "```sql\n",
        "--Opcion 2\n",
        "INSERT INTO nombre_tabla (columna1, columna2, columna3, ...)\n",
        "VALUES (valor1, valor2, valor3, ...),\n",
        "       (valor1, valor2, valor3, ...),\n",
        "       (valor1, valor2, valor3, ...),\n",
        "       ...\n",
        "       (valor1, valor2, valor3, ...);\n",
        "```\n",
        "\n",
        "```sql\n",
        "--Opcion 3\n",
        "INSERT INTO nombre_tabla\n",
        "VALUES (valor1, valor2, valor3, ...);\n",
        "```"
      ]
    },
    {
      "cell_type": "code",
      "execution_count": 15,
      "metadata": {
        "id": "9tKFZfMQNP3s"
      },
      "outputs": [
        {
          "ename": "SyntaxError",
          "evalue": "incomplete input (755352874.py, line 2)",
          "output_type": "error",
          "traceback": [
            "\u001b[0;36m  Cell \u001b[0;32mIn[15], line 2\u001b[0;36m\u001b[0m\n\u001b[0;31m    for i,row in df_alumnos.iterrows(): # vamos arecorrel el dataframe\u001b[0m\n\u001b[0m                                                                      ^\u001b[0m\n\u001b[0;31mSyntaxError\u001b[0m\u001b[0;31m:\u001b[0m incomplete input\n"
          ]
        }
      ],
      "source": [
        "#Esto lo codeamos en clase\n",
        "for i,row in df_alumnos.iterrows(): # vamos arecorrel el dataframe\n",
        "    instruccion= f\"INSERT INTO alumnos VALUES('{row['alumno']}', '{row['sexo']}','{row['ciudad']}')\"\n",
        "    cursor.execute(instruccion)#de esta manera llevamos linea alinea la instruccion del data frame \n",
        "print(f'He insertadi{i+1} filas!')"
      ]
    },
    {
      "cell_type": "code",
      "execution_count": null,
      "metadata": {},
      "outputs": [],
      "source": [
        "#comprobamos que la incercion esta ok \n",
        "query = 'SELECT * FROM alumnos'\n",
        "cursor.execurte(query)\n",
        "for respuesta in cursor:\n",
        "    print(respuesta)\n",
        "    "
      ]
    },
    {
      "cell_type": "code",
      "execution_count": null,
      "metadata": {},
      "outputs": [],
      "source": [
        "#para volver a meter datos, vaciamos la tabala alumnos \n",
        "query = 'TRUNCATE alumnos'\n",
        "cursor.execurte(query)\n",
        "#comprobamos que a vaciado la tabla  ok \n",
        "query = 'SELECT * FROM alumnos'\n",
        "cursor.execurte(query)\n",
        "for respuesta in cursor:\n",
        "    print(respuesta)\n"
      ]
    },
    {
      "cell_type": "code",
      "execution_count": 18,
      "metadata": {},
      "outputs": [],
      "source": [
        "#Vamos a hacer lo mismo pero en una sola query\n",
        "for _, row in df_alumnos.iterrows():\n",
        "    query = \"INSERT into alumnos ('alumno1','sexo1', 'ciudad1), ('alumno2','sexo2', 'ciudad2), .....\""
      ]
    },
    {
      "cell_type": "code",
      "execution_count": 16,
      "metadata": {},
      "outputs": [
        {
          "ename": "NameError",
          "evalue": "name 'cursor' is not defined",
          "output_type": "error",
          "traceback": [
            "\u001b[0;31m---------------------------------------------------------------------------\u001b[0m",
            "\u001b[0;31mNameError\u001b[0m                                 Traceback (most recent call last)",
            "Cell \u001b[0;32mIn[16], line 3\u001b[0m\n\u001b[1;32m      1\u001b[0m query \u001b[38;5;241m=\u001b[39m \u001b[38;5;124m'\u001b[39m\u001b[38;5;124mINSERT INTO alumnos VALUES\u001b[39m\u001b[38;5;124m'\u001b[39m \u001b[38;5;241m+\u001b[39m \u001b[38;5;124m\"\u001b[39m\u001b[38;5;124m,\u001b[39m\u001b[38;5;124m\"\u001b[39m\u001b[38;5;241m.\u001b[39mjoin([\u001b[38;5;124mf\u001b[39m\u001b[38;5;124m\"\u001b[39m\u001b[38;5;124m(\u001b[39m\u001b[38;5;132;01m{\u001b[39;00mrow[\u001b[38;5;124m'\u001b[39m\u001b[38;5;124malumno\u001b[39m\u001b[38;5;124m'\u001b[39m]\u001b[38;5;132;01m}\u001b[39;00m\u001b[38;5;124m'\u001b[39m\u001b[38;5;124m, \u001b[39m\u001b[38;5;124m'\u001b[39m\u001b[38;5;132;01m{\u001b[39;00mrow[\u001b[38;5;124m'\u001b[39m\u001b[38;5;124msexo\u001b[39m\u001b[38;5;124m'\u001b[39m]\u001b[38;5;132;01m}\u001b[39;00m\u001b[38;5;124m'\u001b[39m\u001b[38;5;124m,\u001b[39m\u001b[38;5;124m'\u001b[39m\u001b[38;5;132;01m{\u001b[39;00mrow[\u001b[38;5;124m'\u001b[39m\u001b[38;5;124mciudad\u001b[39m\u001b[38;5;124m'\u001b[39m]\u001b[38;5;132;01m}\u001b[39;00m\u001b[38;5;124m)\u001b[39m\u001b[38;5;124m\"\u001b[39m\u001b[38;5;28;01mfor\u001b[39;00m _, row \u001b[38;5;129;01min\u001b[39;00m df_alumnos\u001b[38;5;241m.\u001b[39miterrows()])\n\u001b[1;32m      2\u001b[0m \u001b[38;5;66;03m#query.rstrip('')\u001b[39;00m\n\u001b[0;32m----> 3\u001b[0m \u001b[43mcursor\u001b[49m\u001b[38;5;241m.\u001b[39mexecurte(query)\n\u001b[1;32m      4\u001b[0m cursor\u001b[38;5;241m.\u001b[39mexecurte(\u001b[38;5;124m'\u001b[39m\u001b[38;5;124mSELECT * FROM alumnos\u001b[39m\u001b[38;5;124m'\u001b[39m)\n",
            "\u001b[0;31mNameError\u001b[0m: name 'cursor' is not defined"
          ]
        }
      ],
      "source": [
        "query = 'INSERT INTO alumnos VALUES' + \",\".join([f\"({row['alumno']}', '{row['sexo']}','{row['ciudad']})\"for _, row in df_alumnos.iterrows()])\n",
        "#query.rstrip('')\n",
        "cursor.execurte(query)\n",
        "cursor.execurte('SELECT * FROM alumnos')"
      ]
    },
    {
      "cell_type": "code",
      "execution_count": 19,
      "metadata": {},
      "outputs": [],
      "source": [
        "\n",
        "#Truncamos la tabla \n"
      ]
    },
    {
      "cell_type": "code",
      "execution_count": null,
      "metadata": {
        "id": "Pzr6ApnkNP3s"
      },
      "outputs": [],
      "source": [
        "df_ejercicios.head() #Refresecamos que pinta tiene el df"
      ]
    },
    {
      "cell_type": "code",
      "execution_count": 21,
      "metadata": {
        "id": "dIHbhi7FNP3s"
      },
      "outputs": [],
      "source": [
        "#Poblamos la tabla de ejercicios"
      ]
    },
    {
      "cell_type": "markdown",
      "metadata": {
        "id": "yS3M_TBTNP36"
      },
      "source": [
        "Pues de esta manera podemos cargar nuestros datos y hacernos nuestras propias databases y trabajar con ellas desde Python, haciendo lo mismo que haríamos en MySQL pero sin tener que salirnos de Python y andar cambiando de Workbench (o el que sea) a Python.\n",
        "\n",
        "También podríamos hacer el proceso inverso y sacar datos de SQL y meterlo en un dataframe de Pandas"
      ]
    },
    {
      "cell_type": "markdown",
      "metadata": {
        "id": "IJaSi99tNP37"
      },
      "source": [
        "#### 2.3 - CONSULTANDO LA BASE DE DATOS"
      ]
    },
    {
      "cell_type": "code",
      "execution_count": null,
      "metadata": {
        "id": "_vwrWAoONP37"
      },
      "outputs": [],
      "source": [
        "import time\n",
        "cursor.execute(\"SELECT * FROM alumnos\")\n",
        "time.sleep(1)\n",
        "for x in cursor:\n",
        "    time.sleep(1)\n",
        "    print(x)#,end='\\r') #para que sobreescriba encima"
      ]
    },
    {
      "cell_type": "code",
      "execution_count": 17,
      "metadata": {
        "id": "KY6DMBQf54_I"
      },
      "outputs": [
        {
          "ename": "NameError",
          "evalue": "name 'cursor' is not defined",
          "output_type": "error",
          "traceback": [
            "\u001b[0;31m---------------------------------------------------------------------------\u001b[0m",
            "\u001b[0;31mNameError\u001b[0m                                 Traceback (most recent call last)",
            "Cell \u001b[0;32mIn[17], line 1\u001b[0m\n\u001b[0;32m----> 1\u001b[0m \u001b[43mcursor\u001b[49m\u001b[38;5;241m.\u001b[39mclose()\u001b[38;5;66;03m# es importante cerra las onecciones a base de datos poruq podemos petar las llamadas \u001b[39;00m\n",
            "\u001b[0;31mNameError\u001b[0m: name 'cursor' is not defined"
          ]
        }
      ],
      "source": [
        "cursor.close()# es importante cerra las onecciones a base de datos poruq podemos petar las llamadas de los usuaARIOS "
      ]
    },
    {
      "cell_type": "markdown",
      "metadata": {
        "id": "ul5HXsBnNP37"
      },
      "source": [
        "Ahora es vuestro turno, vamos a pegarnos con este [csv](https://drive.google.com/file/d/1tOg8MGCj8NZpxshozKUu7QpDuS4owsGS/view?usp=drive_link)"
      ]
    },
    {
      "cell_type": "code",
      "execution_count": 4,
      "metadata": {},
      "outputs": [
        {
          "data": {
            "text/plain": [
              "('localhost', '789456123VIdal.', 'root')"
            ]
          },
          "execution_count": 4,
          "metadata": {},
          "output_type": "execute_result"
        }
      ],
      "source": [
        "host = os.getenv('host')\n",
        "password = os.getenv('pwd')\n",
        "    #database = os.getenv('db'),\n",
        "user = os.getenv('usuario')\n",
        "\n",
        "host, password, user"
      ]
    },
    {
      "cell_type": "code",
      "execution_count": null,
      "metadata": {},
      "outputs": [],
      "source": [
        "user,password"
      ]
    },
    {
      "cell_type": "code",
      "execution_count": 2,
      "metadata": {
        "id": "YmZkVROWeP5P"
      },
      "outputs": [
        {
          "ename": "ProgrammingError",
          "evalue": "1045 (28000): Access denied for user 'root'@'localhost' (using password: YES)",
          "output_type": "error",
          "traceback": [
            "\u001b[0;31m---------------------------------------------------------------------------\u001b[0m",
            "\u001b[0;31mMySQLInterfaceError\u001b[0m                       Traceback (most recent call last)",
            "File \u001b[0;32m~/miniconda3/envs/gamma/lib/python3.12/site-packages/mysql/connector/connection_cext.py:334\u001b[0m, in \u001b[0;36mCMySQLConnection._open_connection\u001b[0;34m(self)\u001b[0m\n\u001b[1;32m    333\u001b[0m \u001b[38;5;28;01mtry\u001b[39;00m:\n\u001b[0;32m--> 334\u001b[0m     \u001b[38;5;28;43mself\u001b[39;49m\u001b[38;5;241;43m.\u001b[39;49m\u001b[43m_cmysql\u001b[49m\u001b[38;5;241;43m.\u001b[39;49m\u001b[43mconnect\u001b[49m\u001b[43m(\u001b[49m\u001b[38;5;241;43m*\u001b[39;49m\u001b[38;5;241;43m*\u001b[39;49m\u001b[43mcnx_kwargs\u001b[49m\u001b[43m)\u001b[49m\n\u001b[1;32m    335\u001b[0m     \u001b[38;5;28mself\u001b[39m\u001b[38;5;241m.\u001b[39m_cmysql\u001b[38;5;241m.\u001b[39mconverter_str_fallback \u001b[38;5;241m=\u001b[39m \u001b[38;5;28mself\u001b[39m\u001b[38;5;241m.\u001b[39m_converter_str_fallback\n",
            "\u001b[0;31mMySQLInterfaceError\u001b[0m: Access denied for user 'root'@'localhost' (using password: YES)",
            "\nThe above exception was the direct cause of the following exception:\n",
            "\u001b[0;31mProgrammingError\u001b[0m                          Traceback (most recent call last)",
            "Cell \u001b[0;32mIn[2], line 5\u001b[0m\n\u001b[1;32m      3\u001b[0m \u001b[38;5;28;01mfrom\u001b[39;00m \u001b[38;5;21;01mdotenv\u001b[39;00m \u001b[38;5;28;01mimport\u001b[39;00m load_dotenv\n\u001b[1;32m      4\u001b[0m load_dotenv()\n\u001b[0;32m----> 5\u001b[0m mydb \u001b[38;5;241m=\u001b[39m \u001b[43mconn\u001b[49m\u001b[38;5;241;43m.\u001b[39;49m\u001b[43mconnect\u001b[49m\u001b[43m(\u001b[49m\n\u001b[1;32m      6\u001b[0m \u001b[43m    \u001b[49m\u001b[43mhost\u001b[49m\u001b[43m \u001b[49m\u001b[38;5;241;43m=\u001b[39;49m\u001b[43m \u001b[49m\u001b[38;5;124;43m'\u001b[39;49m\u001b[38;5;124;43mlocalhost\u001b[39;49m\u001b[38;5;124;43m'\u001b[39;49m\u001b[43m,\u001b[49m\n\u001b[1;32m      7\u001b[0m \u001b[43m    \u001b[49m\u001b[43mpassword\u001b[49m\u001b[43m \u001b[49m\u001b[38;5;241;43m=\u001b[39;49m\u001b[43m \u001b[49m\u001b[43mos\u001b[49m\u001b[38;5;241;43m.\u001b[39;49m\u001b[43mgetenv\u001b[49m\u001b[43m(\u001b[49m\u001b[38;5;124;43m'\u001b[39;49m\u001b[38;5;124;43mpwd\u001b[39;49m\u001b[38;5;124;43m'\u001b[39;49m\u001b[43m)\u001b[49m\u001b[43m,\u001b[49m\n\u001b[1;32m      8\u001b[0m \u001b[43m    \u001b[49m\u001b[38;5;66;43;03m#database = 'sakila',\u001b[39;49;00m\n\u001b[1;32m      9\u001b[0m \u001b[43m    \u001b[49m\u001b[43muser\u001b[49m\u001b[43m \u001b[49m\u001b[38;5;241;43m=\u001b[39;49m\u001b[43m \u001b[49m\u001b[43mos\u001b[49m\u001b[38;5;241;43m.\u001b[39;49m\u001b[43mgetenv\u001b[49m\u001b[43m(\u001b[49m\u001b[38;5;124;43m'\u001b[39;49m\u001b[38;5;124;43musuario\u001b[39;49m\u001b[38;5;124;43m'\u001b[39;49m\u001b[43m)\u001b[49m\n\u001b[1;32m     10\u001b[0m \u001b[43m)\u001b[49m\n\u001b[1;32m     11\u001b[0m cursor \u001b[38;5;241m=\u001b[39m mydb\u001b[38;5;241m.\u001b[39mcursor()\n",
            "File \u001b[0;32m~/miniconda3/envs/gamma/lib/python3.12/site-packages/mysql/connector/pooling.py:322\u001b[0m, in \u001b[0;36mconnect\u001b[0;34m(*args, **kwargs)\u001b[0m\n\u001b[1;32m    319\u001b[0m         \u001b[38;5;28;01mraise\u001b[39;00m \u001b[38;5;167;01mImportError\u001b[39;00m(ERROR_NO_CEXT)\n\u001b[1;32m    321\u001b[0m \u001b[38;5;28;01mif\u001b[39;00m CMySQLConnection \u001b[38;5;129;01mand\u001b[39;00m \u001b[38;5;129;01mnot\u001b[39;00m use_pure:\n\u001b[0;32m--> 322\u001b[0m     \u001b[38;5;28;01mreturn\u001b[39;00m \u001b[43mCMySQLConnection\u001b[49m\u001b[43m(\u001b[49m\u001b[38;5;241;43m*\u001b[39;49m\u001b[43margs\u001b[49m\u001b[43m,\u001b[49m\u001b[43m \u001b[49m\u001b[38;5;241;43m*\u001b[39;49m\u001b[38;5;241;43m*\u001b[39;49m\u001b[43mkwargs\u001b[49m\u001b[43m)\u001b[49m\n\u001b[1;32m    323\u001b[0m \u001b[38;5;28;01mreturn\u001b[39;00m MySQLConnection(\u001b[38;5;241m*\u001b[39margs, \u001b[38;5;241m*\u001b[39m\u001b[38;5;241m*\u001b[39mkwargs)\n",
            "File \u001b[0;32m~/miniconda3/envs/gamma/lib/python3.12/site-packages/mysql/connector/connection_cext.py:151\u001b[0m, in \u001b[0;36mCMySQLConnection.__init__\u001b[0;34m(self, **kwargs)\u001b[0m\n\u001b[1;32m    149\u001b[0m \u001b[38;5;28;01mif\u001b[39;00m kwargs:\n\u001b[1;32m    150\u001b[0m     \u001b[38;5;28;01mtry\u001b[39;00m:\n\u001b[0;32m--> 151\u001b[0m         \u001b[38;5;28;43mself\u001b[39;49m\u001b[38;5;241;43m.\u001b[39;49m\u001b[43mconnect\u001b[49m\u001b[43m(\u001b[49m\u001b[38;5;241;43m*\u001b[39;49m\u001b[38;5;241;43m*\u001b[39;49m\u001b[43mkwargs\u001b[49m\u001b[43m)\u001b[49m\n\u001b[1;32m    152\u001b[0m     \u001b[38;5;28;01mexcept\u001b[39;00m \u001b[38;5;167;01mException\u001b[39;00m:\n\u001b[1;32m    153\u001b[0m         \u001b[38;5;28mself\u001b[39m\u001b[38;5;241m.\u001b[39mclose()\n",
            "File \u001b[0;32m~/miniconda3/envs/gamma/lib/python3.12/site-packages/mysql/connector/abstracts.py:1399\u001b[0m, in \u001b[0;36mMySQLConnectionAbstract.connect\u001b[0;34m(self, **kwargs)\u001b[0m\n\u001b[1;32m   1396\u001b[0m     \u001b[38;5;28mself\u001b[39m\u001b[38;5;241m.\u001b[39mconfig(\u001b[38;5;241m*\u001b[39m\u001b[38;5;241m*\u001b[39mkwargs)\n\u001b[1;32m   1398\u001b[0m \u001b[38;5;28mself\u001b[39m\u001b[38;5;241m.\u001b[39mdisconnect()\n\u001b[0;32m-> 1399\u001b[0m \u001b[38;5;28;43mself\u001b[39;49m\u001b[38;5;241;43m.\u001b[39;49m\u001b[43m_open_connection\u001b[49m\u001b[43m(\u001b[49m\u001b[43m)\u001b[49m\n\u001b[1;32m   1401\u001b[0m charset, collation \u001b[38;5;241m=\u001b[39m (\n\u001b[1;32m   1402\u001b[0m     kwargs\u001b[38;5;241m.\u001b[39mpop(\u001b[38;5;124m\"\u001b[39m\u001b[38;5;124mcharset\u001b[39m\u001b[38;5;124m\"\u001b[39m, \u001b[38;5;28;01mNone\u001b[39;00m),\n\u001b[1;32m   1403\u001b[0m     kwargs\u001b[38;5;241m.\u001b[39mpop(\u001b[38;5;124m\"\u001b[39m\u001b[38;5;124mcollation\u001b[39m\u001b[38;5;124m\"\u001b[39m, \u001b[38;5;28;01mNone\u001b[39;00m),\n\u001b[1;32m   1404\u001b[0m )\n\u001b[1;32m   1405\u001b[0m \u001b[38;5;28;01mif\u001b[39;00m charset \u001b[38;5;129;01mor\u001b[39;00m collation:\n",
            "File \u001b[0;32m~/miniconda3/envs/gamma/lib/python3.12/site-packages/mysql/connector/connection_cext.py:339\u001b[0m, in \u001b[0;36mCMySQLConnection._open_connection\u001b[0;34m(self)\u001b[0m\n\u001b[1;32m    337\u001b[0m         \u001b[38;5;28mself\u001b[39m\u001b[38;5;241m.\u001b[39mconverter\u001b[38;5;241m.\u001b[39mstr_fallback \u001b[38;5;241m=\u001b[39m \u001b[38;5;28mself\u001b[39m\u001b[38;5;241m.\u001b[39m_converter_str_fallback\n\u001b[1;32m    338\u001b[0m \u001b[38;5;28;01mexcept\u001b[39;00m MySQLInterfaceError \u001b[38;5;28;01mas\u001b[39;00m err:\n\u001b[0;32m--> 339\u001b[0m     \u001b[38;5;28;01mraise\u001b[39;00m get_mysql_exception(\n\u001b[1;32m    340\u001b[0m         msg\u001b[38;5;241m=\u001b[39merr\u001b[38;5;241m.\u001b[39mmsg, errno\u001b[38;5;241m=\u001b[39merr\u001b[38;5;241m.\u001b[39merrno, sqlstate\u001b[38;5;241m=\u001b[39merr\u001b[38;5;241m.\u001b[39msqlstate\n\u001b[1;32m    341\u001b[0m     ) \u001b[38;5;28;01mfrom\u001b[39;00m \u001b[38;5;21;01merr\u001b[39;00m\n\u001b[1;32m    343\u001b[0m \u001b[38;5;28mself\u001b[39m\u001b[38;5;241m.\u001b[39m_do_handshake()\n\u001b[1;32m    345\u001b[0m \u001b[38;5;28;01mif\u001b[39;00m (\n\u001b[1;32m    346\u001b[0m     \u001b[38;5;129;01mnot\u001b[39;00m \u001b[38;5;28mself\u001b[39m\u001b[38;5;241m.\u001b[39m_ssl_disabled\n\u001b[1;32m    347\u001b[0m     \u001b[38;5;129;01mand\u001b[39;00m \u001b[38;5;28mhasattr\u001b[39m(\u001b[38;5;28mself\u001b[39m\u001b[38;5;241m.\u001b[39m_cmysql, \u001b[38;5;124m\"\u001b[39m\u001b[38;5;124mget_ssl_cipher\u001b[39m\u001b[38;5;124m\"\u001b[39m)\n\u001b[0;32m   (...)\u001b[0m\n\u001b[1;32m    352\u001b[0m \n\u001b[1;32m    353\u001b[0m     \u001b[38;5;66;03m# `get_ssl_cipher()` returns the name of the cipher being used.\u001b[39;00m\n",
            "\u001b[0;31mProgrammingError\u001b[0m: 1045 (28000): Access denied for user 'root'@'localhost' (using password: YES)"
          ]
        }
      ],
      "source": [
        "import mysql.connector as conn\n",
        "import os\n",
        "from dotenv import load_dotenv\n",
        "load_dotenv()\n",
        "mydb = conn.connect(\n",
        "    host = 'localhost',\n",
        "    password = os.getenv('pwd'),\n",
        "    #database = 'sakila',\n",
        "    user = os.getenv('usuario')\n",
        ")\n",
        "cursor = mydb.cursor()"
      ]
    },
    {
      "cell_type": "code",
      "execution_count": null,
      "metadata": {
        "id": "liytoaZXeRjr"
      },
      "outputs": [],
      "source": [
        "import pandas as pd\n",
        "df = pd.read_csv('apple_store.csv')\n",
        "df.head()"
      ]
    },
    {
      "cell_type": "code",
      "execution_count": null,
      "metadata": {
        "id": "67vsUBXVeXal"
      },
      "outputs": [],
      "source": [
        "df.shape"
      ]
    },
    {
      "cell_type": "code",
      "execution_count": 28,
      "metadata": {
        "id": "OtVSPsq9elig"
      },
      "outputs": [],
      "source": [
        "#Vamos a crear una tabla en nuestra base de datos\n",
        "cursor.execute(\"CREATE DATABASE IF NOT EXISTS apple_store\")\n",
        "#Vamos a usarla\n",
        "cursor.execute(\"USE apple_store\")"
      ]
    },
    {
      "cell_type": "code",
      "execution_count": 30,
      "metadata": {
        "id": "7LwbQ-ODerkK"
      },
      "outputs": [],
      "source": [
        "query = \"\"\"\n",
        "CREATE TABLE IF NOT EXISTS apple (\n",
        "  id BIGINT,\n",
        "  track_name VARCHAR(300),\n",
        "  size_bytes BIGINT,\n",
        "  price FLOAT(5,2),\n",
        "  rating_count_tot BIGINT,\n",
        "  rating_count_ver BIGINT,\n",
        "  user_rating FLOAT(5,2),\n",
        "  user_rating_ver FLOAT(5,2),\n",
        "  prime_genre VARCHAR(100),\n",
        "  PRIMARY KEY (id)\n",
        "  )\n",
        "  \"\"\""
      ]
    },
    {
      "cell_type": "code",
      "execution_count": 31,
      "metadata": {
        "id": "ox1CUBQweqa-"
      },
      "outputs": [],
      "source": [
        "cursor.execute(query)"
      ]
    },
    {
      "cell_type": "code",
      "execution_count": null,
      "metadata": {
        "id": "iEeg2SZKfjfr"
      },
      "outputs": [],
      "source": [
        "cursor.execute(\"SHOW TABLES\")\n",
        "for x in cursor:\n",
        "    print(x)\n",
        "#Vamos a insertas los datos de df en la tabla apple"
      ]
    },
    {
      "cell_type": "markdown",
      "metadata": {
        "id": "C52Ldj6QfZqz"
      },
      "source": [
        "Al intentar insertar las filas hay problemas con determinados caracteres, como por ejemplo `'` pues lo que hace es indicar que ahí termina una cadena de texto."
      ]
    },
    {
      "cell_type": "code",
      "execution_count": 33,
      "metadata": {},
      "outputs": [],
      "source": [
        "#Vaciamos la tabla \n",
        "cursor.execute(\"TRUNCATE TABLE apple\")"
      ]
    },
    {
      "cell_type": "markdown",
      "metadata": {
        "id": "oCKUeGnSfj-g"
      },
      "source": [
        "Para evitar este conflicto hay otra manera de realizar la inserción:"
      ]
    },
    {
      "cell_type": "code",
      "execution_count": null,
      "metadata": {
        "id": "vQSvAE8wfspl"
      },
      "outputs": [],
      "source": [
        "for i, row in df.iterrows():\n",
        "    query = \"\"\"\n",
        "    INSERT INTO apple VALUES (%s, %s, %s, %s, %s, %s, %s, %s, %s)\n",
        "    \"\"\"\n",
        "    # recordad que si se introducen la misma cantidad de valores que columnas no hace falta especificar las columnas\n",
        "    values = (\n",
        "        row['id'],\n",
        "        row['track_name'],\n",
        "        row['size_bytes'],\n",
        "        row['price'],\n",
        "        row['rating_count_tot'],\n",
        "        row['rating_count_ver'],\n",
        "        row['user_rating'],\n",
        "        row['user_rating_ver'],\n",
        "        row['prime_genre']\n",
        "    )\n",
        "    print(query, values)\n",
        "    cursor.execute(query, values)\n",
        "    cursor.execute(\"COMMIT\") #Sino los cambios no se guardan, no se ejecutan realmente\n",
        "    #cursor.close()\n",
        "(print(f\"{i+1} filas insertadas\"))"
      ]
    },
    {
      "cell_type": "markdown",
      "metadata": {
        "id": "SwomF4D3gDOz"
      },
      "source": [
        "En este caso, utilizas `%s` como marcadores de posición para los valores en la consulta `SQL` y luego pasas una tupla `values` que contiene los valores reales a `cursor.execute()`. De esta manera, el driver de MySQL se encargará de escapar correctamente todos los valores para prevenir errores de sintaxis y vulnerabilidades de seguridad."
      ]
    },
    {
      "cell_type": "code",
      "execution_count": null,
      "metadata": {
        "id": "jrFKk_dGgF0T"
      },
      "outputs": [],
      "source": [
        "cursor.close()"
      ]
    },
    {
      "cell_type": "markdown",
      "metadata": {
        "id": "5NwL4hADNP37"
      },
      "source": [
        "# 3 - SQL ALCHEMY\n",
        "\n",
        "Sql Alchemy es una librería que nos permite trabajar con bases de datos de una manera más sencilla y más parecida a como lo hacemos en SQL.\n",
        "\n",
        "Es la librería más usada para trabajar con bases de datos desde Python, ya que nos permite trabajar con cualquier base de datos, tanto SQL como NoSQL.Aunque para trabajar con bases de datos NoSQL existen otras librerías más específicas, mejores y más sencillas en esos casos.\n",
        "\n",
        "## 3.1 - CONFIGURACIÓN CONEXIÓN:\n",
        "\n",
        "Para empezar a trabajar con SQL Alchemy, lo primero que tenemos que hacer es instalarla:\n",
        "```bash\n",
        "!pip install sqlalchemy\n",
        "```\n",
        "Lo siguiente es configurar la `conexión` a nuestra base de datos, creando lo que se llama un `engine`(motor) y pasándole la información de la conexión en una `string de conexión`."
      ]
    },
    {
      "cell_type": "code",
      "execution_count": 36,
      "metadata": {
        "id": "uYXzuZcMNP37"
      },
      "outputs": [],
      "source": [
        "#%pip install sqlalchemy #Instalamos la librería\n",
        "import sqlalchemy as sa"
      ]
    },
    {
      "cell_type": "code",
      "execution_count": 37,
      "metadata": {
        "id": "NP1P8nADNP37"
      },
      "outputs": [],
      "source": [
        "#Parametros de la conexion:\n",
        "host = os.getenv('host')\n",
        "password = os.getenv('pwd')\n",
        "database = os.getenv('db')\n",
        "user = os.getenv('usuario')\n",
        "engine = sa.create_engine(f'mysql+mysqlconnector://{user}:{password}@{host}/{database}') #Creamos el engine"
      ]
    },
    {
      "cell_type": "code",
      "execution_count": null,
      "metadata": {},
      "outputs": [],
      "source": [
        "#testeamos la conexión\n",
        "engine.connect()"
      ]
    },
    {
      "cell_type": "markdown",
      "metadata": {
        "id": "2Alq_BA5g8Wd"
      },
      "source": [
        "Podemos utilizar nuestro conector sin especificar una base de datos, en ese caso cómo creamos nuestro engine debe tener una pequeña modificación.\n",
        "```python\n",
        "#Parametros de la conexion:\n",
        "host = os.getenv('host')\n",
        "password = os.getenv('password')\n",
        "user = os.getenv('user')\n",
        "engine = sa.create_engine(f'mysql+mysqlconnector://{user}:{password}@{host}/') #Creamos el engine sin especificar una base de datos\n",
        "```"
      ]
    },
    {
      "cell_type": "code",
      "execution_count": 1,
      "metadata": {
        "id": "JqE0JS7eg_q9"
      },
      "outputs": [
        {
          "ename": "NameError",
          "evalue": "name 'os' is not defined",
          "output_type": "error",
          "traceback": [
            "\u001b[0;31m---------------------------------------------------------------------------\u001b[0m",
            "\u001b[0;31mNameError\u001b[0m                                 Traceback (most recent call last)",
            "Cell \u001b[0;32mIn[1], line 2\u001b[0m\n\u001b[1;32m      1\u001b[0m \u001b[38;5;66;03m#Parametros de la conexion:\u001b[39;00m\n\u001b[0;32m----> 2\u001b[0m host \u001b[38;5;241m=\u001b[39m \u001b[43mos\u001b[49m\u001b[38;5;241m.\u001b[39mgetenv(\u001b[38;5;124m'\u001b[39m\u001b[38;5;124mhost\u001b[39m\u001b[38;5;124m'\u001b[39m)\n\u001b[1;32m      3\u001b[0m password \u001b[38;5;241m=\u001b[39m os\u001b[38;5;241m.\u001b[39mgetenv(\u001b[38;5;124m'\u001b[39m\u001b[38;5;124mpwd\u001b[39m\u001b[38;5;124m'\u001b[39m)\n\u001b[1;32m      4\u001b[0m user \u001b[38;5;241m=\u001b[39m os\u001b[38;5;241m.\u001b[39mgetenv(\u001b[38;5;124m'\u001b[39m\u001b[38;5;124musuario\u001b[39m\u001b[38;5;124m'\u001b[39m)\n",
            "\u001b[0;31mNameError\u001b[0m: name 'os' is not defined"
          ]
        }
      ],
      "source": [
        "#Parametros de la conexion:\n",
        "host = os.getenv('host')\n",
        "password = os.getenv('pwd')\n",
        "user = os.getenv('usuario')\n",
        "engine = sa.create_engine(f'mysql+mysqlconnector://{user}:{password}@{host}/') #Creamos el engine"
      ]
    },
    {
      "cell_type": "code",
      "execution_count": null,
      "metadata": {
        "id": "sUXLMQ9QNP37"
      },
      "outputs": [],
      "source": [
        "#Probamos que conecta correctamente\n",
        "engine.connect() #Mi motor puede crear una conexion"
      ]
    },
    {
      "cell_type": "markdown",
      "metadata": {
        "id": "iLhVfhq_hGEm"
      },
      "source": [
        "Ya tenemos creada nuestra base de datos con una única tabla con aplicaciones de apple_store. Para poder ver su contenido lo primero que vamos a tener que hacer es conectarnos a esa base de datos:\n",
        "```sql\n",
        "--Activar una base de datos para poder hacer consultas en ella:\n",
        "USE nombre_base_datos;\n",
        "```"
      ]
    },
    {
      "cell_type": "code",
      "execution_count": null,
      "metadata": {},
      "outputs": [],
      "source": [
        "#Vamos a utilizar la base de datos\n",
        "query = 'USE apple_store'\n",
        "#Vamos a recuperar los datos de la tabla apple\n",
        "query_test = 'SELECT * FROM apple LIMIT 10'\n",
        "\n",
        "with engine.connect() as con:\n",
        "    con.execute(sa.text(query))\n",
        "    test = con.execute(sa.text(query_test))\n",
        "    print(test.fetchall())"
      ]
    },
    {
      "cell_type": "code",
      "execution_count": 42,
      "metadata": {},
      "outputs": [],
      "source": [
        "for fila in test.fetchall():\n",
        "    print(fila)"
      ]
    },
    {
      "cell_type": "code",
      "execution_count": null,
      "metadata": {
        "id": "qIIRppOiNP37"
      },
      "outputs": [],
      "source": [
        "#Vamos a ver que tablas hay en la base de datos\n",
        "query = \"SHOW TABLES\"\n",
        "\n",
        "with engine.connect() as con: #Con esto nos conectamos a la base de datos\n",
        "    con.execute(sa.text(query)) #Con esto ejecutamos la query\n",
        "    print(con.execute(sa.text(query)).fetchall()) #Con esto nos devuelve el resultado de la query"
      ]
    },
    {
      "cell_type": "code",
      "execution_count": null,
      "metadata": {
        "id": "8fSsTZqfhR8f"
      },
      "outputs": [],
      "source": [
        "# Solo hay una tabla, así que vamos a ver todo lo que tiene esa tabla\n",
        "query = \"SELECT * FROM apple\"\n",
        "\n",
        "with engine.connect() as con:\n",
        "    con.execute(sa.text(query)) #Con esto ejecutamos la query\n",
        "    print(con.execute(sa.text(query)).fetchall()) #Con esto nos devuelve el resultado de la query"
      ]
    },
    {
      "cell_type": "markdown",
      "metadata": {
        "id": "a7BreXL7hVZ1"
      },
      "source": [
        "Es un poco complicada la **lectura** así que lo que podemos hacer de una manera muy rápida es convertir esta **salida** de SQL en un **DataFrame**. Hay varios métodos para hacerlo:\n",
        "1. Se puede utilizar la función de **pandas** `read_sql_query()`\n",
        "2. Se puede utilizar la query directamente como data para la función de crear un DataFrame `pd.DataFrame`"
      ]
    },
    {
      "cell_type": "code",
      "execution_count": null,
      "metadata": {
        "id": "-57J_HKghWTH"
      },
      "outputs": [],
      "source": [
        "# Primer caso:\n",
        "query = \"SELECT * FROM apple\"\n",
        "\n",
        "with engine.connect() as con:\n",
        "    df_apple = pd.read_sql_query(query # query que quiero ejecutar\n",
        "                                 ,con) # conexión a la base de datos\n",
        "\n",
        "print(f'El tamaño de esta salida es: {df_apple.shape}')\n",
        "df_apple"
      ]
    },
    {
      "cell_type": "code",
      "execution_count": null,
      "metadata": {
        "id": "4-WJrPlRhfF_"
      },
      "outputs": [],
      "source": [
        "# Segundo caso:\n",
        "query = \"SELECT * FROM apple\"\n",
        "\n",
        "with engine.connect() as con:\n",
        "    df_apple = pd.DataFrame(con.execute(sa.text(query)).fetchall()) # le digo que data es directamente la query\n",
        "\n",
        "print(f'El tamaño de esta salida es: {df_apple.shape}')\n",
        "df_apple"
      ]
    },
    {
      "cell_type": "markdown",
      "metadata": {
        "id": "zoOkzaJ-hj-r"
      },
      "source": [
        "Hemos visto cómo recorrer un DataFrame y crear una tabla en SQL dentro de una base de datos de una manera dinámica con `f-strings`. \n",
        "\n",
        "No obstante, hay **otras maneras** de hacerlo, con SQLAlchemy podemos directamente convertir un **DataFrame** en una **tabla**, sin necesidad de preocuparnos por hacer algún tipo de **transformación previa**."
      ]
    },
    {
      "cell_type": "code",
      "execution_count": 47,
      "metadata": {
        "id": "1WZgKxiphqFB"
      },
      "outputs": [],
      "source": [
        "# Primero debemos crear una tabla para poder introducir la información\n",
        "# Una vez creada la tabla con las columnas necesarias ya podremos introducir la información\n",
        "query = \"\"\"\n",
        "CREATE TABLE IF NOT EXISTS apple_short (\n",
        "    id BIGINT,\n",
        "    price FLOAT(5,2),\n",
        "    user_rating FLOAT(5,2),\n",
        "    PRIMARY KEY (id)\n",
        "    )\n",
        "    \"\"\"\n",
        "\n",
        "with engine.connect() as con:\n",
        "    con.execute(sa.text(query))"
      ]
    },
    {
      "cell_type": "code",
      "execution_count": 49,
      "metadata": {
        "id": "1WiIgZp9hvTI"
      },
      "outputs": [],
      "source": [
        "# Primero, para no tener dos tablas idénticas, voy a filtrar el DataFrame para tener únicamente id, precio y puntuación.\n",
        "df_apple_insert = df_apple[['id', 'price', 'user_rating']]\n",
        "\n",
        "# Usamos el conector para introducir este df como una nueva tabla\n",
        "with engine.connect() as con:\n",
        "    df_apple_insert.to_sql('apple_recortada', # nombre de la tabla \n",
        "                            con=con, # conexión a la base de datos \n",
        "                            schema='apple_store', # nombre de la base de datos\n",
        "                            if_exists='replace', # comportamiento si la tabla ya existe ['fail', 'replace', 'append']\n",
        "                            index=False # si quiero añadir el índice como columna\n",
        "                            )"
      ]
    },
    {
      "cell_type": "code",
      "execution_count": null,
      "metadata": {
        "id": "xu9_XVdHiz62"
      },
      "outputs": [],
      "source": [
        "# Comprobamos los 5 primeros registros para ver que se ha insertado información\n",
        "query = \"\"\"\n",
        "SELECT *\n",
        "FROM apple_recortada\n",
        "LIMIT 5\n",
        "\"\"\"\n",
        "\n",
        "with engine.connect() as con:\n",
        "    con.execute(sa.text(query))\n",
        "    for result in con.execute(sa.text(query)):\n",
        "        print(result)"
      ]
    },
    {
      "cell_type": "markdown",
      "metadata": {},
      "source": [
        "## 3.2 - Creamos una tabla en nuestra base de datos a partir de un DataFrame\n",
        "\n",
        "Esta vez vamos a hacerlo, pero sin necesidad de crear la tabla en la base de datos, vamos a hacerlo directamente desde el DataFrame."
      ]
    },
    {
      "cell_type": "code",
      "execution_count": null,
      "metadata": {},
      "outputs": [],
      "source": [
        "df_apple.head()"
      ]
    },
    {
      "cell_type": "code",
      "execution_count": null,
      "metadata": {},
      "outputs": [],
      "source": [
        "df_apple_directa = df_apple[['track_name', 'size_bytes']]\n",
        "df_apple_directa"
      ]
    },
    {
      "cell_type": "code",
      "execution_count": 53,
      "metadata": {},
      "outputs": [],
      "source": [
        "# Usamos el conector para introducir este df como una nueva tabla\n",
        "with engine.connect() as con:\n",
        "    df_apple_directa.to_sql('apple_directa', # nombre de la tabla \n",
        "                            con=con, # conexión a la base de datos \n",
        "                            schema='apple_store', # nombre de la base de datos\n",
        "                            if_exists='replace', # comportamiento si la tabla ya existe ['fail', 'replace', 'append']\n",
        "                            index=False # si quiero añadir el índice como columna\n",
        "                            )"
      ]
    },
    {
      "cell_type": "code",
      "execution_count": null,
      "metadata": {},
      "outputs": [],
      "source": [
        "#Comprobamos\n",
        "query = 'SELECT * FROM apple_directa LIMIT 5'\n",
        "\n",
        "with engine.connect() as con:\n",
        "    con.execute(sa.text(query))\n",
        "    for result in con.execute(sa.text(query)):\n",
        "        print(result)"
      ]
    },
    {
      "cell_type": "markdown",
      "metadata": {},
      "source": [
        "## 3.3 - Actualizando registros en la base de datos\n",
        "\n",
        "Vamos a ver cómo podemos **actualizar** registros en nuestra base de datos. Para ello, vamos a hacer una **actualización** de la tabla `apple_store` que hemos creado anteriormente."
      ]
    },
    {
      "cell_type": "code",
      "execution_count": 58,
      "metadata": {},
      "outputs": [],
      "source": [
        "#Vamos descargar el contenido de la tabla apple en un DataFrame\n",
        "#para cambiar los datos de la columna 'prime_genre' a mayúsculas y \n",
        "# actualizar la tabla en la base de datos\n",
        "query = \"SELECT * FROM apple\"\n",
        "\n",
        "with engine.connect() as con:\n",
        "    df_apple = pd.read_sql_query(query, con)\n",
        "    "
      ]
    },
    {
      "cell_type": "code",
      "execution_count": null,
      "metadata": {},
      "outputs": [],
      "source": [
        "df_apple[['prime_genre']]"
      ]
    },
    {
      "cell_type": "code",
      "execution_count": null,
      "metadata": {},
      "outputs": [],
      "source": [
        "df_apple['prime_genre'] = df_apple['prime_genre'].str.lower()\n",
        "df_apple[['prime_genre']]"
      ]
    },
    {
      "cell_type": "code",
      "execution_count": 62,
      "metadata": {},
      "outputs": [],
      "source": [
        "# Cargamos el DataFrame en la base de datos\n",
        "with engine.connect() as con:\n",
        "    df_apple.to_sql('apple', # nombre de la tabla \n",
        "                    con=con, # conexión a la base de datos \n",
        "                    schema='apple_store', # nombre de la base de datos\n",
        "                    if_exists='replace', # comportamiento si la tabla ya existe ['fail', 'replace', 'append']\n",
        "                    index=False # si quiero añadir el índice como columna\n",
        "                    )"
      ]
    },
    {
      "cell_type": "code",
      "execution_count": null,
      "metadata": {},
      "outputs": [],
      "source": [
        "query = \"SELECT * FROM apple LIMIT 10\"\n",
        "\n",
        "with engine.connect() as con:\n",
        "    con.execute(sa.text(query))\n",
        "    df = pd.read_sql_query(query, con)\n",
        "df[['prime_genre']]"
      ]
    },
    {
      "cell_type": "code",
      "execution_count": null,
      "metadata": {},
      "outputs": [],
      "source": [
        "#Ejercicio \n",
        "# Vamos a resetear la columna id, para que empiece en 1 hasta el final\n",
        "#size_bytes vamos a cambiarlo a MB (1 MB son 1024*1024 bytes) y redondeamos a 2 decimales\n",
        "# vamos a crear una nueva columna que sea price . rating_count_tot y la llamaremos income"
      ]
    },
    {
      "cell_type": "markdown",
      "metadata": {},
      "source": []
    }
  ],
  "metadata": {
    "colab": {
      "provenance": []
    },
    "kernelspec": {
      "display_name": "gamma",
      "language": "python",
      "name": "python3"
    },
    "language_info": {
      "codemirror_mode": {
        "name": "ipython",
        "version": 3
      },
      "file_extension": ".py",
      "mimetype": "text/x-python",
      "name": "python",
      "nbconvert_exporter": "python",
      "pygments_lexer": "ipython3",
      "version": "3.12.4"
    }
  },
  "nbformat": 4,
  "nbformat_minor": 0
}
