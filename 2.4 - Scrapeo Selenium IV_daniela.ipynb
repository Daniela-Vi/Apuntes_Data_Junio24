{
  "cells": [
    {
      "cell_type": "markdown",
      "metadata": {
        "id": "PvtnTnUnk8jD"
      },
      "source": [
        "### FORMULARIO"
      ]
    },
    {
      "cell_type": "code",
      "execution_count": 1,
      "metadata": {
        "id": "6aShR06qk8jF"
      },
      "outputs": [],
      "source": [
        "from selenium.webdriver.support.ui import WebDriverWait   # para meter esperaras\n",
        "from selenium.webdriver.support import expected_conditions as EC   # para esperar ciertos eventos\n",
        "from selenium.webdriver import ActionChains # para hacer acciones con el ratón\n",
        "import time\n",
        "import random\n",
        "import selenium.webdriver.common.keys as Keys # para simular teclas\n",
        "from selenium import webdriver\n",
        "from webdriver_manager.chrome import ChromeDriverManager # sustituye al archivo\n",
        "from selenium.webdriver.chrome.options import Options # opciones de chrome\n",
        "from selenium.webdriver.common.by import By # By es para buscar por tag, clase, id..."
      ]
    },
    {
      "cell_type": "code",
      "execution_count": 2,
      "metadata": {
        "id": "dZwIDTVvk8jG"
      },
      "outputs": [],
      "source": [
        "#Opciones de chrome\n",
        "opciones = webdriver.ChromeOptions()\n",
        "#opciones.add_argument('--start-maximized')\n",
        "opciones.add_argument('window-size=775,1400')\n",
        "opciones.add_argument('--disable-extensions')\n",
        "opciones.add_argument('--disable-blink-features=AutomationControlled')\n",
        "opciones.add_argument('--no-sandbox')\n",
        "opciones.add_argument(\"--disable-dev-shm-usage\")\n",
        "opciones.add_experimental_option('useAutomationExtension', False)\n",
        "opciones.add_experimental_option('excludeSwitches', ['enable-automation'])"
      ]
    },
    {
      "cell_type": "code",
      "execution_count": 3,
      "metadata": {
        "id": "GdfZ5W0Yk8jH"
      },
      "outputs": [],
      "source": [
        "url = 'https://formsmarts.com/html-form-example' #Web por cierto muy interesante\n",
        "driver = webdriver.Chrome(options=opciones)\n",
        "driver.get(url)"
      ]
    },
    {
      "cell_type": "code",
      "execution_count": 4,
      "metadata": {},
      "outputs": [
        {
          "ename": "NoSuchElementException",
          "evalue": "Message: no such element: Unable to locate element: {\"method\":\"css selector\",\"selector\":\"[id=\"u_pTj_4607\"]\"}\n  (Session info: chrome=129.0.6668.58); For documentation on this error, please visit: https://www.selenium.dev/documentation/webdriver/troubleshooting/errors#no-such-element-exception\nStacktrace:\n#0 0x563b5a17010a <unknown>\n#1 0x563b59e565e0 <unknown>\n#2 0x563b59ea5be8 <unknown>\n#3 0x563b59ea5e81 <unknown>\n#4 0x563b59eec8c4 <unknown>\n#5 0x563b59ecab4d <unknown>\n#6 0x563b59ee9d7d <unknown>\n#7 0x563b59eca8c3 <unknown>\n#8 0x563b59e986b3 <unknown>\n#9 0x563b59e9968e <unknown>\n#10 0x563b5a13ab0b <unknown>\n#11 0x563b5a13ea91 <unknown>\n#12 0x563b5a127305 <unknown>\n#13 0x563b5a13f612 <unknown>\n#14 0x563b5a10c46f <unknown>\n#15 0x563b5a15f008 <unknown>\n#16 0x563b5a15f1d3 <unknown>\n#17 0x563b5a16ef5c <unknown>\n#18 0x7f46e9d2cac3 <unknown>\n",
          "output_type": "error",
          "traceback": [
            "\u001b[0;31m---------------------------------------------------------------------------\u001b[0m",
            "\u001b[0;31mNoSuchElementException\u001b[0m                    Traceback (most recent call last)",
            "Cell \u001b[0;32mIn[4], line 4\u001b[0m\n\u001b[1;32m      1\u001b[0m \u001b[38;5;66;03m#Vamos a intentar rellenar el formulario\u001b[39;00m\n\u001b[1;32m      2\u001b[0m \n\u001b[1;32m      3\u001b[0m \u001b[38;5;66;03m#Nombre\u001b[39;00m\n\u001b[0;32m----> 4\u001b[0m celda_nombre \u001b[38;5;241m=\u001b[39m \u001b[43mdriver\u001b[49m\u001b[38;5;241;43m.\u001b[39;49m\u001b[43mfind_element\u001b[49m\u001b[43m(\u001b[49m\u001b[43mBy\u001b[49m\u001b[38;5;241;43m.\u001b[39;49m\u001b[43mID\u001b[49m\u001b[43m,\u001b[49m\u001b[43m \u001b[49m\u001b[38;5;124;43m'\u001b[39;49m\u001b[38;5;124;43mu_pTj_4607\u001b[39;49m\u001b[38;5;124;43m'\u001b[39;49m\u001b[43m)\u001b[49m\n\u001b[1;32m      5\u001b[0m celda_nombre\u001b[38;5;241m.\u001b[39msend_keys(\u001b[38;5;124m'\u001b[39m\u001b[38;5;124mManolo\u001b[39m\u001b[38;5;124m'\u001b[39m)\n",
            "File \u001b[0;32m~/miniconda3/envs/gamma/lib/python3.12/site-packages/selenium/webdriver/remote/webdriver.py:748\u001b[0m, in \u001b[0;36mWebDriver.find_element\u001b[0;34m(self, by, value)\u001b[0m\n\u001b[1;32m    745\u001b[0m     by \u001b[38;5;241m=\u001b[39m By\u001b[38;5;241m.\u001b[39mCSS_SELECTOR\n\u001b[1;32m    746\u001b[0m     value \u001b[38;5;241m=\u001b[39m \u001b[38;5;124mf\u001b[39m\u001b[38;5;124m'\u001b[39m\u001b[38;5;124m[name=\u001b[39m\u001b[38;5;124m\"\u001b[39m\u001b[38;5;132;01m{\u001b[39;00mvalue\u001b[38;5;132;01m}\u001b[39;00m\u001b[38;5;124m\"\u001b[39m\u001b[38;5;124m]\u001b[39m\u001b[38;5;124m'\u001b[39m\n\u001b[0;32m--> 748\u001b[0m \u001b[38;5;28;01mreturn\u001b[39;00m \u001b[38;5;28;43mself\u001b[39;49m\u001b[38;5;241;43m.\u001b[39;49m\u001b[43mexecute\u001b[49m\u001b[43m(\u001b[49m\u001b[43mCommand\u001b[49m\u001b[38;5;241;43m.\u001b[39;49m\u001b[43mFIND_ELEMENT\u001b[49m\u001b[43m,\u001b[49m\u001b[43m \u001b[49m\u001b[43m{\u001b[49m\u001b[38;5;124;43m\"\u001b[39;49m\u001b[38;5;124;43musing\u001b[39;49m\u001b[38;5;124;43m\"\u001b[39;49m\u001b[43m:\u001b[49m\u001b[43m \u001b[49m\u001b[43mby\u001b[49m\u001b[43m,\u001b[49m\u001b[43m \u001b[49m\u001b[38;5;124;43m\"\u001b[39;49m\u001b[38;5;124;43mvalue\u001b[39;49m\u001b[38;5;124;43m\"\u001b[39;49m\u001b[43m:\u001b[49m\u001b[43m \u001b[49m\u001b[43mvalue\u001b[49m\u001b[43m}\u001b[49m\u001b[43m)\u001b[49m[\u001b[38;5;124m\"\u001b[39m\u001b[38;5;124mvalue\u001b[39m\u001b[38;5;124m\"\u001b[39m]\n",
            "File \u001b[0;32m~/miniconda3/envs/gamma/lib/python3.12/site-packages/selenium/webdriver/remote/webdriver.py:354\u001b[0m, in \u001b[0;36mWebDriver.execute\u001b[0;34m(self, driver_command, params)\u001b[0m\n\u001b[1;32m    352\u001b[0m response \u001b[38;5;241m=\u001b[39m \u001b[38;5;28mself\u001b[39m\u001b[38;5;241m.\u001b[39mcommand_executor\u001b[38;5;241m.\u001b[39mexecute(driver_command, params)\n\u001b[1;32m    353\u001b[0m \u001b[38;5;28;01mif\u001b[39;00m response:\n\u001b[0;32m--> 354\u001b[0m     \u001b[38;5;28;43mself\u001b[39;49m\u001b[38;5;241;43m.\u001b[39;49m\u001b[43merror_handler\u001b[49m\u001b[38;5;241;43m.\u001b[39;49m\u001b[43mcheck_response\u001b[49m\u001b[43m(\u001b[49m\u001b[43mresponse\u001b[49m\u001b[43m)\u001b[49m\n\u001b[1;32m    355\u001b[0m     response[\u001b[38;5;124m\"\u001b[39m\u001b[38;5;124mvalue\u001b[39m\u001b[38;5;124m\"\u001b[39m] \u001b[38;5;241m=\u001b[39m \u001b[38;5;28mself\u001b[39m\u001b[38;5;241m.\u001b[39m_unwrap_value(response\u001b[38;5;241m.\u001b[39mget(\u001b[38;5;124m\"\u001b[39m\u001b[38;5;124mvalue\u001b[39m\u001b[38;5;124m\"\u001b[39m, \u001b[38;5;28;01mNone\u001b[39;00m))\n\u001b[1;32m    356\u001b[0m     \u001b[38;5;28;01mreturn\u001b[39;00m response\n",
            "File \u001b[0;32m~/miniconda3/envs/gamma/lib/python3.12/site-packages/selenium/webdriver/remote/errorhandler.py:229\u001b[0m, in \u001b[0;36mErrorHandler.check_response\u001b[0;34m(self, response)\u001b[0m\n\u001b[1;32m    227\u001b[0m         alert_text \u001b[38;5;241m=\u001b[39m value[\u001b[38;5;124m\"\u001b[39m\u001b[38;5;124malert\u001b[39m\u001b[38;5;124m\"\u001b[39m]\u001b[38;5;241m.\u001b[39mget(\u001b[38;5;124m\"\u001b[39m\u001b[38;5;124mtext\u001b[39m\u001b[38;5;124m\"\u001b[39m)\n\u001b[1;32m    228\u001b[0m     \u001b[38;5;28;01mraise\u001b[39;00m exception_class(message, screen, stacktrace, alert_text)  \u001b[38;5;66;03m# type: ignore[call-arg]  # mypy is not smart enough here\u001b[39;00m\n\u001b[0;32m--> 229\u001b[0m \u001b[38;5;28;01mraise\u001b[39;00m exception_class(message, screen, stacktrace)\n",
            "\u001b[0;31mNoSuchElementException\u001b[0m: Message: no such element: Unable to locate element: {\"method\":\"css selector\",\"selector\":\"[id=\"u_pTj_4607\"]\"}\n  (Session info: chrome=129.0.6668.58); For documentation on this error, please visit: https://www.selenium.dev/documentation/webdriver/troubleshooting/errors#no-such-element-exception\nStacktrace:\n#0 0x563b5a17010a <unknown>\n#1 0x563b59e565e0 <unknown>\n#2 0x563b59ea5be8 <unknown>\n#3 0x563b59ea5e81 <unknown>\n#4 0x563b59eec8c4 <unknown>\n#5 0x563b59ecab4d <unknown>\n#6 0x563b59ee9d7d <unknown>\n#7 0x563b59eca8c3 <unknown>\n#8 0x563b59e986b3 <unknown>\n#9 0x563b59e9968e <unknown>\n#10 0x563b5a13ab0b <unknown>\n#11 0x563b5a13ea91 <unknown>\n#12 0x563b5a127305 <unknown>\n#13 0x563b5a13f612 <unknown>\n#14 0x563b5a10c46f <unknown>\n#15 0x563b5a15f008 <unknown>\n#16 0x563b5a15f1d3 <unknown>\n#17 0x563b5a16ef5c <unknown>\n#18 0x7f46e9d2cac3 <unknown>\n"
          ]
        }
      ],
      "source": [
        "#Vamos a intentar rellenar el formulario\n",
        "\n",
        "#Nombre\n",
        "celda_nombre = driver.find_element(By.ID, 'u_pTj_4607')\n",
        "celda_nombre.send_keys('Manolo')"
      ]
    },
    {
      "cell_type": "code",
      "execution_count": null,
      "metadata": {},
      "outputs": [],
      "source": [
        "//*[@id=\"contact-form\"]/iframe"
      ]
    },
    {
      "cell_type": "markdown",
      "metadata": {
        "id": "V5iQEL0Vk8jH"
      },
      "source": [
        "## IFRAMES\n",
        "\n",
        "El `iframe` permite poner otra página `HTML` dentro de la página actual. Funciona como una nueva ventana dentro de la página actual que muestra otro documento `HTML`.\n",
        "\n",
        "### Características del iframe\n",
        "1. **Independencia**: El documento dentro de un `iframe` puede ser completamente diferente y operar de manera independiente del documento principal. Esto significa que puede tener su propio conjunto de estilos `CSS`, `scripts` y elementos `HTML` que no interfieren con la página en la que está incrustado.\n",
        "2. **Fuente del contenido**: A través del atributo `src` del `iframe`, se puede especificar la `URL` del documento que se desea embeber. Esto permite cargar prácticamente cualquier página web dentro del `iframe`, siempre y cuando las políticas de seguridad del navegador y del servidor lo permitan.\n",
        "3. **Seguridad**: Los `iframes` son a menudo un foco de preocupaciones de seguridad. Pueden ser utilizados para técnicas de \"clickjacking\", donde elementos maliciosos se ocultan detrás de lo que parece ser contenido legítimo. Por esta razón, los navegadores imponen restricciones de seguridad como la política de mismo origen (Same-Origin Policy), que impide que el contenido dentro de un `iframe` interactúe con la página principal a menos que ambos compartan el mismo dominio.\n",
        "4. **Atributos de configuración**: Además del `src`, los `iframes` tienen otros atributos que controlan su comportamiento y presentación, como `height` y `width` para dimensiones, `frameborder` para controlar la visualización del borde, y `scrolling` para habilitar o deshabilitar las barras de desplazamiento.\n",
        "5. **Aplicaciones**: Los `iframes` son útiles en varios contextos, como embeber:\n",
        "- Videos de plataformas como YouTube o Vimeo.\n",
        "- Mapas interactivos de servicios como Google Maps.\n",
        "- Mini aplicaciones o widgets, como calculadoras o herramientas interactivas.\n",
        "- Contenido de redes sociales.\n",
        "- Documentos PDF o similares para visualización directa en la página.\n",
        "### Limitaciones y Consideraciones:\n",
        "* **Rendimiento**: Cargar `iframes` *puede aumentar el tiempo de carga de la página* ya que cada `iframe` es esencialmente una página web completa con sus propios recursos a cargar.\n",
        "* **Accesibilidad**: Es importante garantizar que el contenido dentro de un `iframe` sea accesible, ya que los screen readers y otras herramientas de accesibilidad pueden tener dificultades para acceder a contenido incrustado de esta manera.\n",
        "* **Responsive Design**: Hacer que los iframes sean responsivos (que se ajusten automáticamente al tamaño de la pantalla del dispositivo) puede requerir CSS adicional o técnicas de diseño web responsivo."
      ]
    },
    {
      "cell_type": "code",
      "execution_count": 5,
      "metadata": {},
      "outputs": [],
      "source": [
        "#Vamos a localizar el iframe\n",
        "iframe = driver.find_element(By.XPATH, '//*[@id=\"contact-form\"]/iframe')"
      ]
    },
    {
      "cell_type": "code",
      "execution_count": 6,
      "metadata": {},
      "outputs": [],
      "source": [
        "#Lo hemos ubidado, ahora vamos a cambiar al iframe\n",
        "driver.switch_to.frame(iframe)"
      ]
    },
    {
      "cell_type": "code",
      "execution_count": 7,
      "metadata": {},
      "outputs": [
        {
          "name": "stdout",
          "output_type": "stream",
          "text": [
            "<html lang=\"en\"><head>\n",
            "<title>Feedback Form</title>\n",
            "<meta charset=\"utf-8\">\n",
            "<meta name=\"robots\" content=\"noarchive\">\n",
            "<meta name=\"viewport\" content=\"width=device-width, initial-scale=1\">\n",
            "<link href=\"//fonts.googleapis.com/css?family=Raleway:400,300,600\" rel=\"stylesheet\">\n",
            "<link href=\"https://d1dpob6jfpke0c.cloudfront.net/css/embed-1-2.1.c.css\" rel=\"stylesheet\">\n",
            "<style>body{\n",
            "}\n",
            "input[type=\"submit\"].button-primary,input[type=\"submit\"].button-primary:hover,input[type=\"submit\"].button-primary:focus{background-color:#343a40;border:1px solid #343a40;color:#ffffff}input[type=\"submit\"].button-primary:focus{border-color:#d1d1d1}\n",
            "</style>\n",
            "</head>\n",
            "<body data-country=\"ES\" data-static-host=\"https://d1dpob6jfpke0c.cloudfront.net\">\n",
            "<div class=\"container\">\n",
            "<!--hdr-->\n",
            "\n",
            "<p>This is a sample contact form. You could get the same form live on your site in about 2 minutes.</p>\n",
            "<form action=\"/form/yx/submit\" name=\"f\" id=\"f\" method=\"post\" enctype=\"multipart/form-data\" accept-charset=\"UTF-8\" novalidate=\"\">\n",
            "\n",
            "\n",
            "\n",
            "\n",
            "<inp\n"
          ]
        }
      ],
      "source": [
        "#Vamos a sacar el contenido del iframe\n",
        "print(driver.page_source[:1000])"
      ]
    },
    {
      "cell_type": "code",
      "execution_count": 18,
      "metadata": {},
      "outputs": [],
      "source": [
        "inputs= driver.find_elements(By.TAG_NAME,'input') #TAG_NAME buscane el hatemele por el nombre de la etiqueta\n",
        "inputs= inputs[5:8]"
      ]
    },
    {
      "cell_type": "code",
      "execution_count": 20,
      "metadata": {},
      "outputs": [
        {
          "name": "stdout",
          "output_type": "stream",
          "text": [
            "0 Your first name\n",
            "1 Your last name\n",
            "2 Your email address\n"
          ]
        }
      ],
      "source": [
        "for i , input in enumerate(inputs):\n",
        "    print(i , input.get_attribute('placeholder'))"
      ]
    },
    {
      "cell_type": "code",
      "execution_count": null,
      "metadata": {},
      "outputs": [],
      "source": [
        "keys = ['gino', 'rodrigue', 'email@hotmail.com']\n",
        "iterable = zip[keys, inputs]\n",
        "\n",
        "for k, i in iterable:\n",
        "    i.send_keys(k)"
      ]
    },
    {
      "cell_type": "code",
      "execution_count": 24,
      "metadata": {},
      "outputs": [],
      "source": [
        "#selccionamos la option directamente\n",
        "Options = driver.find_element(By.XPATH,'//*[@id=\"u_Y3K_338367\"]/option[3]')\n",
        "Options.click()"
      ]
    },
    {
      "cell_type": "code",
      "execution_count": 26,
      "metadata": {},
      "outputs": [],
      "source": [
        "#podemos teclear directamente en el select\n",
        "caja_deplegable = driver.find_element(By.TAG_NAME,'select')\n",
        "caja_deplegable.send_keys('w') #con esta opcion si nos cambian el orden del deplegable \n",
        "#podemos buscar por una inicial o alguna caracteristica "
      ]
    },
    {
      "cell_type": "code",
      "execution_count": 27,
      "metadata": {},
      "outputs": [],
      "source": [
        "#Inquiry queseria igual a cual es tu sulicitus \n",
        "comentario = driver.find_element(By.TAG_NAME,'textarea')\n",
        "comentario.send_keys('hola mundo')"
      ]
    },
    {
      "cell_type": "code",
      "execution_count": null,
      "metadata": {},
      "outputs": [],
      "source": [
        "<textarea name=\"u_Y3K_4609\" id=\"u_Y3K_4609\" class=\"u-full-width\" placeholder=\"Your comment\" aria-required=\"true\"></textarea>"
      ]
    },
    {
      "cell_type": "code",
      "execution_count": 29,
      "metadata": {},
      "outputs": [],
      "source": [
        "#vamos a buscar el boton de enviar \n",
        "boton = driver.find_element(By.CSS_SELECTOR,'[placeholder=\"Your comment\"]') #el css_selector es muy potente que nos permite colocar el parache con la variable "
      ]
    },
    {
      "cell_type": "code",
      "execution_count": null,
      "metadata": {},
      "outputs": [],
      "source": [
        "<input name=\"submit\" type=\"submit\" value=\"Continue →\" class=\"button-primary submit\">"
      ]
    },
    {
      "cell_type": "code",
      "execution_count": 30,
      "metadata": {},
      "outputs": [],
      "source": [
        "#enviamos el formulario \n",
        "driver.find_element(By.CSS_SELECTOR,'[name=\"submit\"]').click()"
      ]
    },
    {
      "cell_type": "code",
      "execution_count": null,
      "metadata": {},
      "outputs": [],
      "source": []
    },
    {
      "cell_type": "code",
      "execution_count": null,
      "metadata": {},
      "outputs": [],
      "source": [
        "#Lo hacemos en directo que se han movido los IDS\n",
        "\n",
        "#Vamos a rellenar el formulario\n",
        "nombre = driver.find_element(By.ID, 'u_Y3K_4607')\n",
        "nombre.send_keys('Manolo')\n",
        "\n",
        "#Apellido\n",
        "apellido = driver.find_element(By.ID, 'u_pTj_338354')\n",
        "apellido.send_keys('García')\n",
        "\n",
        "email = driver.find_element(By.ID, 'u_pTj_4608')\n",
        "email.send_keys('mi_mail@gmail.com')\n",
        "\n",
        "opcion = driver.find_element(By.ID, 'u_pTj_338367')\n",
        "opcion.send_keys('S')\n",
        "\n",
        "#Mensaje\n",
        "mensaje = driver.find_element(By.ID, 'u_pTj_4609')\n",
        "mensaje.send_keys('Pasando el rato con los iframes')\n",
        "\n",
        "#Enviar lo ubicamos porque es una etiqueta input con el atributo name = submit\n",
        "enviar = driver.find_element(By.NAME, 'submit')\n",
        "enviar.click()"
      ]
    },
    {
      "cell_type": "code",
      "execution_count": null,
      "metadata": {},
      "outputs": [],
      "source": [
        "#Vamos a buscar el boton de enviar"
      ]
    },
    {
      "cell_type": "code",
      "execution_count": 60,
      "metadata": {},
      "outputs": [],
      "source": [
        "driver.quit()"
      ]
    }
  ],
  "metadata": {
    "colab": {
      "provenance": []
    },
    "kernelspec": {
      "display_name": "Python 3",
      "language": "python",
      "name": "python3"
    },
    "language_info": {
      "codemirror_mode": {
        "name": "ipython",
        "version": 3
      },
      "file_extension": ".py",
      "mimetype": "text/x-python",
      "name": "python",
      "nbconvert_exporter": "python",
      "pygments_lexer": "ipython3",
      "version": "3.12.4"
    }
  },
  "nbformat": 4,
  "nbformat_minor": 0
}
