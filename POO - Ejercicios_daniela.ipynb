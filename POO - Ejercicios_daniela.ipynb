{
 "cells": [
  {
   "cell_type": "markdown",
   "metadata": {},
   "source": [
    "# Agenda\n",
    "Realizar una clase que administre una `agenda`. Se debe almacenar para cada contacto el nombre, el teléfono y el email. Además deberá mostrar un menú con las siguientes opciones:\n",
    "\n",
    "- Añadir contacto\n",
    "- Lista de contactos\n",
    "- Buscar contacto\n",
    "- Editar contacto\n",
    "- Cerrar agenda"
   ]
  },
  {
   "cell_type": "code",
   "execution_count": 7,
   "metadata": {},
   "outputs": [],
   "source": [
    "#Clase padre Agenda\n",
    "class Agenda:\n",
    "    def _int_(self):\n",
    "        self.contactos= {}\n",
    "         \n",
    "    def Añadir_contacto(self):\n",
    "        nombre = input(\"Ingrese el nombre del contacto\")\n",
    "        telefono = input(\"Ingrese el telefono del contacto\")\n",
    "        email = input(\"Ingrese el email del contacto\")\n",
    "        self.contactos[nombre] = {\"tefono\": telefono, \"email\":email}\n",
    "        print(\"Contacto agregado correctamente\")\n",
    "    def Lista(self):\n",
    "        if self.contactos:\n",
    "            print(\"lista de contactos:\")\n",
    "            for nombre, info in self.contactos.items():\n",
    "                print(f\"nombre:{nombre}, Telefono:{info['telefono']}, Email:{info[\"email\"]}\")\n",
    "        else:\n",
    "            print(\"La agenda esta vacia.\")\n",
    "    def Buscar_contacto(self):\n",
    "        nombre = input(\"Ingrese el nombre del contcto a buscar: \")\n",
    "        if nombre in self.contactos:\n",
    "            print(\"Informacion del contacto: \")\n",
    "            print(f\"Nombre: {nombre}\")\n",
    "            print(f\"Numero\")"
   ]
  },
  {
   "cell_type": "code",
   "execution_count": null,
   "metadata": {},
   "outputs": [],
   "source": [
    "\n",
    "    def buscar_contacto(self):\n",
    "        nombre = input(\"Ingrese el nombre del contacto a buscar: \")\n",
    "        if nombre in self.contactos:\n",
    "            print(\"Información del contacto:\")\n",
    "            print(f\"Nombre: {nombre}\")\n",
    "            print(f\"Teléfono: {self.contactos[nombre]['telefono']}\")\n",
    "            print(f\"Email: {self.contactos[nombre]['email']}\")\n",
    "        else:\n",
    "            print(\"Contacto no encontrado.\")"
   ]
  },
  {
   "cell_type": "markdown",
   "metadata": {},
   "source": [
    "# Banco\n",
    "En un banco tienen clientes que pueden hacer **depósitos** y **extracciones** de dinero. El banco requiere también al final del día calcular la cantidad de dinero que se ha depositado.\n",
    "\n",
    "Se deberán crear **dos clases**, la clase `cliente` y la clase `banco`. La clase **cliente** tendrá los atributos `nombre` y `cantidad` y los métodos `__init__`, `depositar`, `extraer`, `mostrar_total`.\n",
    "\n",
    "La clase **banco** tendrá como atributos 3 objetos de la clase cliente y los métodos `__init__`, `operar` y `deposito_total`."
   ]
  },
  {
   "cell_type": "code",
   "execution_count": null,
   "metadata": {},
   "outputs": [],
   "source": []
  },
  {
   "cell_type": "markdown",
   "metadata": {},
   "source": [
    "# Cuentas ahorro\n",
    "Desarrollar un programa que conste de una **clase padre** `Cuenta` y **dos subclases** `PlazoFijo` y `CajaAhorro`. Definir los **atributos** `titular` y `cantidad` y un **método** para `imprimir` los datos en la clase Cuenta. La **clase CajaAhorro** tendrá un método para heredar los datos y uno para mostrar la información.\n",
    "\n",
    "La **clase PlazoFijo** tendrá dos atributos propios, `plazo` e `interés`. Tendrá un método para obtener el importe del interés (cantidad*interés/100) y otro método para mostrar la información, datos del titular plazo, interés y total de interés.\n",
    "\n",
    "Crear al menos un objeto de cada subclase."
   ]
  },
  {
   "cell_type": "code",
   "execution_count": null,
   "metadata": {},
   "outputs": [],
   "source": []
  }
 ],
 "metadata": {
  "kernelspec": {
   "display_name": "gamma",
   "language": "python",
   "name": "python3"
  },
  "language_info": {
   "codemirror_mode": {
    "name": "ipython",
    "version": 3
   },
   "file_extension": ".py",
   "mimetype": "text/x-python",
   "name": "python",
   "nbconvert_exporter": "python",
   "pygments_lexer": "ipython3",
   "version": "3.12.4"
  }
 },
 "nbformat": 4,
 "nbformat_minor": 2
}
