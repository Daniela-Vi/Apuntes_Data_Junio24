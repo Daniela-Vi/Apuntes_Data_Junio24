{
  "cells": [
    {
      "cell_type": "markdown",
      "metadata": {
        "id": "DBX1_T4wYKW_"
      },
      "source": [
        "# Amazon\n",
        "\n",
        "Utilizando un `hover` vamos a simular movimientos por dentro del sitio web.\n",
        "\n",
        "También cómo introducir cadenas de texto en cuadros de texto, y simularemos cómo una persona escribe para ser más indetectables.\n",
        "\n",
        "Descubriremos cómo interaccionar con banners que aparecen pasado un tiempo de estar en la web."
      ]
    },
    {
      "cell_type": "code",
      "execution_count": 1,
      "metadata": {
        "id": "Et_2yBFpNriB"
      },
      "outputs": [],
      "source": [
        "from selenium import webdriver\n",
        "from webdriver_manager.chrome import ChromeDriverManager # sustituye al archivo\n",
        "from selenium.webdriver.chrome.options import Options # opciones de chrome\n",
        "from selenium.webdriver.common.by import By # By es para buscar por tag, clase, id...\n",
        "from selenium.webdriver.support.ui import WebDriverWait   # para meter esperaras\n",
        "from selenium.webdriver.support import expected_conditions as EC   # para esperar ciertos eventos\n",
        "from selenium.webdriver import ActionChains # para hacer acciones con el ratón\n",
        "import time\n",
        "import random\n",
        "import selenium.webdriver.common.keys as Keys # para simular teclas"
      ]
    },
    {
      "cell_type": "code",
      "execution_count": 2,
      "metadata": {
        "id": "Dm6gQn6Ba7Z7"
      },
      "outputs": [],
      "source": [
        "#Opciones de chrome\n",
        "opciones = webdriver.ChromeOptions()\n",
        "#opciones.add_argument('--start-maximized')\n",
        "opciones.add_argument('window-size=775,1400')\n",
        "opciones.add_argument('--disable-extensions')\n",
        "opciones.add_argument('--disable-blink-features=AutomationControlled')\n",
        "opciones.add_argument('--no-sandbox')\n",
        "opciones.add_experimental_option('useAutomationExtension', False)\n",
        "opciones.add_experimental_option('excludeSwitches', ['enable-automation'])\n",
        "\n",
        "# guardar las cookies\n",
        "# opciones.add_argument('user-data-dir=cookies')    # mantiene las cookies\n",
        "opciones.add_argument('--incognito') # modo incognito"
      ]
    },
    {
      "cell_type": "code",
      "execution_count": 3,
      "metadata": {
        "id": "oK9l4Z85bYwS"
      },
      "outputs": [],
      "source": [
        "url = 'https://www.amazon.es/'"
      ]
    },
    {
      "cell_type": "code",
      "execution_count": 4,
      "metadata": {
        "id": "LNS-18c2bcvR"
      },
      "outputs": [],
      "source": [
        "driver = webdriver.Chrome(options=opciones)\n",
        "\n",
        "driver.get(url)"
      ]
    },
    {
      "cell_type": "code",
      "execution_count": 5,
      "metadata": {
        "id": "MRJE6aE1bfRB"
      },
      "outputs": [],
      "source": [
        "# Continuamos sin aceptar las cookies\n",
        "driver.find_element(By.ID, 'sp-cc-rejectall-link').click()"
      ]
    },
    {
      "cell_type": "markdown",
      "metadata": {
        "id": "lXg3c-o4gnbg"
      },
      "source": [
        "**HOVER**\n",
        "\n",
        "El objeto `hover` en Selenium es una técnica que se utiliza para simular el movimiento del cursor del ratón sobre un elemento web específico en una página, activando de este modo las funciones de estilo o comportamiento asociadas al evento hover."
      ]
    },
    {
      "cell_type": "code",
      "execution_count": 6,
      "metadata": {
        "id": "wWznd8KNgi6e"
      },
      "outputs": [],
      "source": [
        "#Hacemos hover sobre el elemento que queremos cuyo XPATH //*[@id=\"nav-link-accountList\"]\n",
        "elemento = driver.find_element(By.XPATH, '//*[@id=\"nav-link-accountList\"]')\n",
        "\n",
        "#Y ahora creamos el objeto\n",
        "hover = ActionChains(driver).move_to_element(elemento)\n",
        "\n",
        "#Y ahora lo ejecutamos\n",
        "hover.perform()"
      ]
    },
    {
      "cell_type": "code",
      "execution_count": 7,
      "metadata": {
        "id": "lxeP1s4hhVXF"
      },
      "outputs": [],
      "source": [
        "#Dentro de los elementos del hover voy a darle a identificarse:\n",
        "driver.find_element(By.CLASS_NAME, 'nav-action-inner').click()"
      ]
    },
    {
      "cell_type": "code",
      "execution_count": 8,
      "metadata": {
        "id": "KH9OPmxShWAO"
      },
      "outputs": [],
      "source": [
        "#Podríamos loguearnos, pero lo que vamos a hacer es decirle al navegador que vaya para atrás\n",
        "driver.back()"
      ]
    },
    {
      "cell_type": "code",
      "execution_count": 9,
      "metadata": {
        "id": "CNMnORPdhYPx"
      },
      "outputs": [],
      "source": [
        "#Introducir texto de busqueda\n",
        "cuadro_busqueda = driver.find_element(By.XPATH, '//*[@id=\"twotabsearchtextbox\"]')\n",
        "\n",
        "#Vamos a hacer una busqueda de partituras mozart:\n",
        "cuadro_busqueda.send_keys('zapatillas')"
      ]
    },
    {
      "cell_type": "code",
      "execution_count": 10,
      "metadata": {
        "id": "iEOW-U-Jhfhl"
      },
      "outputs": [],
      "source": [
        "#Y ahora le damos a enter\n",
        "cuadro_busqueda.submit()"
      ]
    },
    {
      "cell_type": "code",
      "execution_count": 11,
      "metadata": {
        "id": "BNFFAKKUhird"
      },
      "outputs": [],
      "source": [
        "#MODO NINJA ACTIVADO\n",
        "cuadro_busqueda = driver.find_element(By.XPATH, '//*[@id=\"twotabsearchtextbox\"]')\n",
        "\n",
        "#Queremos escribir juguetes lego, pero vamos a hacerlo letra a letra como lo haría un humano\n",
        "time.sleep(1)\n",
        "\n",
        "#Borramos la busqueda anterior:\n",
        "cuadro_busqueda.clear()\n",
        "time.sleep(2)\n",
        "\n",
        "#Y ahora vamos a escribir letra a letra:\n",
        "termino_busqueda = 'juguetes lego'\n",
        "for letra in termino_busqueda:\n",
        "    cuadro_busqueda.send_keys(letra)\n",
        "    time.sleep(random.uniform(0.1,0.25))\n",
        "cuadro_busqueda.submit()"
      ]
    },
    {
      "cell_type": "code",
      "execution_count": 12,
      "metadata": {
        "id": "w2M-qkrBhrnk"
      },
      "outputs": [
        {
          "data": {
            "text/plain": [
              "69"
            ]
          },
          "execution_count": 12,
          "metadata": {},
          "output_type": "execute_result"
        }
      ],
      "source": [
        "#Sacamos listado de los productos de la página:\n",
        "productos = driver.find_elements(By.CLASS_NAME, 'a-section.a-spacing-base')\n",
        "productos.__len__()"
      ]
    },
    {
      "cell_type": "code",
      "execution_count": 13,
      "metadata": {
        "id": "bR_33SWohuGc"
      },
      "outputs": [
        {
          "name": "stdout",
          "output_type": "stream",
          "text": [
            "PatrocinadoPatrocinado Puedes ver este anuncio debido a la relevancia del producto con respecto a tu búsqueda.Más información sobre este anuncio  Juguetes Niños 6 7 8 9 10 Años, Gralal Sistema Solar Kit Robotica Experimentos Niños Robot Juguete Regalo Niño 7-12 Años Juegos Educativos 6-11 Años Regalos para Niños De 8-13 Años  3,8 de 5 estrellas 17  16,99 €16,99€Ahorra 5 % al comprar 4 de esta selecciónEntrega GRATIS el lun, 30 de sept en tu primer pedidoPuntuación del vendedor: 4.8/5 77 \n",
            "PatrocinadoPatrocinado Puedes ver este anuncio debido a la relevancia del producto con respecto a tu búsqueda.Más información sobre este anuncio  Tiny Land Kit Construccion Fuertes Niños - Brillan en La Oscuridad, 130 Piezas Creative Fort Toy para niños y niñas de 5+ años, Juguetes de Construcción Stem, DIY Kit Castillos Túneles  4,3 de 5 estrellas 1.420  50+ comprados el mes pasado58,99 €58,99€Se ha aplicado un cupón de descuento de 10,00 €Ahorra 10,00 €  con un cupón  Entrega GRATIS el sáb, 28 de sept Entrega más rápida mañana, 26 de sept Puntuación del vendedor: 4.6/5 37 \n",
            "Más vendidoen Coches controlados por aplicación o por control remoto  PatrocinadoPatrocinado Puedes ver este anuncio debido a la relevancia del producto con respecto a tu búsqueda.Más información sobre este anuncio  Coche Teledirigido,Coche AcrobáTico Camiones 360 Grados De RotacióN,Juguete Niño Regalo 3 4 5 6 7 8 9 12 Años Niña 2.4Ghz Niños Coche Teledirigido con Luces Incluye Batería Recargable (Azul)  4,4 de 5 estrellas 2.007  800+ comprados el mes pasado27,99 €27,99€ PVPR: 39,99 €39,99€Se ha aplicado un cupón de descuento de 5,00 €Ahorra 5,00 €  con un cupón Entrega GRATIS el sáb, 28 de sept en tu primer pedidoEntrega más rápida mañana, 26 de sept Puntuación del vendedor: 4.9/5 120 Edades: 6 - 12 años\n",
            "PatrocinadoPatrocinado Puedes ver este anuncio debido a la relevancia del producto con respecto a tu búsqueda.Más información sobre este anuncio  HUYIYI Base para Lego Classic,Pack de 6 Bases para Construir -Classic Base Verde-Azul-Gris-Compatible con Todas Las Grandes Marcas,Juego de Construcción para Niños y Niñas  4,4 de 5 estrellas 513  18,99 €18,99€Ahorra 5 % al comprar 4 de esta selecciónEntrega GRATIS el sáb, 28 de sept en tu primer pedidoEntrega más rápida mañana, 26 de sept \n",
            "Opción Amazonpara \"juguetes lego\"  LEGO Classic Caja de Ladrillos Creativos Mediana, Juegos de Construcción para Niños y Niñas de 4 Años o Más, Base Verde, Coches y Animales de Juguete, Fácil Almacenaje, Idea de Regalo Infantil 10696  4,8 de 5 estrellas 30.636  1 mil+ comprados el mes pasado24,01 €24,01€ PVPR: 29,99 €29,99€Entrega GRATIS el sáb, 28 de sept en tu primer pedidoEntrega más rápida mañana, 26 de sept Vendido por: AmazonEdades: 4 años y más\n",
            "Más vendidoen Figuras de dinosaurios y criaturas prehistóricas de juguete para niños  LEGO 31058 Creator Grandes Dinosaurios, Regalo de Reyes para Niños y Niñas de 7 Años o Más, Maqueta 3en1 de Pterodáctilo, Triceratops y T-Rex, Figura de Animales de Juguete de Parque Jurásico  4,7 de 5 estrellas 3.143  600+ comprados el mes pasado13,64 €13,64€ PVPR: 14,99 €14,99€Ahorra 5 % al comprar 4 de esta selecciónEntrega GRATIS el sáb, 28 de sept en tu primer pedidoEntrega más rápida mañana, 26 de sept Vendido por: AmazonMás opciones de compra12,95 €(58 nuevas ofertas)Edades: 7 años y más\n",
            "LEGO Marvel Persecución en Moto: Spider-Man vs. Doc Ock, Juguete de Construcción con Cañones y Aracnoblásteres, Moto de Spidey, Regalo para Niños, Niñas y Fans de Superhéroes de 6 Años o Más 76275  4,6 de 5 estrellas 866  500+ comprados el mes pasado9,99 €9,99€Ahorra 5 % al comprar 4 de esta selecciónEntrega GRATIS el sáb, 28 de sept en tu primer pedidoEntrega más rápida mañana, 26 de sept Vendido por: AmazonMás opciones de compra8,42 €(51 ofertas usadas y nuevas)Edades: 6 años y más\n",
            "LEGO Sonic The Hedgehog Sonic: Desafío de la Esfera de Velocidad, Juguete de Construcción con 3 Personajes y Una Figura de Moto Bug Badnik, Juguetes para Niños y Niñas A Partir de 6 Años 76990  4,8 de 5 estrellas 874  100+ comprados el mes pasado29,99 €29,99€Vendido por: AmazonMás opciones de compra25,62 €(57 nuevas ofertas)\n",
            "LEGO City Lancha de Rescate de Bomberos y Zodiac, Barcos Flotantes, Mochila Propulsora, Juguetes de Baño para Niños y Niñas de 6 Años o Más 60373  4,8 de 5 estrellas 2.389  100+ comprados el mes pasado19,99 €19,99€Vendido por: AmazonMás opciones de compra17,05 €(69 nuevas ofertas)\n",
            "LEGO Duplo Camión de Bomberos de Juguete, Juguetes Educativos para Niños y Niñas de 2 Años o Más, Vehículo con Luz y Sonido, Set con Figura de Gatito, Regalo Infantil de Cumpleaños 10969  4,8 de 5 estrellas 3.156  50+ comprados el mes pasado29,99 €29,99€Vendido por: AmazonMás opciones de compra27,37 €(52 ofertas usadas y nuevas)\n",
            "LEGO Minecraft Set La Casa-Ajolote, Base Submarina Rosa de Construcción con Explorador Buceador, Zombi y Figuras de Delfín y Pez Globo, Juguetes de Aventura para Niños y Niñas de 7 Años o Más 21247  4,8 de 5 estrellas 751  100+ comprados el mes pasado26,97 €26,97€Vendido por: AmazonMás opciones de compra22,35 €(66 nuevas ofertas)\n",
            "LEGO 76226 Marvel Figura de Spider-Man Articulada, Juguetes para Niños y Niñas, Set de Acción, Modelo Coleccionable de Superhéroe, Regalo de Película  4,8 de 5 estrellas 2.388  50+ comprados el mes pasado29,99 €29,99€Vendido por: AmazonMás opciones de compra22,21 €(80 ofertas usadas y nuevas)\n",
            "LEGO Friends Camión de Perritos Calientes Food Truck y Accesorios de Comida y Cocina de Juguete con Figura de Gato y Mini Muñecos de Personajes, Regalo para Niñas y Niños de 4 Años o Más 42633  4,8 de 5 estrellas 206  19,99 €19,99€Ahorra 5 % al comprar 4 de esta selecciónVendido por: AmazonMás opciones de compra14,10 €(64 ofertas usadas y nuevas)\n",
            "LEGO City Bases de Carretera, Juguetes para Niños y Niñas de 5 Años o Más, Set de Accesorios con Semáforos, Señales y Luces, Regalo de Cumpleaños 60304  4,7 de 5 estrellas 3.999  19,99 €19,99€Ahorra 5 % al comprar 4 de esta selecciónVendido por: AmazonMás opciones de compra16,64 €(57 ofertas usadas y nuevas)\n",
            "LEGO DC Persecución en el Batmobile: Batman vs. The Joker Coche de Juguete, Set de Súper Héroes para Principiantes con Minifiguras, Juguetes para Niños Pequeños, Niños y Niñas a partir de 4 Años 76264  4,7 de 5 estrellas 277  26,99 €26,99€Ahorra 5 % al comprar 4 de esta selecciónVendido por: AmazonMás opciones de compra21,10 €(68 nuevas ofertas)\n",
            "LEGO Creator 3 en 1 Dragón Rojo de Juguete Convertible en Figura de Pez o Ave Fénix, Juego Infantil de Animales como Regalo para Niños y Niñas de 6 Años o Más de Temática de Año Nuevo Chino 31145  4,8 de 5 estrellas 1.214  500+ comprados el mes pasado9,99 €9,99€Ahorra 5 % al comprar 4 de esta selecciónEntrega GRATIS el sáb, 28 de sept en tu primer pedidoEntrega más rápida mañana, 26 de sept Vendido por: AmazonMás opciones de compra8,80 €(59 ofertas usadas y nuevas)Edades: 6 años y más\n",
            "LEGO Creator 3 en 1 Camión Plataforma con Helicóptero Convertible en Vehículos de Juguete: Avión de Hélices, Bólido y Coche SUV, Regalo para Niños y Niñas de 7 Años o Más 31146  4,7 de 5 estrellas 1.009  500+ comprados el mes pasado19,99 €19,99€Ahorra 5 % al comprar 4 de esta selecciónEntrega GRATIS el sáb, 28 de sept en tu primer pedidoEntrega más rápida mañana, 26 de sept Vendido por: AmazonMás opciones de compra17,05 €(70 ofertas usadas y nuevas)Edades: 7 años y más\n",
            "LEGO Technic Buggy de Carreras Todoterreno, Vehículo de Rally, Set para Construir un Coche de Carreras de Juguete, Regalo para Niños y Niñas de 8 Años o Más 42164  4,7 de 5 estrellas 1.262  500+ comprados el mes pasado15,99 €15,99€Ahorra 5 % al comprar 4 de esta selecciónEntrega GRATIS el sáb, 28 de sept en tu primer pedidoEntrega más rápida mañana, 26 de sept Vendido por: AmazonMás opciones de compra13,40 €(60 ofertas usadas y nuevas)Edades: 8 años y más\n",
            "LEGO Technic Mercedes-AMG F1 W14 E Performance Pull-Back Coche de Carreras de Fórmula 1 de Juguete para Niños y Niñas de 7 Años o Más, Decoración Dormitorio, Regalo de Cumpleaños 42165  4,8 de 5 estrellas 1.075  700+ comprados el mes pasado23,75 €23,75€ PVPR: 26,99 €26,99€Ahorra 5 % al comprar 4 de esta selecciónEntrega GRATIS el sáb, 28 de sept en tu primer pedidoEntrega más rápida mañana, 26 de sept Vendido por: AmazonMás opciones de compra23,28 €(64 ofertas usadas y nuevas)Edades: 7 años y más\n",
            "LEGO Classic Caja de Ladrillos Creativos Grande, Juguetes de Construcción y Manualidades para Niños y Niñas de 4 Años o Más, Animales, Casas y Coches de Juguete, Regalos de Cumpleaños Infantiles 10698  4,8 de 5 estrellas 3.605  700+ comprados el mes pasado46,02 €46,02€ PVPR: 49,99 €49,99€ Entrega GRATIS el sáb, 28 de sept Entrega más rápida mañana, 26 de sept Vendido por: AmazonMás opciones de compra45,39 €(93 nuevas ofertas)Edades: 4 años y más\n",
            "LEGO Technic Volquete, 2-en-1, Camión de Construcción y Excavadora de Juguete, Regalos para Niños y Niñas de 7 Años o Más, Introducción ingeniería 42147  4,7 de 5 estrellas 3.271  100+ comprados el mes pasado9,99 €9,99€Ahorra 5 % al comprar 4 de esta selecciónEntrega GRATIS el sáb, 28 de sept en tu primer pedidoEntrega más rápida mañana, 26 de sept Vendido por: AmazonMás opciones de compra8,90 €(55 nuevas ofertas)Edades: 7 años y más\n",
            "LEGO Harry Potter Ford Anglia Volador de Juguete de Fantasía, Juego de Aventuras con Coche de la Familia Weasley, Regalo para Niños, Niñas y Fans de 7 Años o Más, 2 Minifiguras de Personajes 76424  4,8 de 5 estrellas 763  900+ comprados el mes pasado14,99 €14,99€Entrega GRATIS el sáb, 28 de sept en tu primer pedidoEntrega más rápida mañana, 26 de sept Vendido por: AmazonMás opciones de compra12,99 €(54 ofertas usadas y nuevas)Edades: 7 años y más\n",
            "LEGO Classic Maletín Creativo, Juguete de Almacenamiento de Ladrillos de Colores, Juego de Construcción para Jugar en Familia, Regalo para Niños y Niñas de 4 Años o Más 10713  4,8 de 5 estrellas 14.962  200+ comprados el mes pasado17,75 €17,75€ PVPR: 19,99 €19,99€Entrega GRATIS el sáb, 28 de sept en tu primer pedidoEntrega más rápida mañana, 26 de sept Vendido por: AmazonMás opciones de compra17,40 €(46 ofertas usadas y nuevas)Edades: 4 años y más\n",
            "LEGO City Monster Truck Azul de Juguete, Camión Todoterreno y Minifigura de Conductor, Set de Juego Infantil Imaginativo, Divertido Regalo para Niños y Niñas de 5 Años o Más 60402  4,8 de 5 estrellas 824  100+ comprados el mes pasado14,99 €14,99€Entrega GRATIS el sáb, 28 de sept en tu primer pedidoEntrega más rápida mañana, 26 de sept Vendido por: AmazonMás opciones de compra12,90 €(54 ofertas usadas y nuevas)Edades: 5 años y más\n",
            "PatrocinadoPatrocinado Puedes ver este anuncio debido a la relevancia del producto con respecto a tu búsqueda.Más información sobre este anuncio  Bloques de construcción entrelazados 160 Piezas Jumbo Toy Building Kits - Juguetes de construcción para niños pequeños y niños  4,5 de 5 estrellas 449  50+ comprados el mes pasado21,99 €21,99€Se ha aplicado un cupón de descuento de 3,00 €Ahorra 3,00 €  con un cupón Entrega GRATIS el sáb, 28 de sept en tu primer pedidoEntrega más rápida mañana, 26 de sept Puntuación del vendedor: 4.8/5 72 \n",
            "PatrocinadoPatrocinado Puedes ver este anuncio debido a la relevancia del producto con respecto a tu búsqueda.Más información sobre este anuncio  BEHOWL Juguetes robóticos Stem para niños y niñas de 8 a 14 años, Bloques de construcción del Programa científico 13 en 1 para Control Remoto y de Aplicaciones, Regalos educativos (550)  4,4 de 5 estrellas 431  59,99 €59,99€ (0,11 €0,11€/unidad)Se ha aplicado un cupón de descuento de 10 %Ahorra 10 %  con un cupón  Entrega GRATIS el sáb, 28 de sept Entrega más rápida mañana, 26 de sept Edades: 7 años y más\n",
            "PatrocinadoPatrocinado Puedes ver este anuncio debido a la relevancia del producto con respecto a tu búsqueda.Más información sobre este anuncio  TOMYOU Juego de Bloques de construcción creativos - 100 Piezas Rompecabezas para niños pequeños Stem Juguetes educativos de conexión para niños para niñas y niños  4,5 de 5 estrellas 155  50+ comprados el mes pasado21,99 €21,99€Se ha aplicado un cupón de descuento de 3,00 €Ahorra 3,00 €  con un cupón Entrega GRATIS el sáb, 28 de sept en tu primer pedidoEntrega más rápida mañana, 26 de sept Puntuación del vendedor: 4.8/5 72 Edades: 3 años y más\n",
            "LEGO 10782 Marvel Spidey y Su Superequipo Camiones de Combate de Hulk y Rino, Juguete para Niños y Niñas de 4+ Años  4,8 de 5 estrellas 5.836  300+ comprados el mes pasado19,99 €19,99€Ahorra 5 % al comprar 4 de esta selecciónEntrega GRATIS el sáb, 28 de sept en tu primer pedidoEntrega más rápida mañana, 26 de sept Vendido por: AmazonMás opciones de compra17,56 €(77 ofertas usadas y nuevas)Edades: 4 años y más\n",
            "LEGO City Moto de Policía y Coche a la Fuga, Deportivo de Juguete para Niños y Niñas de 5 Años en Adelante, Accesorios y 2 Mini Figuras, Regalo de Cumpleaños 60392  4,7 de 5 estrellas 1.112  100+ comprados el mes pasado8,99 €8,99€ PVPR: 9,99 €9,99€Ahorra 5 % al comprar 4 de esta selecciónEntrega GRATIS el sáb, 28 de sept en tu primer pedidoEntrega más rápida mañana, 26 de sept Vendido por: AmazonMás opciones de compra8,75 €(56 nuevas ofertas)Edades: 5 años y más\n",
            "Más vendidoen Sets de construcción  LEGO | Disney Cubos de Humor de del Revés 2 De Película Pixar, Juguete de Construcción Antiestrés sobre Emociones, Mini Muñecos de Alegría y Ansiedad, Regalo para Niñas y Niños de 9 Años o Más 43248  4,7 de 5 estrellas 182  300+ comprados el mes pasadoOferta flash  27,99 €27,99€ PVPR: 34,99 €34,99€Entrega GRATIS el sáb, 28 de sept en tu primer pedidoEntrega más rápida mañana, 26 de sept Vendido por: AmazonEdades: 9 años y más\n",
            "LEGO Creator 3-en-1 Robot Invencible, Dragón o Avión de Juguete, Juego de Construcción Creativo para Niños y Niñas de 7 Años o Más, Idea de Regalo de Cumpleaños 31124  4,7 de 5 estrellas 3.387  100+ comprados el mes pasado9,99 €9,99€Ahorra 5 % al comprar 4 de esta selecciónEntrega GRATIS el sáb, 28 de sept en tu primer pedidoEntrega más rápida mañana, 26 de sept Vendido por: AmazonMás opciones de compra7,66 €(60 ofertas usadas y nuevas)Edades: 6 años y más\n",
            "LEGO Marvel Coche de Spider-Man y Doc Ock, Spidey y Sus Amigos, Juguete de Construcción para Niños y Niñas de 4 Años o Más, Accesorios de Telarañas y 2 Mini Figuras 10789  4,6 de 5 estrellas 2.793  400+ comprados el mes pasado9,99 €9,99€Ahorra 5 % al comprar 4 de esta selecciónEntrega GRATIS el sáb, 28 de sept en tu primer pedidoEntrega más rápida mañana, 26 de sept Vendido por: AmazonMás opciones de compra9,35 €(48 nuevas ofertas)Edades: 4 años y más\n",
            "LEGO Speed Champions Coche de Carreras de Fórmula 1 McLaren 2023 Maqueta de Vehículo de Juguete para Niños y Niñas de 9 Años o Más, Regalo de Cumpleaños, Decoración Dormitorio76919  4,8 de 5 estrellas 1.115  400+ comprados el mes pasado22,56 €22,56€ PVPR: 26,99 €26,99€Entrega GRATIS el sáb, 28 de sept en tu primer pedidoEntrega más rápida mañana, 26 de sept Vendido por: AmazonEdades: 9 años y más\n",
            "LEGO Creator 3 en 1 Cámara Retro de Juguete Convertible en Videocámara y Televisor, Decoración para Dormitorio y Accesorio de Escritorio, Regalo de Fotografía para Niños y Niñas de 8 Años o Más 31147  4,8 de 5 estrellas 958  200+ comprados el mes pasado19,99 €19,99€Ahorra 5 % al comprar 4 de esta selecciónEntrega GRATIS el sáb, 28 de sept en tu primer pedidoEntrega más rápida mañana, 26 de sept Vendido por: AmazonMás opciones de compra17,19 €(77 ofertas usadas y nuevas)\n",
            "LEGO Creator 3-en-1 Lanzadera Espacial, Figura de Astronauta o Nave de Juguete, Set de Construcción para Niños y Niñas de 6 Años o Más, Regalo Creativo 31134  4,7 de 5 estrellas 3.084  200+ comprados el mes pasado9,99 €9,99€Entrega GRATIS el sáb, 28 de sept en tu primer pedidoEntrega más rápida mañana, 26 de sept Vendido por: AmazonMás opciones de compra8,20 €(56 nuevas ofertas)Edades: 6 años y más\n",
            "LEGO Minecraft La Mazmorra del Esqueleto, Juguete para Niños y Niñas de 8 Años o Más con Cuevas, Estalactitas, Ballesta y Figuras de Esqueletos, Regalo Creativo de Cumpleaños 21189  4,8 de 5 estrellas 3.941  400+ comprados el mes pasado27,49 €27,49€ PVPR: 29,99 €29,99€Entrega GRATIS el sáb, 28 de sept en tu primer pedidoEntrega más rápida mañana, 26 de sept Vendido por: AmazonMás opciones de compra25,85 €(63 nuevas ofertas)Edades: 8 años y más\n",
            "LEGO Marvel Armadura Robótica de Máquina de Guerra, Figura de Acción de Juguete con Armas: 3 Cañones Que Disparan, Personaje Superhéroe UCM, Regalo para Cinéfilos, Niños y Niñas de 6 Años o Más 76277  4,7 de 5 estrellas 620  200+ comprados el mes pasado14,99 €14,99€Ahorra 5 % al comprar 4 de esta selecciónEntrega GRATIS el sáb, 28 de sept en tu primer pedidoEntrega más rápida mañana, 26 de sept Vendido por: AmazonMás opciones de compra11,98 €(56 ofertas usadas y nuevas)Edades: 6 años y más\n",
            "LEGO City Coche de Carreras y Camión de Transporte de Juguete, Juego de Construcción con Vehículo de Competición, Minifiguras de Piloto y Camionero, Regalo para Niños y Niñas de 6 Años o Más 60406  4,8 de 5 estrellas 535  100+ comprados el mes pasado26,39 €26,39€ PVPR: 29,99 €29,99€Entrega GRATIS el sáb, 28 de sept en tu primer pedidoEntrega más rápida mañana, 26 de sept Vendido por: AmazonMás opciones de compra24,65 €(89 ofertas usadas y nuevas)Edades: 6 años y más\n",
            "LEGO La Casa de Muñecas de Gabby Horno de Muffin, Cocina con Cupcakes y Accesorios y Figuras de Gabby y el Gato Muffin, Juguete de la Serie Gabby's Dollhouse para Niñas y Niños de 4 Años 10785  4,7 de 5 estrellas 1.081  100+ comprados el mes pasado9,99 €9,99€Ahorra 5 % al comprar 4 de esta selecciónEntrega GRATIS el sáb, 28 de sept en tu primer pedidoEntrega más rápida mañana, 26 de sept Vendido por: AmazonMás opciones de compra8,40 €(54 nuevas ofertas)Edades: 4 años y más\n",
            "LEGO City Lancha de Rescate de Bomberos y Zodiac, Barcos Flotantes, Mochila Propulsora, Juguetes de Baño para Niños y Niñas de 6 Años o Más 60373  4,8 de 5 estrellas 2.389  100+ comprados el mes pasado19,99 €19,99€Entrega GRATIS el sáb, 28 de sept en tu primer pedidoEntrega más rápida mañana, 26 de sept Vendido por: AmazonMás opciones de compra17,05 €(69 nuevas ofertas)Edades: 5 años y más\n",
            "PatrocinadoPatrocinado Puedes ver este anuncio debido a la relevancia del producto con respecto a tu búsqueda.Más información sobre este anuncio  EDUMAN Kit de excavación de Piedras Preciosas: desentierra 40 Gemas y Cristales Reales con Herramientas de minería, Sistemas solares de Ocho Planetas para niños de 6 a 8 años, Juguetes educativos de  4,3 de 5 estrellas 288  50+ comprados el mes pasado35,99 €35,99€ Entrega GRATIS el sáb, 28 de sept Entrega más rápida mañana, 26 de sept Edades: 6 - 12 años\n",
            "PatrocinadoPatrocinado Puedes ver este anuncio debido a la relevancia del producto con respecto a tu búsqueda.Más información sobre este anuncio  Gralal Coche Teledirigido, Juguetes Monster Truck para Carro, Telecomandado RC Juegos de Regalo para Navidad Niño 3-10 Años  4,2 de 5 estrellas 144  20,99 €20,99€Entrega GRATIS el sáb, 28 de sept en tu primer pedidoEntrega más rápida mañana, 26 de sept Edades: 3 meses y más\n",
            "PatrocinadoPatrocinado Puedes ver este anuncio debido a la relevancia del producto con respecto a tu búsqueda.Más información sobre este anuncio  burgkidz Bloques de Construcción 520 Piezas para Niños, 500 Ladrillos Creativos 17 Formas Incluye Ruedas y Ventana, Bloques Básicos a Granel con Caja de Almacenamiento Reutilizable  4,5 de 5 estrellas 1.886  50+ comprados el mes pasado32,99 €32,99€ PVPR: 39,99 €39,99€Entrega GRATIS el sáb, 28 de sept en tu primer pedidoEntrega más rápida mañana, 26 de sept Puntuación del vendedor: 4.8/5 28 Edades: 4 años y más\n",
            "PatrocinadoPatrocinado Puedes ver este anuncio debido a la relevancia del producto con respecto a tu búsqueda.Más información sobre este anuncio  PLAYMOBIL myLife 71611 Baño, Incluye Dos Figuras y numerosos Accesorios, Hechos de más del 80% de Materiales reciclados y de Base biológica, Juguetes para niños y niñas a Partir de 4 años  4,8 de 5 estrellas 7  24,99 €24,99€Entrega GRATIS el sáb, 28 de sept en tu primer pedidoEntrega más rápida mañana, 26 de sept Vendido por: AmazonEdades: 4 - 10 años\n",
            "LEGO Minecraft La Aventura en el Pantano, Juguete de Construcción, Mini Figuras de Alex y Esqueleto, Bioma, Regalo de Cumpleaños Niños y Niñas de 7 Años o Más 21240  4,7 de 5 estrellas 2.240  300+ comprados el mes pasado9,99 €9,99€Ahorra 5 % al comprar 4 de esta selecciónEntrega GRATIS el sáb, 28 de sept en tu primer pedidoEntrega más rápida mañana, 26 de sept Vendido por: AmazonMás opciones de compra8,40 €(52 nuevas ofertas)Edades: 7 años y más\n",
            "LEGO Star Wars Microfighter: Caza Estelar N-1 de The Mandalorian, Vehículo a Microescala del Libro de Boba Fett con Figura Grogu Baby Yoda, Regalos para Niños y Niñas de 6 Años o Más 75363  4,6 de 5 estrellas 1.863  200+ comprados el mes pasado15,99 €15,99€Ahorra 5 % al comprar 4 de esta selecciónEntrega GRATIS el sáb, 28 de sept en tu primer pedidoEntrega más rápida mañana, 26 de sept Vendido por: AmazonMás opciones de compra13,42 €(72 ofertas usadas y nuevas)Edades: 6 años y más\n",
            "LEGO City Coche de Policía de Juguete para Niños y Niñas de 5 Años o Más, Juego de Construcción con Minifigura de Agente, Idea de Regalo de Cumpleaños 60312  4,7 de 5 estrellas 6.294  100+ comprados el mes pasado9,99 €9,99€Ahorra 5 % al comprar 4 de esta selecciónEntrega GRATIS el sáb, 28 de sept en tu primer pedidoEntrega más rápida mañana, 26 de sept Vendido por: AmazonMás opciones de compra8,86 €(58 nuevas ofertas)Edades: 5 años y más\n",
            "LEGO | Disney El Rey León: Simba Cachorro Juguete Infantil de Construcción, Idea de Regalo para Niñas y Niños de 6 Años o Más, Maqueta Articulada, Decoración del Dormitorio y Estantería 43243  4,8 de 5 estrellas 374  400+ comprados el mes pasado17,59 €17,59€ PVPR: 19,99 €19,99€Entrega GRATIS el sáb, 28 de sept en tu primer pedidoEntrega más rápida mañana, 26 de sept Vendido por: AmazonMás opciones de compra17,08 €(83 ofertas usadas y nuevas)Edades: 6 años y más\n",
            "LEGO Harry Potter Dobby el Elfo Doméstico, Regalo de Reyes para Niñas, Niños, Adolescentes y Fans de 8+ Años, Juguete y Decoración para la Habitación, Colección de Figura Icónica de Personaje 76421  4,8 de 5 estrellas 6.052  500+ comprados el mes pasado20,99 €20,99€ PVPR: 29,99 €29,99€Entrega GRATIS el sáb, 28 de sept en tu primer pedidoEntrega más rápida mañana, 26 de sept Vendido por: AmazonMás opciones de compra19,97 €(65 ofertas usadas y nuevas)Edades: 8 años y más\n",
            "LEGO | Disney Stitch Juguete de Construcción de la Figura Articulada del Personaje de la Película Lilo & Stitch con Cucurucho de Helado, Regalo para Niñas y Niños de 9 Años o Más 43249  4,8 de 5 estrellas 708  700+ comprados el mes pasado57,19 €57,19€ PVPR: 64,99 €64,99€ Entrega GRATIS el sáb, 28 de sept Entrega más rápida mañana, 26 de sept Vendido por: AmazonMás opciones de compra48,76 €(79 ofertas usadas y nuevas)Edades: 9 años y más\n",
            "LEGO Minecraft La Casa-Champiñón, Juguete de Construcción, Idea de Regalo para Niños y Niñas de 8 Años o Más con Figuras de Alex, Champiñaca y Jinete Arácnido 21179  4,8 de 5 estrellas 6.735  300+ comprados el mes pasado17,00 €17,00€ PVPR: 19,99 €19,99€Entrega GRATIS el vie, 27 de sept Puntuación del vendedor: 3.5/5 192 Más opciones de compra16,64 €(53 ofertas usadas y nuevas)Edades: 8 años y más\n",
            "LEGO 31140 Creator 3en1 Unicornio Mágico, Juguete de Construcción Caballito de Mar o Pavo Real, Regalos de Pascua para Niños y Niñas de 7 Años o Más, Figuras de Animales Fantásticos  4,7 de 5 estrellas 3.917  400+ comprados el mes pasado9,99 €9,99€Ahorra 5 % al comprar 4 de esta selecciónEntrega GRATIS el sáb, 28 de sept en tu primer pedidoEntrega más rápida mañana, 26 de sept Vendido por: AmazonMás opciones de compra8,80 €(60 nuevas ofertas)Edades: 7 años y más\n",
            "LEGO Marvel Motos de la Viuda Negra y el Capitán América, Set de Avengers: Edad de Ultron con 2 Motos de Juguete de Super Héroe para Niños y Niñas de 6 Años o Más 76260  4,7 de 5 estrellas 1.376  100+ comprados el mes pasado15,99 €15,99€Ahorra 5 % al comprar 4 de esta selecciónEntrega GRATIS el sáb, 28 de sept en tu primer pedidoEntrega más rápida mañana, 26 de sept Vendido por: AmazonMás opciones de compra13,45 €(58 ofertas usadas y nuevas)Edades: 6 años y más\n",
            "LEGO Speed Champions Ferrari 812 Competizione Maqueta de Coche para Construir, Deportivo Rojo de Juguete de Colección Edición 2023, Regalo para Niños y Niñas de 9 Años o Más 76914  4,8 de 5 estrellas 3.039  200+ comprados el mes pasado24,87 €24,87€Ahorra 5 % al comprar 4 de esta selecciónEntrega GRATIS el sáb, 28 de sept en tu primer pedidoEntrega más rápida mañana, 26 de sept Vendido por: AmazonMás opciones de compra18,73 €(75 ofertas usadas y nuevas)Edades: 9 años y más\n",
            "LEGO 31137 Creator 3 en 1 Perros Adorables, Figuras de Perritos de Juguete para Niños y Niñas de 7 Años o Más, Beagle, Caniche, Perro Salchicha y Más, Regalo de Semana Santa y Pascua  4,8 de 5 estrellas 1.297  50+ comprados el mes pasado29,70 €29,70€Entrega GRATIS el sáb, 28 de sept en tu primer pedidoEntrega más rápida mañana, 26 de sept Vendido por: AmazonMás opciones de compra20,70 €(79 ofertas usadas y nuevas)Edades: 7 años y más\n",
            "LEGO Classic Monstruos Creativos, Caja de Ladrillos para Construir, Juguete para Niños y Niñas de 4 Años o Más, Set para Crear 5 Mini Figuras de Colores 11017  4,8 de 5 estrellas 2.124  100+ comprados el mes pasado9,99 €9,99€Entrega GRATIS el sáb, 28 de sept en tu primer pedidoEntrega más rápida mañana, 26 de sept Vendido por: AmazonMás opciones de compra8,20 €(47 nuevas ofertas)Edades: 4 años y más\n",
            "LEGO Ninjago Meca Elemental de la Tierra de Cole, Figura de Acción Articulada, Juguete Personalizado con 2 Minifiguras, Regalo del Universo Ninja para Niños y Niñas de 7 Años o Más 71806  4,8 de 5 estrellas 856  200+ comprados el mes pasado19,99 €19,99€Entrega GRATIS el sáb, 28 de sept en tu primer pedidoEntrega más rápida mañana, 26 de sept Vendido por: AmazonMás opciones de compra17,05 €(59 ofertas usadas y nuevas)Edades: 7 años y más\n",
            "LEGO City Lavadero de Coches, Juguete para Niños y Niñas de 6 Años o Más, Set con Cepillos de Lavado Giratorios, Vehículo y 2 Minifiguras, Idea para Regalo Pequeño 60362  4,8 de 5 estrellas 1.473  50+ comprados el mes pasado19,99 €19,99€Ahorra 5 % al comprar 4 de esta selecciónEntrega GRATIS el sáb, 28 de sept en tu primer pedidoEntrega más rápida mañana, 26 de sept Vendido por: AmazonMás opciones de compra17,19 €(63 nuevas ofertas)Edades: 6 años y más\n",
            "LEGO 76226 Marvel Figura de Spider-Man Articulada, Juguetes para Niños y Niñas, Set de Acción, Modelo Coleccionable de Superhéroe, Regalo de Película  4,8 de 5 estrellas 2.388  50+ comprados el mes pasado29,99 €29,99€Entrega GRATIS el sáb, 28 de sept en tu primer pedidoEntrega más rápida mañana, 26 de sept Vendido por: AmazonMás opciones de compra22,21 €(80 ofertas usadas y nuevas)Edades: 8 años y más\n",
            "LEGO Technic Hipercoche Koenigsegg Jesko Absolut Gris Coche de Carreras de Juguete de Construcción, Regalo para Niños y Niñas de 10 Años o Más, Kit de Maquetas 42173  4,7 de 5 estrellas 60  200+ comprados el mes pasado37,99 €37,99€ PVPR: 52,99 €52,99€ Entrega GRATIS el sáb, 28 de sept Entrega más rápida mañana, 26 de sept Vendido por: AmazonEdades: 10 años y más\n",
            "LEGO Minecraft La Fortificación-Espada Juguete de Construcción, Minifiguras de Creeper, Soldado, Guerrero y Esqueleto, Regalo para Niños y Niñas de 8 Años o Más, Decoración de Estantería 21244  4,8 de 5 estrellas 1.687  200+ comprados el mes pasado43,87 €43,87€ Entrega GRATIS el sáb, 28 de sept Entrega más rápida mañana, 26 de sept Vendido por: AmazonMás opciones de compra35,56 €(64 ofertas usadas y nuevas)Edades: 8 años y más\n",
            "LEGO Super Mario Set de Expansión: Coche Monstruoso de Bowser Juguete Coleccionable con Figura del Personaje del Videojuego, Regalo para Niños, Niñas y Gamers de 8 Años o Más 71431  4,8 de 5 estrellas 592  100+ comprados el mes pasado29,80 €29,80€Entrega GRATIS el sáb, 28 de sept en tu primer pedidoEntrega más rápida mañana, 26 de sept Vendido por: AmazonMás opciones de compra24,90 €(52 ofertas usadas y nuevas)Edades: 8 años y más\n",
            "LEGO Technic Volvo FMX Truck & EC230 - Juguete de construcción de excavadora eléctrica, camión Volvo con 2 modelos de vehículos, gran regalo para niños y niñas de 10 años en adelante que aman los  4,2 de 5 estrellas 8  254,99 €254,99€Entrega GRATIS el vie, 27 de sept Sólo queda(n) 3 en stock.Puntuación del vendedor: 4.4/5 301 Más opciones de compra219,99 €(4 nuevas ofertas)Edades: 10 años y más\n",
            "LEGO Creator Criaturas Fantásticas del Bosque, Juego de Construcción 3 en 1: con Figuras de Conejo, Ardilla y Búho, Set de Animales de Juguete para Niñas y Niños de 7 Años o Más 31125  4,8 de 5 estrellas 2.850  50+ comprados el mes pasado14,99 €14,99€Ahorra 5 % al comprar 4 de esta selecciónEntrega GRATIS el sáb, 28 de sept en tu primer pedidoEntrega más rápida mañana, 26 de sept Vendido por: AmazonMás opciones de compra12,15 €(54 ofertas usadas y nuevas)Edades: 7 años y más\n",
            "LEGO City Nave Espacial Interestelar, Juguete de Construcción del Espacio, Regalo Divertido para Niños y Niñas de 6 Años o Más, Juego Creativo con Vehículo y Minifigura de Astronauta 60430  4,8 de 5 estrellas 538  50+ comprados el mes pasado19,99 €19,99€Entrega GRATIS el sáb, 28 de sept en tu primer pedidoEntrega más rápida mañana, 26 de sept Vendido por: AmazonMás opciones de compra17,05 €(88 ofertas usadas y nuevas)Edades: 6 años y más\n",
            "LEGO 21241 Minecraft La Cabaña-Abeja, Casa de Juguete para Niños y Niñas de 8 Años, Granja, Mini Figuras Animales y Zombie, Regalo de Pascua para Fans del Videojuego  4,8 de 5 estrellas 2.334  100+ comprados el mes pasado19,99 €19,99€Entrega GRATIS el sáb, 28 de sept en tu primer pedidoEntrega más rápida mañana, 26 de sept Vendido por: AmazonMás opciones de compra17,00 €(78 nuevas ofertas)Edades: 8 años y más\n",
            "LEGO City Coche de Policía y Potente Deportivo, Vehículo de Emergencia de Juguete, Regalo para Niños y Niñas de 6 Años o Más, Juego Imaginativo y de Roles, Minifiguras de Agente y Ladrona 60415  4,8 de 5 estrellas 491  50+ comprados el mes pasado19,21 €19,21€ PVPR: 19,99 €19,99€Entrega GRATIS el sáb, 28 de sept en tu primer pedidoEntrega más rápida mañana, 26 de sept Vendido por: AmazonMás opciones de compra17,05 €(75 nuevas ofertas)Edades: 6 años y más\n",
            "PatrocinadoPatrocinado Puedes ver este anuncio debido a la relevancia del producto con respecto a tu búsqueda.Más información sobre este anuncio  BERYLED Bloques Construccion +500 Piezas 10 Colores, Juego de Construccion Regalo Niñas Niños 3 4 5 6 7 8 9 10 11 12 años Montaje Vertical-Horizontal, Creatividad, Fácil Montar (Multicolor, 508 pcs)  4,4 de 5 estrellas 9  21,95 €21,95€Entrega GRATIS el sáb, 28 de sept en tu primer pedidoEntrega más rápida mañana, 26 de sept Edades: 36 meses - 12 años\n"
          ]
        }
      ],
      "source": [
        "#Le pasamos el listado de productos a Bs4\n",
        "from bs4 import BeautifulSoup as bs\n",
        "soup = bs(driver.page_source, 'html.parser')\n",
        "productos = soup.find_all('div', class_='a-section a-spacing-base')\n",
        "#Printeamos la lista de productos:\n",
        "for producto in productos:\n",
        "    print(producto.text)"
      ]
    },
    {
      "cell_type": "code",
      "execution_count": 14,
      "metadata": {
        "id": "2mSC-fnrhxLE"
      },
      "outputs": [
        {
          "data": {
            "text/plain": [
              "['LEGO Minecraft La Fortificación-Espada Juguete de Construcción, Minifiguras de Creeper, Soldado, Guerrero y Esqueleto, Regalo para Niños y Niñas de 8 Años o Más, Decoración de Estantería 21244  4,8 de 5 estrellas 1.687  200+ comprados el mes pasado43,87\\xa0€43,87€ Entrega GRATIS el sáb, 28 de sept Entrega más rápida mañana, 26 de sept Vendido por: AmazonMás opciones de compra35,56\\xa0€(64 ofertas usadas y nuevas)Edades: 8 años y más']"
            ]
          },
          "execution_count": 14,
          "metadata": {},
          "output_type": "execute_result"
        }
      ],
      "source": [
        "productos[60].text.split('\\n')"
      ]
    },
    {
      "cell_type": "code",
      "execution_count": 15,
      "metadata": {},
      "outputs": [
        {
          "name": "stdout",
          "output_type": "stream",
          "text": [
            "<div class=\"a-section a-spacing-base\">\n",
            " <div class=\"s-product-image-container aok-relative s-text-center s-image-overlay-grey puis-image-overlay-grey s-padding-left-small s-padding-right-small puis-spacing-small s-height-equalized puis puis-v2fl5pkubaqu126k6zseo6li6q\" data-cy=\"image-container\" style=\"padding-top: 26px !important;\">\n",
            "  <span class=\"rush-component\" data-component-type=\"s-product-image\" data-render-id=\"r3tjankv5t43e42uca0199o78es\" data-version-id=\"v2fl5pkubaqu126k6zseo6li6q\">\n",
            "   <a class=\"a-link-normal s-no-outline\" href=\"/sspa/click?ie=UTF8&amp;spc=MTo1MjIxNDI1Mzc1MjE0MjQ6MTcyNzI2MzIyNTpzcF9hdGY6MzAwMzAwOTcwMzQyNDMyOjowOjo&amp;url=%2FJuguetes-Gralal-Robotica-Experimentos-Educativos%2Fdp%2FB0D6RJXKDS%2Fref%3Dsr_1_1_sspa%3F__mk_es_ES%3D%25C3%2585M%25C3%2585%25C5%25BD%25C3%2595%25C3%2591%26crid%3D17WXQQFS7RMAM%26dib%3DeyJ2IjoiMSJ9.JeseBEYIk1Lq23zhgXFBeLvR6IAQsidBwkDGe4FZrAkwxvV0nuk8HBhBHV9v0Erd2VdC1r4Y5d3D5VuC1jGMYjVIjkZCeQvzRwcPAngLvRuwCoKRyDaBv9qgGQA-GKw6s-oxLiJllmGfT5ikT1ZqutewHTNb9vLkA8zgYVQ9TgK-a9rn1PnQXpQq8489v3dmqHpGjw3D2jku5EBqleIbiGp5Z53qL7iTxCL5zuc9BCEfogd2ygOECde5mPxGyCRDVhR4LmAZy3It25VXaFW5jFgef6wCanyW2jaVvtBiaiw.vdNDgL_bH7E0bjLHEk-36q9iw6Onm-wnpIxes9AviH8%26dib_tag%3Dse%26keywords%3Djuguetes%2Blego%26qid%3D1727263225%26sprefix%3Djuguetes%2Blego%252Caps%252C102%26sr%3D8-1-spons%26sp_csd%3Dd2lkZ2V0TmFtZT1zcF9hdGY%26psc%3D1\" tabindex=\"-1\">\n",
            "    <div class=\"a-section aok-relative s-image-square-aspect\">\n",
            "     <img alt=\"Anuncio patrocinado: Juguetes Niños 6 7 8 9 10 Años, Gralal Sistema Solar Kit Robotica Experimentos Niños Robot Juguete Re...\" aria-hidden=\"true\" class=\"s-image\" data-image-index=\"1\" data-image-latency=\"s-product-image\" data-image-load=\"\" data-image-source-density=\"1\" src=\"https://m.media-amazon.com/images/I/81fthNDQMOL._AC_UL320_.jpg\" srcset=\"https://m.media-amazon.com/images/I/81fthNDQMOL._AC_UL320_.jpg 1x, https://m.media-amazon.com/images/I/81fthNDQMOL._AC_UL480_FMwebp_QL65_.jpg 1.5x, https://m.media-amazon.com/images/I/81fthNDQMOL._AC_UL640_FMwebp_QL65_.jpg 2x, https://m.media-amazon.com/images/I/81fthNDQMOL._AC_UL800_FMwebp_QL65_.jpg 2.5x, https://m.media-amazon.com/images/I/81fthNDQMOL._AC_UL960_FMwebp_QL65_.jpg 3x\"/>\n",
            "    </div>\n",
            "   </a>\n",
            "  </span>\n",
            " </div>\n",
            " <div class=\"a-section a-spacing-small puis-padding-left-small puis-padding-right-small\">\n",
            "  <div class=\"a-section a-spacing-none a-spacing-top-small s-title-instructions-style\" data-cy=\"title-recipe\">\n",
            "   <div class=\"a-row a-spacing-micro\">\n",
            "    <span class=\"a-declarative\" data-a-popover='{\"activate\":\"onmouseover\",\"name\":\"sp-info-popover-B0D6RJXKDS\",\"position\":\"triggerVertical\",\"closeButtonLabel\":\"Cerrar elemento emergente\",\"closeButton\":\"true\",\"dataStrategy\":\"preload\"}' data-action=\"a-popover\" data-csa-c-func-deps=\"aui-da-a-popover\" data-csa-c-id=\"h3kvw3-ia8175-l4nna6-nlnsfn\" data-csa-c-type=\"widget\" data-render-id=\"r3tjankv5t43e42uca0199o78es\" data-version-id=\"v2fl5pkubaqu126k6zseo6li6q\">\n",
            "     <a aria-label=\"Ver información patrocinada o dejar comentarios sobre el anuncio\" class=\"puis-label-popover puis-sponsored-label-text\" href=\"javascript:void(0)\" role=\"button\" style=\"text-decoration: none;\">\n",
            "      <span class=\"puis-label-popover-default\">\n",
            "       <span class=\"a-color-secondary\">\n",
            "        Patrocinado\n",
            "       </span>\n",
            "      </span>\n",
            "      <span class=\"puis-label-popover-hover\">\n",
            "       <span class=\"a-color-base\">\n",
            "        Patrocinado\n",
            "       </span>\n",
            "      </span>\n",
            "      <span class=\"aok-inline-block puis-sponsored-label-info-icon\">\n",
            "      </span>\n",
            "     </a>\n",
            "    </span>\n",
            "    <div class=\"a-popover-preload\" id=\"a-popover-sp-info-popover-B0D6RJXKDS\">\n",
            "     <div class=\"puis puis-v2fl5pkubaqu126k6zseo6li6q\">\n",
            "      <span>\n",
            "       Puedes ver este anuncio debido a la relevancia del producto con respecto a tu búsqueda.\n",
            "      </span>\n",
            "      <div class=\"a-row\">\n",
            "       <span class=\"a-declarative\" data-action=\"s-safe-ajax-modal-trigger\" data-csa-c-func-deps=\"aui-da-s-safe-ajax-modal-trigger\" data-csa-c-id=\"l4ux5j-bezn8f-fnozc-ciyvhw\" data-csa-c-type=\"widget\" data-render-id=\"r3tjankv5t43e42uca0199o78es\" data-s-safe-ajax-modal-trigger='{\"header\":\"Información y opciones de anuncios\",\"dataStrategy\":\"ajax\",\"ajaxUrl\":\"/af/feedback-form?pl=%7B%22adPlacementMetaData%22%3A%7B%22searchTerms%22%3A%22anVndWV0ZXMgbGVnbw%3D%3D%22%2C%22pageType%22%3A%22Search%22%2C%22feedbackType%22%3A%22sponsoredProductsLoom%22%2C%22slotName%22%3A%22TOP%22%7D%2C%22adCreativeMetaData%22%3A%7B%22adProgramId%22%3A1024%2C%22adCreativeDetails%22%3A%5B%7B%22asin%22%3A%22B0D6RJXKDS%22%2C%22title%22%3A%22Juguetes+Ni%C3%B1os+6+7+8+9+10+A%C3%B1os%2C+Gralal+Sistema+Solar+Kit+Robotica+Experimentos+Ni%C3%B1os+Robot+Juguete+R%22%2C%22priceInfo%22%3A%7B%22amount%22%3A16.99%2C%22currencyCode%22%3A%22EUR%22%7D%2C%22sku%22%3A%22GU-WJ121444AXXYE%22%2C%22adId%22%3A%22A040204233QWULQ5SQWAI%22%2C%22campaignId%22%3A%22A0753513OTANLKMJJ2Y3%22%2C%22advertiserIdNS%22%3A%22axiom.A1RKKUPIHCS9HS.A1E9BBPOZACIB2%22%2C%22selectionSignals%22%3A%7B%22version%22%3A1%2C%22context%22%3Atrue%2C%22location%22%3Afalse%2C%22pastActivity%22%3A%22NONE%22%7D%7D%5D%7D%7D\"}' data-version-id=\"v2fl5pkubaqu126k6zseo6li6q\">\n",
            "        <a class=\"a-link-normal s-underline-text s-underline-link-text s-link-style\" href=\"#\">\n",
            "         <span>\n",
            "          Más información sobre este anuncio\n",
            "         </span>\n",
            "        </a>\n",
            "       </span>\n",
            "      </div>\n",
            "     </div>\n",
            "    </div>\n",
            "   </div>\n",
            "   <h2 class=\"a-size-mini a-spacing-none a-color-base s-line-clamp-4\">\n",
            "    <a class=\"a-link-normal s-underline-text s-underline-link-text s-link-style a-text-normal\" href=\"/sspa/click?ie=UTF8&amp;spc=MTo1MjIxNDI1Mzc1MjE0MjQ6MTcyNzI2MzIyNTpzcF9hdGY6MzAwMzAwOTcwMzQyNDMyOjowOjo&amp;url=%2FJuguetes-Gralal-Robotica-Experimentos-Educativos%2Fdp%2FB0D6RJXKDS%2Fref%3Dsr_1_1_sspa%3F__mk_es_ES%3D%25C3%2585M%25C3%2585%25C5%25BD%25C3%2595%25C3%2591%26crid%3D17WXQQFS7RMAM%26dib%3DeyJ2IjoiMSJ9.JeseBEYIk1Lq23zhgXFBeLvR6IAQsidBwkDGe4FZrAkwxvV0nuk8HBhBHV9v0Erd2VdC1r4Y5d3D5VuC1jGMYjVIjkZCeQvzRwcPAngLvRuwCoKRyDaBv9qgGQA-GKw6s-oxLiJllmGfT5ikT1ZqutewHTNb9vLkA8zgYVQ9TgK-a9rn1PnQXpQq8489v3dmqHpGjw3D2jku5EBqleIbiGp5Z53qL7iTxCL5zuc9BCEfogd2ygOECde5mPxGyCRDVhR4LmAZy3It25VXaFW5jFgef6wCanyW2jaVvtBiaiw.vdNDgL_bH7E0bjLHEk-36q9iw6Onm-wnpIxes9AviH8%26dib_tag%3Dse%26keywords%3Djuguetes%2Blego%26qid%3D1727263225%26sprefix%3Djuguetes%2Blego%252Caps%252C102%26sr%3D8-1-spons%26sp_csd%3Dd2lkZ2V0TmFtZT1zcF9hdGY%26psc%3D1\">\n",
            "     <span class=\"a-size-base-plus a-color-base a-text-normal\">\n",
            "      Juguetes Niños 6 7 8 9 10 Años, Gralal Sistema Solar Kit Robotica Experimentos Niños Robot Juguete Regalo Niño 7-12 Años Juegos Educativos 6-11 Años Regalos para Niños De 8-13 Años\n",
            "     </span>\n",
            "    </a>\n",
            "   </h2>\n",
            "  </div>\n",
            "  <div class=\"a-section a-spacing-none a-spacing-top-micro\" data-cy=\"reviews-block\">\n",
            "   <div class=\"a-row a-size-small\">\n",
            "    <span aria-label=\"3,8 de 5 estrellas\">\n",
            "     <span class=\"a-declarative\" data-a-popover='{\"closeButton\":true,\"closeButtonLabel\":\"\",\"activate\":\"onmouseover\",\"name\":\"\",\"position\":\"triggerBottom\",\"popoverLabel\":\"\",\"url\":\"/review/widgets/average-customer-review/popover/ref=acr_search__popover?ie=UTF8&amp;asin=B0D6RJXKDS&amp;ref_=acr_search__popover&amp;contextId=search\"}' data-action=\"a-popover\" data-csa-c-func-deps=\"aui-da-a-popover\" data-csa-c-id=\"y52fdc-hbt9zm-zhekr0-59w6n9\" data-csa-c-type=\"widget\" data-render-id=\"r3tjankv5t43e42uca0199o78es\" data-version-id=\"v2fl5pkubaqu126k6zseo6li6q\">\n",
            "      <a class=\"a-popover-trigger a-declarative\" href=\"javascript:void(0)\" role=\"button\">\n",
            "       <i class=\"a-icon a-icon-star-small a-star-small-4\" data-cy=\"reviews-ratings-slot\">\n",
            "        <span class=\"a-icon-alt\">\n",
            "         3,8 de 5 estrellas\n",
            "        </span>\n",
            "       </i>\n",
            "       <i class=\"a-icon a-icon-popover\">\n",
            "       </i>\n",
            "      </a>\n",
            "     </span>\n",
            "    </span>\n",
            "    <span aria-label=\"17 calificaciones\">\n",
            "     <a class=\"a-link-normal s-underline-text s-underline-link-text s-link-style\" href=\"/sspa/click?ie=UTF8&amp;spc=MTo1MjIxNDI1Mzc1MjE0MjQ6MTcyNzI2MzIyNTpzcF9hdGY6MzAwMzAwOTcwMzQyNDMyOjowOjo&amp;url=%2FJuguetes-Gralal-Robotica-Experimentos-Educativos%2Fdp%2FB0D6RJXKDS%2Fref%3Dsr_1_1_sspa%3F__mk_es_ES%3D%25C3%2585M%25C3%2585%25C5%25BD%25C3%2595%25C3%2591%26crid%3D17WXQQFS7RMAM%26dib%3DeyJ2IjoiMSJ9.JeseBEYIk1Lq23zhgXFBeLvR6IAQsidBwkDGe4FZrAkwxvV0nuk8HBhBHV9v0Erd2VdC1r4Y5d3D5VuC1jGMYjVIjkZCeQvzRwcPAngLvRuwCoKRyDaBv9qgGQA-GKw6s-oxLiJllmGfT5ikT1ZqutewHTNb9vLkA8zgYVQ9TgK-a9rn1PnQXpQq8489v3dmqHpGjw3D2jku5EBqleIbiGp5Z53qL7iTxCL5zuc9BCEfogd2ygOECde5mPxGyCRDVhR4LmAZy3It25VXaFW5jFgef6wCanyW2jaVvtBiaiw.vdNDgL_bH7E0bjLHEk-36q9iw6Onm-wnpIxes9AviH8%26dib_tag%3Dse%26keywords%3Djuguetes%2Blego%26qid%3D1727263225%26sprefix%3Djuguetes%2Blego%252Caps%252C102%26sr%3D8-1-spons%26sp_csd%3Dd2lkZ2V0TmFtZT1zcF9hdGY%26psc%3D1#customerReviews\">\n",
            "      <span class=\"a-size-base s-underline-text\">\n",
            "       17\n",
            "      </span>\n",
            "     </a>\n",
            "    </span>\n",
            "   </div>\n",
            "  </div>\n",
            "  <div class=\"a-section a-spacing-none a-spacing-top-small s-price-instructions-style\" data-cy=\"price-recipe\">\n",
            "   <div class=\"a-row a-size-base a-color-base\">\n",
            "    <div class=\"a-row\">\n",
            "     <a class=\"a-link-normal s-no-hover s-underline-text s-underline-link-text s-link-style a-text-normal\" href=\"/sspa/click?ie=UTF8&amp;spc=MTo1MjIxNDI1Mzc1MjE0MjQ6MTcyNzI2MzIyNTpzcF9hdGY6MzAwMzAwOTcwMzQyNDMyOjowOjo&amp;url=%2FJuguetes-Gralal-Robotica-Experimentos-Educativos%2Fdp%2FB0D6RJXKDS%2Fref%3Dsr_1_1_sspa%3F__mk_es_ES%3D%25C3%2585M%25C3%2585%25C5%25BD%25C3%2595%25C3%2591%26crid%3D17WXQQFS7RMAM%26dib%3DeyJ2IjoiMSJ9.JeseBEYIk1Lq23zhgXFBeLvR6IAQsidBwkDGe4FZrAkwxvV0nuk8HBhBHV9v0Erd2VdC1r4Y5d3D5VuC1jGMYjVIjkZCeQvzRwcPAngLvRuwCoKRyDaBv9qgGQA-GKw6s-oxLiJllmGfT5ikT1ZqutewHTNb9vLkA8zgYVQ9TgK-a9rn1PnQXpQq8489v3dmqHpGjw3D2jku5EBqleIbiGp5Z53qL7iTxCL5zuc9BCEfogd2ygOECde5mPxGyCRDVhR4LmAZy3It25VXaFW5jFgef6wCanyW2jaVvtBiaiw.vdNDgL_bH7E0bjLHEk-36q9iw6Onm-wnpIxes9AviH8%26dib_tag%3Dse%26keywords%3Djuguetes%2Blego%26qid%3D1727263225%26sprefix%3Djuguetes%2Blego%252Caps%252C102%26sr%3D8-1-spons%26sp_csd%3Dd2lkZ2V0TmFtZT1zcF9hdGY%26psc%3D1\">\n",
            "      <span class=\"a-price\" data-a-color=\"base\" data-a-size=\"xl\">\n",
            "       <span class=\"a-offscreen\">\n",
            "        16,99 €\n",
            "       </span>\n",
            "       <span aria-hidden=\"true\">\n",
            "        <span class=\"a-price-whole\">\n",
            "         16\n",
            "         <span class=\"a-price-decimal\">\n",
            "          ,\n",
            "         </span>\n",
            "        </span>\n",
            "        <span class=\"a-price-fraction\">\n",
            "         99\n",
            "        </span>\n",
            "        <span class=\"a-price-symbol\">\n",
            "         €\n",
            "        </span>\n",
            "       </span>\n",
            "      </span>\n",
            "     </a>\n",
            "    </div>\n",
            "    <div class=\"a-row\">\n",
            "    </div>\n",
            "   </div>\n",
            "   <div class=\"a-row a-size-base a-color-secondary\">\n",
            "    <span>\n",
            "     Ahorra 5 % al comprar 4 de esta selección\n",
            "    </span>\n",
            "    <span>\n",
            "    </span>\n",
            "   </div>\n",
            "  </div>\n",
            "  <div class=\"a-section a-spacing-none a-spacing-top-micro\" data-cy=\"delivery-recipe\">\n",
            "   <div class=\"a-row a-size-base a-color-secondary s-align-children-center\">\n",
            "    <span aria-label=\"Entrega GRATIS el lun, 30 de sept en tu primer pedido\">\n",
            "     <span class=\"a-color-base\">\n",
            "      Entrega GRATIS el\n",
            "     </span>\n",
            "     <span class=\"a-color-base a-text-bold\">\n",
            "      lun, 30 de sept\n",
            "     </span>\n",
            "     <span class=\"a-color-base\">\n",
            "      en tu primer pedido\n",
            "     </span>\n",
            "    </span>\n",
            "   </div>\n",
            "  </div>\n",
            "  <div class=\"a-section a-spacing-none a-spacing-top-mini\" data-cy=\"message-above-action-recipe\">\n",
            "   <div class=\"a-row a-size-base\">\n",
            "    <span class=\"a-color-base\">\n",
            "     Puntuación del vendedor: 4.8/5\n",
            "    </span>\n",
            "    <span>\n",
            "    </span>\n",
            "    <span aria-label=\"La puntuación del vendedor es 4.8 de 5 estrellas y tiene 77 opiniones de los clientes.\">\n",
            "     <a class=\"a-link-normal s-underline-text s-underline-link-text s-link-style\" href=\"/gp/aag/main?ie=UTF8&amp;seller=A1E9BBPOZACIB2\">\n",
            "      77\n",
            "     </a>\n",
            "    </span>\n",
            "   </div>\n",
            "  </div>\n",
            " </div>\n",
            "</div>\n",
            "\n"
          ]
        }
      ],
      "source": [
        "print(productos[0].prettify())"
      ]
    },
    {
      "cell_type": "markdown",
      "metadata": {},
      "source": [
        "# Solución Alex"
      ]
    },
    {
      "cell_type": "code",
      "execution_count": 44,
      "metadata": {
        "id": "E51mLu-Ph2qU"
      },
      "outputs": [
        {
          "data": {
            "text/html": [
              "<div>\n",
              "<style scoped>\n",
              "    .dataframe tbody tr th:only-of-type {\n",
              "        vertical-align: middle;\n",
              "    }\n",
              "\n",
              "    .dataframe tbody tr th {\n",
              "        vertical-align: top;\n",
              "    }\n",
              "\n",
              "    .dataframe thead th {\n",
              "        text-align: right;\n",
              "    }\n",
              "</style>\n",
              "<table border=\"1\" class=\"dataframe\">\n",
              "  <thead>\n",
              "    <tr style=\"text-align: right;\">\n",
              "      <th></th>\n",
              "      <th>producto</th>\n",
              "      <th>precio</th>\n",
              "      <th>link</th>\n",
              "    </tr>\n",
              "  </thead>\n",
              "  <tbody>\n",
              "    <tr>\n",
              "      <th>0</th>\n",
              "      <td>LEGO Technic 42000 - Juego de neumáticos y Lla...</td>\n",
              "      <td>58.80</td>\n",
              "      <td>www.amazon.es/sspa/click?ie=UTF8&amp;spc=MTo2MzYxN...</td>\n",
              "    </tr>\n",
              "    <tr>\n",
              "      <th>1</th>\n",
              "      <td>LEGO Marvel Persecución en Moto: Spider-Man vs...</td>\n",
              "      <td>9.99</td>\n",
              "      <td>www.amazon.es/LEGO-Marvel-Persecuci%C3%B3n-Mot...</td>\n",
              "    </tr>\n",
              "    <tr>\n",
              "      <th>2</th>\n",
              "      <td>LEGO Creator 3 en 1 Dragón Rojo de Juguete Con...</td>\n",
              "      <td>9.99</td>\n",
              "      <td>www.amazon.es/LEGO-Convertible-Infantil-Animal...</td>\n",
              "    </tr>\n",
              "    <tr>\n",
              "      <th>3</th>\n",
              "      <td>LEGO 31058 Creator Grandes Dinosaurios, Regalo...</td>\n",
              "      <td>14.99</td>\n",
              "      <td>www.amazon.es/LEGO-Creator-Grandes-Dinosaurios...</td>\n",
              "    </tr>\n",
              "    <tr>\n",
              "      <th>4</th>\n",
              "      <td>LEGO Sonic The Hedgehog Sonic: Desafío de la E...</td>\n",
              "      <td>29.99</td>\n",
              "      <td>www.amazon.es/LEGO-76990-Sonic-Hedgehog-Constr...</td>\n",
              "    </tr>\n",
              "    <tr>\n",
              "      <th>...</th>\n",
              "      <td>...</td>\n",
              "      <td>...</td>\n",
              "      <td>...</td>\n",
              "    </tr>\n",
              "    <tr>\n",
              "      <th>63</th>\n",
              "      <td>LEGO Technic, John Deere 9620R 4WD Tractor de ...</td>\n",
              "      <td>29.59</td>\n",
              "      <td>www.amazon.es/Costruzioni-LEGO-Deere-9620R-Tra...</td>\n",
              "    </tr>\n",
              "    <tr>\n",
              "      <th>64</th>\n",
              "      <td>PLAYMOBIL City Life 71327 Colegio, Edificio Es...</td>\n",
              "      <td>95.99</td>\n",
              "      <td>www.amazon.es/sspa/click?ie=UTF8&amp;spc=MTo2MzYxN...</td>\n",
              "    </tr>\n",
              "    <tr>\n",
              "      <th>65</th>\n",
              "      <td>PLAYMOBIL City Life 70281 Parque Infantil Aven...</td>\n",
              "      <td>31.99</td>\n",
              "      <td>www.amazon.es/sspa/click?ie=UTF8&amp;spc=MTo2MzYxN...</td>\n",
              "    </tr>\n",
              "    <tr>\n",
              "      <th>66</th>\n",
              "      <td>Juguetes del Transbordador Espacial, City Spac...</td>\n",
              "      <td>29.99</td>\n",
              "      <td>www.amazon.es/sspa/click?ie=UTF8&amp;spc=MTo2MzYxN...</td>\n",
              "    </tr>\n",
              "    <tr>\n",
              "      <th>67</th>\n",
              "      <td>BERYLED Bloques Construccion +500 Piezas 10 Co...</td>\n",
              "      <td>21.95</td>\n",
              "      <td>www.amazon.es/sspa/click?ie=UTF8&amp;spc=MTo2MzYxN...</td>\n",
              "    </tr>\n",
              "  </tbody>\n",
              "</table>\n",
              "<p>68 rows × 3 columns</p>\n",
              "</div>"
            ],
            "text/plain": [
              "                                             producto  precio  \\\n",
              "0   LEGO Technic 42000 - Juego de neumáticos y Lla...   58.80   \n",
              "1   LEGO Marvel Persecución en Moto: Spider-Man vs...    9.99   \n",
              "2   LEGO Creator 3 en 1 Dragón Rojo de Juguete Con...    9.99   \n",
              "3   LEGO 31058 Creator Grandes Dinosaurios, Regalo...   14.99   \n",
              "4   LEGO Sonic The Hedgehog Sonic: Desafío de la E...   29.99   \n",
              "..                                                ...     ...   \n",
              "63  LEGO Technic, John Deere 9620R 4WD Tractor de ...   29.59   \n",
              "64  PLAYMOBIL City Life 71327 Colegio, Edificio Es...   95.99   \n",
              "65  PLAYMOBIL City Life 70281 Parque Infantil Aven...   31.99   \n",
              "66  Juguetes del Transbordador Espacial, City Spac...   29.99   \n",
              "67  BERYLED Bloques Construccion +500 Piezas 10 Co...   21.95   \n",
              "\n",
              "                                                 link  \n",
              "0   www.amazon.es/sspa/click?ie=UTF8&spc=MTo2MzYxN...  \n",
              "1   www.amazon.es/LEGO-Marvel-Persecuci%C3%B3n-Mot...  \n",
              "2   www.amazon.es/LEGO-Convertible-Infantil-Animal...  \n",
              "3   www.amazon.es/LEGO-Creator-Grandes-Dinosaurios...  \n",
              "4   www.amazon.es/LEGO-76990-Sonic-Hedgehog-Constr...  \n",
              "..                                                ...  \n",
              "63  www.amazon.es/Costruzioni-LEGO-Deere-9620R-Tra...  \n",
              "64  www.amazon.es/sspa/click?ie=UTF8&spc=MTo2MzYxN...  \n",
              "65  www.amazon.es/sspa/click?ie=UTF8&spc=MTo2MzYxN...  \n",
              "66  www.amazon.es/sspa/click?ie=UTF8&spc=MTo2MzYxN...  \n",
              "67  www.amazon.es/sspa/click?ie=UTF8&spc=MTo2MzYxN...  \n",
              "\n",
              "[68 rows x 3 columns]"
            ]
          },
          "execution_count": 44,
          "metadata": {},
          "output_type": "execute_result"
        }
      ],
      "source": [
        "#Vamos a sacar el nombre del producto, el precio y el link\n",
        "nombres = []\n",
        "precios = []\n",
        "enlaces = []\n",
        "puntuaciones = []\n",
        "\n",
        "for i,producto in enumerate(productos):\n",
        "    # Nombre producto\n",
        "    try:\n",
        "        nombre = producto.find('span', class_='a-size-base-plus').text\n",
        "        nombres.append(nombre)\n",
        "    except: # Exception as e:\n",
        "        nombre = (f\"El producto[{i}] sin nombre\")#-->error: {e}\n",
        "        print(nombre)\n",
        "\n",
        "    # Precio\n",
        "    try:\n",
        "        if producto.find('span', 'a-offscreen'):\n",
        "            precio = producto.find('span', 'a-offscreen').text.strip().split('\\xa0')[0].replace(',', '.')# + \\\n",
        "                    #producto.find('span', 'a-price-decimal').text.replace(',', '.') + \\\n",
        "                    #producto.find('span', 'a-price-fraction').text\n",
        "            precio = float(precio)\n",
        "            precios.append(precio)\n",
        "        else:\n",
        "            precio = [p.text.split('\\xa0')[0].replace(',', '.') for p in producto.find_all('span', class_='a-color-base') if '€' in p.text] # .text.strip().split('\\xa0')[0].replace(',', '.')\n",
        "            precio = float(precio[0])\n",
        "            precios.append(precio)\n",
        "    except:\n",
        "        precio = (f\"El producto[{i}] sin precio\")\n",
        "        print(precio)\n",
        "    \n",
        "    # Estrellas\n",
        "    try:\n",
        "        puntuacion = producto.find('span', class_='a-icon-alt').text.strip().split()[0].replace(',', '.')\n",
        "        puntuaciones.append(puntuacion)\n",
        "    except:\n",
        "        puntuacion = (f\"el producto[{i}] sin estrellas\")\n",
        "        print(puntuacion)\n",
        "\n",
        "    # Enlace\n",
        "    try:\n",
        "        link = 'www.amazon.es' + producto.find('a', 'a-link-normal s-underline-text s-underline-link-text s-link-style a-text-normal').get('href')\n",
        "        enlaces.append(link)    \n",
        "    except:\n",
        "        link = (f\"El producto[{i}] sin link\")\n",
        "        print(link+'\\n')\n",
        "\n",
        "data = {'producto':nombres, 'precio_eur':precios, 'estrellas':puntuaciones, 'link':enlaces}\n",
        "\n",
        "import pandas as pd\n",
        "df = pd.DataFrame(data)\n",
        "df"
      ]
    },
    {
      "cell_type": "code",
      "execution_count": 40,
      "metadata": {},
      "outputs": [
        {
          "data": {
            "text/plain": [
              "'/sspa/click?ie=UTF8&spc=MTo2MzYxNTU3NzY1MzkxMDMyOjE3MjcyMDMwNzg6c3BfYnRmOjMwMDM0MTcyMjA3NDkzMjo6MDo6&url=%2FBERYLED-Construccion-Vertical-Horizontal-Creatividad-508%2Fdp%2FB0CX24NCQ8%2Fref%3Dsr_1_60_sspa%3F__mk_es_ES%3D%25C3%2585M%25C3%2585%25C5%25BD%25C3%2595%25C3%2591%26crid%3D12L9Y85L3CRRI%26dib%3DeyJ2IjoiMSJ9.zhUrcY5uBDTMszKHOqW27zpnv3d8OrW57yCX5RNhIgygGTchnQbeVxuQhGZk_7oF2VdC1r4Y5d3D5VuC1jGMYkAATyAIfCZppYEiLGtttIsfw1BzsKQZh4qYi2NPvmjemkO5DwRzIopNSVzZ5LngP6qI2quLxsh-IhG-gabPGKpNcckIig3VllVKypIyWF1OZILx1HKtjhab9RyP_Wkdypi7RFcuk9e5k5GJRtcRAENMxLCmR1DgY2zP5UeAQOGSxOIEBa1J2BywdGJ1DIPK1GNWuTYHjF3zZ8ULR4MFJfQ.vDb6JDoW_oIPwTHyCpMxAkcg-PPohxlbwBe510PDZh4%26dib_tag%3Dse%26keywords%3Djuguetes%2Blego%26qid%3D1727203078%26sprefix%3Djuguetes%2Blego%252Caps%252C87%26sr%3D8-60-spons%26sp_csd%3Dd2lkZ2V0TmFtZT1zcF9idGY%26psc%3D1'"
            ]
          },
          "execution_count": 40,
          "metadata": {},
          "output_type": "execute_result"
        }
      ],
      "source": [
        "link"
      ]
    },
    {
      "cell_type": "code",
      "execution_count": 34,
      "metadata": {},
      "outputs": [
        {
          "name": "stdout",
          "output_type": "stream",
          "text": [
            "<div class=\"a-section a-spacing-base\">\n",
            " <div class=\"s-product-image-container aok-relative s-text-center s-image-overlay-grey puis-image-overlay-grey s-padding-left-small s-padding-right-small puis-spacing-small s-height-equalized puis puis-v2fl5pkubaqu126k6zseo6li6q\" data-cy=\"image-container\" style=\"padding-top: 0px !important;\">\n",
            "  <span class=\"rush-component\" data-component-type=\"s-product-image\" data-render-id=\"r1me5w3um1mdz62pl6631v2p82p\" data-version-id=\"v2fl5pkubaqu126k6zseo6li6q\">\n",
            "   <a class=\"a-link-normal s-no-outline\" href=\"/LEGO-Super-Mario-Expansi%C3%B3n-Coleccionable/dp/B0CFVYJRZX/ref=sr_1_51?__mk_es_ES=%C3%85M%C3%85%C5%BD%C3%95%C3%91&amp;crid=12L9Y85L3CRRI&amp;dib=eyJ2IjoiMSJ9.zhUrcY5uBDTMszKHOqW27zpnv3d8OrW57yCX5RNhIgygGTchnQbeVxuQhGZk_7oF2VdC1r4Y5d3D5VuC1jGMYkAATyAIfCZppYEiLGtttIsfw1BzsKQZh4qYi2NPvmjemkO5DwRzIopNSVzZ5LngP6qI2quLxsh-IhG-gabPGKpNcckIig3VllVKypIyWF1OZILx1HKtjhab9RyP_Wkdypi7RFcuk9e5k5GJRtcRAENMxLCmR1DgY2zP5UeAQOGSxOIEBa1J2BywdGJ1DIPK1GNWuTYHjF3zZ8ULR4MFJfQ.vDb6JDoW_oIPwTHyCpMxAkcg-PPohxlbwBe510PDZh4&amp;dib_tag=se&amp;keywords=juguetes+lego&amp;qid=1727203078&amp;sprefix=juguetes+lego%2Caps%2C87&amp;sr=8-51\" tabindex=\"-1\">\n",
            "    <div class=\"a-section aok-relative s-image-square-aspect\">\n",
            "     <img alt=\"LEGO Super Mario Set de Expansión: Caco Gazapo en la Tienda de Toad Juguete Coleccionable con 2 Personajes de Videojuego C...\" aria-hidden=\"true\" class=\"s-image\" data-image-index=\"51\" data-image-latency=\"s-product-image\" data-image-load=\"\" data-image-source-density=\"1\" src=\"https://m.media-amazon.com/images/I/81Omp4yK9BL._AC_UL320_.jpg\" srcset=\"https://m.media-amazon.com/images/I/81Omp4yK9BL._AC_UL320_.jpg 1x, https://m.media-amazon.com/images/I/81Omp4yK9BL._AC_UL480_FMwebp_QL65_.jpg 1.5x, https://m.media-amazon.com/images/I/81Omp4yK9BL._AC_UL640_FMwebp_QL65_.jpg 2x, https://m.media-amazon.com/images/I/81Omp4yK9BL._AC_UL800_FMwebp_QL65_.jpg 2.5x, https://m.media-amazon.com/images/I/81Omp4yK9BL._AC_UL960_FMwebp_QL65_.jpg 3x\"/>\n",
            "    </div>\n",
            "   </a>\n",
            "  </span>\n",
            " </div>\n",
            " <div class=\"a-section a-spacing-small puis-padding-left-small puis-padding-right-small\">\n",
            "  <div class=\"a-section a-spacing-none a-spacing-top-small s-title-instructions-style\" data-cy=\"title-recipe\">\n",
            "   <h2 class=\"a-size-mini a-spacing-none a-color-base s-line-clamp-4\">\n",
            "    <a class=\"a-link-normal s-underline-text s-underline-link-text s-link-style a-text-normal\" href=\"/LEGO-Super-Mario-Expansi%C3%B3n-Coleccionable/dp/B0CFVYJRZX/ref=sr_1_51?__mk_es_ES=%C3%85M%C3%85%C5%BD%C3%95%C3%91&amp;crid=12L9Y85L3CRRI&amp;dib=eyJ2IjoiMSJ9.zhUrcY5uBDTMszKHOqW27zpnv3d8OrW57yCX5RNhIgygGTchnQbeVxuQhGZk_7oF2VdC1r4Y5d3D5VuC1jGMYkAATyAIfCZppYEiLGtttIsfw1BzsKQZh4qYi2NPvmjemkO5DwRzIopNSVzZ5LngP6qI2quLxsh-IhG-gabPGKpNcckIig3VllVKypIyWF1OZILx1HKtjhab9RyP_Wkdypi7RFcuk9e5k5GJRtcRAENMxLCmR1DgY2zP5UeAQOGSxOIEBa1J2BywdGJ1DIPK1GNWuTYHjF3zZ8ULR4MFJfQ.vDb6JDoW_oIPwTHyCpMxAkcg-PPohxlbwBe510PDZh4&amp;dib_tag=se&amp;keywords=juguetes+lego&amp;qid=1727203078&amp;sprefix=juguetes+lego%2Caps%2C87&amp;sr=8-51\">\n",
            "     <span class=\"a-size-base-plus a-color-base a-text-normal\">\n",
            "      LEGO Super Mario Set de Expansión: Caco Gazapo en la Tienda de Toad Juguete Coleccionable con 2 Personajes de Videojuego Construibles, Regalo para Niños, Niñas y Gamers de 7 Años o Más 71429\n",
            "     </span>\n",
            "    </a>\n",
            "   </h2>\n",
            "  </div>\n",
            "  <div class=\"a-section a-spacing-none a-spacing-top-micro\" data-cy=\"reviews-block\">\n",
            "   <div class=\"a-row a-size-small\">\n",
            "    <span aria-label=\"4,7 de 5 estrellas\">\n",
            "     <span class=\"a-declarative\" data-a-popover='{\"closeButton\":true,\"closeButtonLabel\":\"\",\"activate\":\"onmouseover\",\"name\":\"\",\"position\":\"triggerBottom\",\"popoverLabel\":\"\",\"url\":\"/review/widgets/average-customer-review/popover/ref=acr_search__popover?ie=UTF8&amp;asin=B0CFVYJRZX&amp;ref_=acr_search__popover&amp;contextId=search\"}' data-action=\"a-popover\" data-csa-c-func-deps=\"aui-da-a-popover\" data-csa-c-id=\"127q70-2yvbl1-23h5no-atxvti\" data-csa-c-type=\"widget\" data-render-id=\"r1me5w3um1mdz62pl6631v2p82p\" data-version-id=\"v2fl5pkubaqu126k6zseo6li6q\">\n",
            "      <a class=\"a-popover-trigger a-declarative\" href=\"javascript:void(0)\" role=\"button\">\n",
            "       <i class=\"a-icon a-icon-star-small a-star-small-4-5\" data-cy=\"reviews-ratings-slot\">\n",
            "        <span class=\"a-icon-alt\">\n",
            "         4,7 de 5 estrellas\n",
            "        </span>\n",
            "       </i>\n",
            "       <i class=\"a-icon a-icon-popover\">\n",
            "       </i>\n",
            "      </a>\n",
            "     </span>\n",
            "    </span>\n",
            "    <span aria-label=\"312 calificaciones\">\n",
            "     <a class=\"a-link-normal s-underline-text s-underline-link-text s-link-style\" href=\"/LEGO-Super-Mario-Expansi%C3%B3n-Coleccionable/dp/B0CFVYJRZX/ref=sr_1_51?__mk_es_ES=%C3%85M%C3%85%C5%BD%C3%95%C3%91&amp;crid=12L9Y85L3CRRI&amp;dib=eyJ2IjoiMSJ9.zhUrcY5uBDTMszKHOqW27zpnv3d8OrW57yCX5RNhIgygGTchnQbeVxuQhGZk_7oF2VdC1r4Y5d3D5VuC1jGMYkAATyAIfCZppYEiLGtttIsfw1BzsKQZh4qYi2NPvmjemkO5DwRzIopNSVzZ5LngP6qI2quLxsh-IhG-gabPGKpNcckIig3VllVKypIyWF1OZILx1HKtjhab9RyP_Wkdypi7RFcuk9e5k5GJRtcRAENMxLCmR1DgY2zP5UeAQOGSxOIEBa1J2BywdGJ1DIPK1GNWuTYHjF3zZ8ULR4MFJfQ.vDb6JDoW_oIPwTHyCpMxAkcg-PPohxlbwBe510PDZh4&amp;dib_tag=se&amp;keywords=juguetes+lego&amp;qid=1727203078&amp;sprefix=juguetes+lego%2Caps%2C87&amp;sr=8-51#customerReviews\">\n",
            "      <span class=\"a-size-base s-underline-text\">\n",
            "       312\n",
            "      </span>\n",
            "     </a>\n",
            "    </span>\n",
            "   </div>\n",
            "   <div class=\"a-row a-size-base\">\n",
            "    <span class=\"a-size-base a-color-secondary\">\n",
            "     50+ comprados el mes pasado\n",
            "    </span>\n",
            "   </div>\n",
            "  </div>\n",
            "  <div class=\"a-section a-spacing-none a-spacing-top-small s-price-instructions-style\" data-cy=\"price-recipe\">\n",
            "   <div class=\"a-row a-size-base a-color-base\">\n",
            "    <div class=\"a-row\">\n",
            "    </div>\n",
            "    <div class=\"a-row\">\n",
            "    </div>\n",
            "   </div>\n",
            "  </div>\n",
            "  <div class=\"a-section a-spacing-none a-spacing-top-mini puis-interactive-asin-expander-hide\" data-cy=\"secondary-offer-recipe\">\n",
            "   <div class=\"a-row a-size-base a-color-secondary\">\n",
            "    <span class=\"a-size-base a-color-secondary\">\n",
            "     Ofertas destacadas no disponibles\n",
            "    </span>\n",
            "    <br/>\n",
            "    <span class=\"a-color-base\">\n",
            "     17,46 €\n",
            "    </span>\n",
            "    <span class=\"a-letter-space\">\n",
            "    </span>\n",
            "    <span class=\"a-declarative\" data-action=\"s-show-all-offers-display\" data-csa-c-func-deps=\"aui-da-s-show-all-offers-display\" data-csa-c-id=\"80369k-31kg4d-a4haas-7h0c4q\" data-csa-c-type=\"widget\" data-render-id=\"r1me5w3um1mdz62pl6631v2p82p\" data-s-show-all-offers-display='{\"assetMismatch\":\"Abandon\",\"url\":\"/gp/aod/ajax/ref=sr_1_51_aod?asin=B0CFVYJRZX&amp;pc=sp&amp;keywords=juguetes+lego&amp;crid=12L9Y85L3CRRI&amp;sprefix=juguetes+lego%2Caps%2C87&amp;dib_tag=se&amp;dib=eyJ2IjoiMSJ9.zhUrcY5uBDTMszKHOqW27zpnv3d8OrW57yCX5RNhIgygGTchnQbeVxuQhGZk_7oF2VdC1r4Y5d3D5VuC1jGMYkAATyAIfCZppYEiLGtttIsfw1BzsKQZh4qYi2NPvmjemkO5DwRzIopNSVzZ5LngP6qI2quLxsh-IhG-gabPGKpNcckIig3VllVKypIyWF1OZILx1HKtjhab9RyP_Wkdypi7RFcuk9e5k5GJRtcRAENMxLCmR1DgY2zP5UeAQOGSxOIEBa1J2BywdGJ1DIPK1GNWuTYHjF3zZ8ULR4MFJfQ.vDb6JDoW_oIPwTHyCpMxAkcg-PPohxlbwBe510PDZh4&amp;__mk_es_ES=%C3%85M%C3%85%C5%BD%C3%95%C3%91&amp;qid=1727203078&amp;sr=8-51\",\"fallbackUrl\":\"/gp/offer-listing/B0CFVYJRZX/ref=sr_1_51_olp?keywords=juguetes+lego&amp;crid=12L9Y85L3CRRI&amp;sprefix=juguetes+lego%2Caps%2C87&amp;dib_tag=se&amp;dib=eyJ2IjoiMSJ9.zhUrcY5uBDTMszKHOqW27zpnv3d8OrW57yCX5RNhIgygGTchnQbeVxuQhGZk_7oF2VdC1r4Y5d3D5VuC1jGMYkAATyAIfCZppYEiLGtttIsfw1BzsKQZh4qYi2NPvmjemkO5DwRzIopNSVzZ5LngP6qI2quLxsh-IhG-gabPGKpNcckIig3VllVKypIyWF1OZILx1HKtjhab9RyP_Wkdypi7RFcuk9e5k5GJRtcRAENMxLCmR1DgY2zP5UeAQOGSxOIEBa1J2BywdGJ1DIPK1GNWuTYHjF3zZ8ULR4MFJfQ.vDb6JDoW_oIPwTHyCpMxAkcg-PPohxlbwBe510PDZh4&amp;__mk_es_ES=%C3%85M%C3%85%C5%BD%C3%95%C3%91&amp;qid=1727203078&amp;sr=8-51\"}' data-version-id=\"v2fl5pkubaqu126k6zseo6li6q\">\n",
            "     <a class=\"a-link-normal s-link-style s-underline-text s-underline-link-text\" href=\"/gp/offer-listing/B0CFVYJRZX/ref=sr_1_51_olp?keywords=juguetes+lego&amp;crid=12L9Y85L3CRRI&amp;sprefix=juguetes+lego%2Caps%2C87&amp;dib_tag=se&amp;dib=eyJ2IjoiMSJ9.zhUrcY5uBDTMszKHOqW27zpnv3d8OrW57yCX5RNhIgygGTchnQbeVxuQhGZk_7oF2VdC1r4Y5d3D5VuC1jGMYkAATyAIfCZppYEiLGtttIsfw1BzsKQZh4qYi2NPvmjemkO5DwRzIopNSVzZ5LngP6qI2quLxsh-IhG-gabPGKpNcckIig3VllVKypIyWF1OZILx1HKtjhab9RyP_Wkdypi7RFcuk9e5k5GJRtcRAENMxLCmR1DgY2zP5UeAQOGSxOIEBa1J2BywdGJ1DIPK1GNWuTYHjF3zZ8ULR4MFJfQ.vDb6JDoW_oIPwTHyCpMxAkcg-PPohxlbwBe510PDZh4&amp;__mk_es_ES=%C3%85M%C3%85%C5%BD%C3%95%C3%91&amp;qid=1727203078&amp;sr=8-51\">\n",
            "      (50 nuevas ofertas)\n",
            "     </a>\n",
            "    </span>\n",
            "    <div class=\"a-section aok-hidden\" id=\"all-offers-display\">\n",
            "     <div class=\"a-spinner-wrapper aok-hidden\" id=\"all-offers-display-spinner\">\n",
            "      <span class=\"a-spinner a-spinner-medium\">\n",
            "      </span>\n",
            "     </div>\n",
            "    </div>\n",
            "    <span class=\"a-declarative\" data-action=\"close-all-offers-display\" data-csa-c-func-deps=\"aui-da-close-all-offers-display\" data-csa-c-id=\"tpav6c-r11za8-ky398f-ar2h3v\" data-csa-c-type=\"widget\" data-render-id=\"r1me5w3um1mdz62pl6631v2p82p\" data-version-id=\"v2fl5pkubaqu126k6zseo6li6q\">\n",
            "     <div class=\"a-section aok-hidden aod-darken-background\" id=\"aod-background\">\n",
            "     </div>\n",
            "    </span>\n",
            "   </div>\n",
            "  </div>\n",
            "  <div class=\"a-section a-spacing-none a-spacing-top-mini puis-interactive-asin-expander-hide\" data-cy=\"product-details-recipe\">\n",
            "   <div class=\"a-row a-size-base a-color-base\">\n",
            "    <span>\n",
            "     Edades: 7 años y más\n",
            "    </span>\n",
            "   </div>\n",
            "  </div>\n",
            " </div>\n",
            "</div>\n",
            "\n"
          ]
        }
      ],
      "source": [
        "print(productos[58].prettify())"
      ]
    },
    {
      "cell_type": "code",
      "execution_count": null,
      "metadata": {
        "id": "yZtuIBbCiAR-"
      },
      "outputs": [],
      "source": [
        "productos[7].text"
      ]
    },
    {
      "cell_type": "code",
      "execution_count": null,
      "metadata": {
        "id": "zVKRZIQliCgt"
      },
      "outputs": [],
      "source": [
        "driver.quit()"
      ]
    },
    {
      "cell_type": "markdown",
      "metadata": {
        "id": "mpOlA-rbiRu1"
      },
      "source": [
        "# MARCA\n",
        "\n",
        "Esperas hasta que un botón sea clickable."
      ]
    },
    {
      "cell_type": "code",
      "execution_count": null,
      "metadata": {
        "id": "GgEKFf4OiRTQ"
      },
      "outputs": [],
      "source": [
        "url = 'https://www.marca.com/'\n",
        "driver = webdriver.Chrome(options=opciones)\n",
        "driver.get(url)\n",
        "driver.find_element(By.ID, 'ue-accept-notice-button').click()\n",
        "#Boton de la radio\n",
        "driver.find_element(By.CLASS_NAME, 'ue-c-tooltip--closearrow').click()"
      ]
    },
    {
      "cell_type": "code",
      "execution_count": null,
      "metadata": {
        "id": "-UtdVXQTmhzF"
      },
      "outputs": [],
      "source": [
        "driver.quit()"
      ]
    },
    {
      "cell_type": "code",
      "execution_count": null,
      "metadata": {
        "id": "yZuBCjQVmmU6"
      },
      "outputs": [],
      "source": [
        "url = 'https://www.marca.com/'\n",
        "driver = webdriver.Chrome(options=options)\n",
        "driver.get(url)\n",
        "#Esperar hasta que el botón esté disponible\n",
        "WebDriverWait(driver, 10).until(EC.element_to_be_clickable((By.ID, 'ue-accept-notice-button'))).click()\n",
        "#Boton de la radio (X)\n",
        "WebDriverWait(driver, 10).until(EC.element_to_be_clickable((By.CLASS_NAME, 'ue-c-tooltip--closearrow'))).click()\n",
        "#Boton acceder a la radio\n",
        "WebDriverWait(driver, 10).until(EC.element_to_be_clickable((By.CLASS_NAME, 'radio-heading'))).click()"
      ]
    },
    {
      "cell_type": "code",
      "execution_count": null,
      "metadata": {
        "id": "hL714vnYmrN7"
      },
      "outputs": [],
      "source": [
        "driver.quit()"
      ]
    }
  ],
  "metadata": {
    "colab": {
      "provenance": []
    },
    "kernelspec": {
      "display_name": "Python 3",
      "name": "python3"
    },
    "language_info": {
      "codemirror_mode": {
        "name": "ipython",
        "version": 3
      },
      "file_extension": ".py",
      "mimetype": "text/x-python",
      "name": "python",
      "nbconvert_exporter": "python",
      "pygments_lexer": "ipython3",
      "version": "3.12.4"
    }
  },
  "nbformat": 4,
  "nbformat_minor": 0
}
