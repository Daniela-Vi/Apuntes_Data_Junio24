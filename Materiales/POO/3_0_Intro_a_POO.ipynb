{
  "cells": [
    {
      "cell_type": "markdown",
      "metadata": {
        "id": "D_MuituUpNBd"
      },
      "source": [
        "# 16  - Programación orientada a objetos --> POO (OOP en inglés)\n",
        "\n",
        "![POO](https://res.cloudinary.com/practicaldev/image/fetch/s--ufDC8O_A--/c_limit%2Cf_auto%2Cfl_progressive%2Cq_auto%2Cw_800/https://cdn.fs.teachablecdn.com/ySDOMxZwTAio4hQ6k68G)\n",
        "\n",
        "\n",
        "## ¿Qué es la programación orientada a objetos?\n",
        "La Programación Orientada a Objetos (POO) es un paradigma de programación que se basa en la conceptualización y organización del código en términos de \"objetos\". Cada objeto es una instancia única de una \"clase\", y estas clases sirven como plantillas para definir las propiedades y comportamientos compartidos por un conjunto de objetos.\n",
        "\n",
        "Este enfoque de programación se asemeja a la forma en que vemos y entendemos el mundo real, donde los objetos tienen **características** (atributos) y realizan **acciones** específicas (métodos). La POO proporciona una estructura modular y más intuitiva para el desarrollo de software, facilitando la creación y mantenimiento de código.\n",
        "\n",
        "En este notebook, exploraremos los conceptos fundamentales de la Programación Orientada a Objetos en el contexto de Python.\n",
        "\n",
        "Cubriremos temas ***clave***:\n",
        "-  Creación de clases y objetos.\n",
        "-  Definición de atributos y métodos\n",
        "-  La herencia, el encapsulamiento y el polimorfismo.\n",
        "\n",
        "Al comprender la POO, se pueden diseñar sistemas más escalables, reutilizables y fáciles de entender."
      ]
    },
    {
      "cell_type": "markdown",
      "metadata": {
        "id": "iownaJCQpNB8"
      },
      "source": [
        "### 1 - [CLASES y OBJETOS](#1.-Clases-y-objetos)\n",
        "\n",
        "Las clases son `plantillas` que se utilizan para crear objetos. Dentro de una clase, se definen los atributos y métodos que tendrán los objetos creados a partir de ella. Todos los objetos creados a partir de una clase tendrán en común los atributos y métodos definidos en la clase a la que pertenecen.\n",
        "\n",
        "Vamos a crear una clase `Coche` que tendrá los atributos `marca` y `modelo` y los métodos `acelerar` y `frenar`.\n",
        "\n",
        "```python\n",
        "class Coche:\n",
        "    def __init__(self, marca, modelo): # Constructor, inicializa los atributos de la clase\n",
        "        self.marca = marca\n",
        "        self.modelo = modelo\n",
        "        self.velocidad = 0\n",
        "\n",
        "    def acelerar(self): # Método, realiza una acción\n",
        "        self.velocidad += 10\n",
        "        print(f\"{self.marca} {self.modelo} acelerando. Velocidad: {self.velocidad} km/h\")\n",
        "\n",
        "    def frenar(self): # Método, realiza una acción\n",
        "        self.velocidad -= 5\n",
        "        print(f\"{self.marca} {self.modelo} frenando. Velocidad: {self.velocidad} km/h\")\n",
        "```"
      ]
    },
    {
      "cell_type": "code",
      "execution_count": null,
      "metadata": {
        "id": "zTpu-fX_pNB-"
      },
      "outputs": [],
      "source": [
        "#Vamos ejecutarlo:\n",
        "class Coche:\n",
        "    def __init__(self,marca,modelo):\n",
        "        self.marca = marca\n",
        "        self.modelo = modelo\n",
        "        self.velocidad = 0 #Atributo de instancia, cuando cree un objeto de esta clase, tendra este atributo por defecto\n",
        "\n",
        "    def acelerar(self):\n",
        "        self.velocidad += 10\n",
        "        print(f\"El coche {self.marca} {self.modelo} acelera a {self.velocidad} km/h\")\n",
        "    def frenar(self):\n",
        "        self.velocidad -= 5\n",
        "        print(f\"El coche {self.marca} {self.modelo} frena a {self.velocidad} km/h\")\n"
      ]
    },
    {
      "cell_type": "markdown",
      "metadata": {
        "id": "lp2qMeOxpNCH"
      },
      "source": [
        "Tenemos la clase `Coche` con los atributos `marca`, `modelo` y `velocidad` y los métodos `acelerar` y `frenar`.\n",
        "\n",
        "Vamos a crear un par de instancias, es decir de objetos, de la clase `Coche`."
      ]
    },
    {
      "cell_type": "code",
      "execution_count": null,
      "metadata": {
        "id": "cGDPUbC5pNCJ",
        "outputId": "5ff66406-49b0-49f4-cfd9-11453517761c",
        "colab": {
          "base_uri": "https://localhost:8080/"
        }
      },
      "outputs": [
        {
          "output_type": "stream",
          "name": "stdout",
          "text": [
            "<__main__.Coche object at 0x7a6c38a1b670>\n"
          ]
        }
      ],
      "source": [
        "#Creamos primer objeto /instancia\n",
        "coche1 = Coche(\"SEAT\",\"Ibiza\")\n",
        "\n",
        "print(coche1)"
      ]
    },
    {
      "cell_type": "code",
      "execution_count": null,
      "metadata": {
        "id": "EaHUFDidpNCL",
        "outputId": "0e94a409-7e5a-4ae8-e2ef-c1d8ec5b3c53",
        "colab": {
          "base_uri": "https://localhost:8080/"
        }
      },
      "outputs": [
        {
          "output_type": "stream",
          "name": "stdout",
          "text": [
            "SEAT\n",
            "Ibiza\n",
            "0\n"
          ]
        }
      ],
      "source": [
        "#Tenemos el objeto coche1, que es una instancia de la clase Coche,vamos a\n",
        "#acceder a sus atributos\n",
        "\n",
        "print(coche1.marca)\n",
        "print(coche1.modelo)\n",
        "print(coche1.velocidad)"
      ]
    },
    {
      "cell_type": "code",
      "execution_count": null,
      "metadata": {
        "id": "xHJd4J4PpNCX",
        "outputId": "7d0f2301-ef74-4c30-c66a-c9728c753d1d",
        "colab": {
          "base_uri": "https://localhost:8080/"
        }
      },
      "outputs": [
        {
          "output_type": "stream",
          "name": "stdout",
          "text": [
            "El coche SEAT Ibiza acelera a 25 km/h\n"
          ]
        }
      ],
      "source": [
        "#Vamos a correr su métodos:\n",
        "coche1.acelerar() #x 2 veces"
      ]
    },
    {
      "cell_type": "code",
      "execution_count": null,
      "metadata": {
        "id": "CAgHwozwpNCc",
        "outputId": "dfb8a497-5166-44e9-f299-6a71cefea371",
        "colab": {
          "base_uri": "https://localhost:8080/"
        }
      },
      "outputs": [
        {
          "output_type": "stream",
          "name": "stdout",
          "text": [
            "El coche SEAT Ibiza frena a 10 km/h\n"
          ]
        }
      ],
      "source": [
        "#Vamos a frenarlo una vez\n",
        "coche1.frenar()"
      ]
    },
    {
      "cell_type": "code",
      "execution_count": null,
      "metadata": {
        "id": "0uW2rPwvpNCj"
      },
      "outputs": [],
      "source": [
        "mierda_coche = Coche('Clio','Renault')\n"
      ]
    },
    {
      "cell_type": "code",
      "execution_count": null,
      "metadata": {
        "id": "NF0XAlrrpNCl",
        "outputId": "0c6e3950-85a6-4d05-95d5-393d7408ba7f",
        "colab": {
          "base_uri": "https://localhost:8080/",
          "height": 36
        }
      },
      "outputs": [
        {
          "output_type": "execute_result",
          "data": {
            "text/plain": [
              "'Clio'"
            ],
            "application/vnd.google.colaboratory.intrinsic+json": {
              "type": "string"
            }
          },
          "metadata": {},
          "execution_count": 12
        }
      ],
      "source": [
        "mierda_coche.marca"
      ]
    },
    {
      "cell_type": "code",
      "execution_count": null,
      "metadata": {
        "id": "KTMlx1VWpNCn",
        "outputId": "e8c35a59-b107-4fa5-eab9-6b0e8d31714b",
        "colab": {
          "base_uri": "https://localhost:8080/",
          "height": 141
        }
      },
      "outputs": [
        {
          "output_type": "error",
          "ename": "AttributeError",
          "evalue": "'Coche' object has no attribute 'parar'",
          "traceback": [
            "\u001b[0;31m---------------------------------------------------------------------------\u001b[0m",
            "\u001b[0;31mAttributeError\u001b[0m                            Traceback (most recent call last)",
            "\u001b[0;32m<ipython-input-13-f358d0f54c42>\u001b[0m in \u001b[0;36m<cell line: 1>\u001b[0;34m()\u001b[0m\n\u001b[0;32m----> 1\u001b[0;31m \u001b[0mmierda_coche\u001b[0m\u001b[0;34m.\u001b[0m\u001b[0mparar\u001b[0m\u001b[0;34m(\u001b[0m\u001b[0;34m)\u001b[0m\u001b[0;34m\u001b[0m\u001b[0;34m\u001b[0m\u001b[0m\n\u001b[0m",
            "\u001b[0;31mAttributeError\u001b[0m: 'Coche' object has no attribute 'parar'"
          ]
        }
      ],
      "source": [
        "mierda_coche.parar()"
      ]
    },
    {
      "cell_type": "code",
      "execution_count": null,
      "metadata": {
        "id": "iS7AnSGgpNCo",
        "outputId": "2104f989-6d42-4b71-9c82-edfa1162192a",
        "colab": {
          "base_uri": "https://localhost:8080/"
        }
      },
      "outputs": [
        {
          "output_type": "stream",
          "name": "stdout",
          "text": [
            "<__main__.Coche object at 0x7a6c38a1b610>\n"
          ]
        }
      ],
      "source": [
        "coche2 = Coche(\"Renault\",\"Clio\")\n",
        "print(coche2)"
      ]
    },
    {
      "cell_type": "code",
      "execution_count": null,
      "metadata": {
        "id": "eFk9kuPRpNCr",
        "outputId": "4658c329-be2d-4067-83e7-424b75a75c4f",
        "colab": {
          "base_uri": "https://localhost:8080/"
        }
      },
      "outputs": [
        {
          "output_type": "execute_result",
          "data": {
            "text/plain": [
              "False"
            ]
          },
          "metadata": {},
          "execution_count": 15
        }
      ],
      "source": [
        "coche1 == coche2 #False, son objetos diferentes"
      ]
    },
    {
      "cell_type": "code",
      "execution_count": null,
      "metadata": {
        "id": "JinwWdYXpNCs",
        "outputId": "0453730f-5f00-440a-c9de-d14199c62116",
        "colab": {
          "base_uri": "https://localhost:8080/"
        }
      },
      "outputs": [
        {
          "output_type": "execute_result",
          "data": {
            "text/plain": [
              "True"
            ]
          },
          "metadata": {},
          "execution_count": 16
        }
      ],
      "source": [
        "coche1.__class__ == coche2.__class__ #True, son de la misma clase"
      ]
    },
    {
      "cell_type": "markdown",
      "metadata": {
        "id": "k5_89ZDQpNCs"
      },
      "source": [
        "### 2 - [ATRIBUTOS y MÉTODOS](#2.-ATRIBUTOS-y-MÉTODOS)\n",
        "\n",
        "Los `atributos` son las `características` que definen a un objeto. Los atributos de un objeto pueden ser de cualquier tipo: numéricos, cadenas, listas, diccionarios, etc.\n",
        "\n",
        "Los `métodos` son las acciones que realiza un objeto. Los métodos son `funciones` que pertenecen a una clase y que pueden utilizar los atributos de la clase.\n",
        "\n",
        "Los atributos se definen en el `constructor` de la clase, que es el método `__init__`. El constructor se ejecuta automáticamente cuando se crea un objeto de la clase.\n",
        "\n",
        "Los métodos se definen dentro de la clase. Todos los métodos de una clase reciben como primer parámetro el objeto que los invoca. Por convención, este parámetro se llama `self`.\n",
        "\n",
        "##### ATRIBUTOS:"
      ]
    },
    {
      "cell_type": "code",
      "execution_count": null,
      "metadata": {
        "id": "TJFHEIF6pNCt"
      },
      "outputs": [],
      "source": [
        "class Persona:\n",
        "    raza = \"Humano\" #Atributo de clase\n",
        "    def __init__(self, nombre, edad):\n",
        "        self.nombre = nombre #Atributo de instancia\n",
        "        self.edad = edad #Atributo de instancia"
      ]
    },
    {
      "cell_type": "code",
      "execution_count": null,
      "metadata": {
        "id": "rLtLDufWpNCt",
        "outputId": "b7095242-13ce-4aa7-fdd0-7a1ad8e80e15",
        "colab": {
          "base_uri": "https://localhost:8080/"
        }
      },
      "outputs": [
        {
          "output_type": "stream",
          "name": "stdout",
          "text": [
            "Juan tiene 25 años.\n",
            "Juan es de raza Humano\n"
          ]
        }
      ],
      "source": [
        "persona1 = Persona(\"Juan\", 25)\n",
        "print(f\"{persona1.nombre} tiene {persona1.edad} años.\")\n",
        "print(f\"{persona1.nombre} es de raza {persona1.raza}\")"
      ]
    },
    {
      "cell_type": "markdown",
      "metadata": {
        "id": "fSwZE_3_pNCu"
      },
      "source": [
        "##### MÉTODOS:"
      ]
    },
    {
      "cell_type": "code",
      "execution_count": null,
      "metadata": {
        "id": "b0kYxZrUpNCw"
      },
      "outputs": [],
      "source": [
        "class Circulo:\n",
        "    def __init__(self, radio):\n",
        "        self.radio = radio\n",
        "\n",
        "    def calcular_area(self):\n",
        "        area = 3.1416 * self.radio ** 2\n",
        "        return round(area,2)"
      ]
    },
    {
      "cell_type": "code",
      "execution_count": null,
      "metadata": {
        "id": "NumM9Q95pNCx",
        "outputId": "91ffe7ea-2823-4843-efbd-ba0b192fe0a2",
        "colab": {
          "base_uri": "https://localhost:8080/"
        }
      },
      "outputs": [
        {
          "output_type": "stream",
          "name": "stdout",
          "text": [
            "Área del círculo: 78.54\n"
          ]
        }
      ],
      "source": [
        "#Instanciamos un objeto de la clase Circulo\n",
        "circulo1 = Circulo(5)\n",
        "#circulo1.calcular_area()\n",
        "print(f\"Área del círculo: {circulo1.calcular_area()}\")"
      ]
    },
    {
      "cell_type": "markdown",
      "metadata": {
        "id": "xeJLqtxMpNCy"
      },
      "source": [
        "### 3 - [HERENCIA](#3.-Herenia)\n",
        "\n",
        "La `herencia` es un mecanismo que permite crear una clase nueva a partir de una clase existente. La clase nueva hereda todos los atributos y métodos de la clase existente, y además puede añadir nuevos atributos y métodos.\n",
        "\n",
        "La clase existente se llama `clase padre` o `superclase`. La clase nueva se llama `clase hija` o `subclase`."
      ]
    },
    {
      "cell_type": "code",
      "execution_count": null,
      "metadata": {
        "id": "0RYvHmZkpNCy"
      },
      "outputs": [],
      "source": [
        "class Animal: #Clase padre\n",
        "    def __init__(self, nombre, color):\n",
        "        self.nombre = nombre\n",
        "        self.color = color\n",
        "\n",
        "    def hacer_sonido(self): #Método abstracto, no se implementa en la clase padre\n",
        "        pass\n",
        "\n",
        "class Perro(Animal):\n",
        "    def __init__(self,nombre, color, raza):\n",
        "        super().__init__(nombre, color) # coge los atributos padre\n",
        "        self.raza = raza # atributo adicional que no tiene la clase padre\n",
        "        self.peso = 0\n",
        "\n",
        "    def hacer_sonido(self):\n",
        "        return \"Siuuuuu\"\n",
        "\n",
        "    def comer(self):\n",
        "      self.peso += 5\n",
        "      print(f'He comido mazo y peso {self.peso}kg más.')\n",
        "\n",
        "class Gato(Animal):\n",
        "    def hacer_sonido(self):\n",
        "        return \"Miau\""
      ]
    },
    {
      "cell_type": "code",
      "execution_count": null,
      "metadata": {
        "id": "9L-sJs7XpNCz",
        "outputId": "927b7099-82eb-4c40-fceb-45f8923fb588",
        "colab": {
          "base_uri": "https://localhost:8080/"
        }
      },
      "outputs": [
        {
          "output_type": "execute_result",
          "data": {
            "text/plain": [
              "[__main__.Perro, __main__.Gato]"
            ]
          },
          "metadata": {},
          "execution_count": 23
        }
      ],
      "source": [
        "Animal.__subclasses__() #Lista de clases hijas de Animal"
      ]
    },
    {
      "cell_type": "code",
      "execution_count": null,
      "metadata": {
        "id": "5bAbzT7OpNCz",
        "colab": {
          "base_uri": "https://localhost:8080/",
          "height": 158
        },
        "outputId": "ce57b0f9-d4f0-4d7b-d920-454e193ab525"
      },
      "outputs": [
        {
          "output_type": "error",
          "ename": "TypeError",
          "evalue": "Perro.__init__() missing 2 required positional arguments: 'color' and 'raza'",
          "traceback": [
            "\u001b[0;31m---------------------------------------------------------------------------\u001b[0m",
            "\u001b[0;31mTypeError\u001b[0m                                 Traceback (most recent call last)",
            "\u001b[0;32m<ipython-input-24-f3ccc8d50e33>\u001b[0m in \u001b[0;36m<cell line: 2>\u001b[0;34m()\u001b[0m\n\u001b[1;32m      1\u001b[0m \u001b[0;31m#Vamos crear un Perro\u001b[0m\u001b[0;34m\u001b[0m\u001b[0;34m\u001b[0m\u001b[0m\n\u001b[0;32m----> 2\u001b[0;31m \u001b[0mperro1\u001b[0m \u001b[0;34m=\u001b[0m \u001b[0mPerro\u001b[0m\u001b[0;34m(\u001b[0m\u001b[0;34m\"Bobby\"\u001b[0m\u001b[0;34m)\u001b[0m\u001b[0;34m\u001b[0m\u001b[0;34m\u001b[0m\u001b[0m\n\u001b[0m",
            "\u001b[0;31mTypeError\u001b[0m: Perro.__init__() missing 2 required positional arguments: 'color' and 'raza'"
          ]
        }
      ],
      "source": [
        "#Vamos crear un Perro\n",
        "perro1 = Perro(\"Bobby\")"
      ]
    },
    {
      "cell_type": "code",
      "source": [
        "perro2 = Perro('Cristiano', 'Blanco', 'RealMadrid')"
      ],
      "metadata": {
        "id": "X_ztK39PQjot"
      },
      "execution_count": null,
      "outputs": []
    },
    {
      "cell_type": "code",
      "source": [
        "perro2.hacer_sonido()"
      ],
      "metadata": {
        "colab": {
          "base_uri": "https://localhost:8080/",
          "height": 36
        },
        "id": "ut5N8hBOQzyX",
        "outputId": "b80d4755-5a0e-49bf-fac6-2978034fabb5"
      },
      "execution_count": null,
      "outputs": [
        {
          "output_type": "execute_result",
          "data": {
            "text/plain": [
              "'Siuuuuu'"
            ],
            "application/vnd.google.colaboratory.intrinsic+json": {
              "type": "string"
            }
          },
          "metadata": {},
          "execution_count": 35
        }
      ]
    },
    {
      "cell_type": "code",
      "source": [
        "perro2.comer()"
      ],
      "metadata": {
        "colab": {
          "base_uri": "https://localhost:8080/"
        },
        "id": "Gxi3dXmJR0ZT",
        "outputId": "04201c95-a9ed-4c71-92d8-bee8dcc42b75"
      },
      "execution_count": null,
      "outputs": [
        {
          "output_type": "stream",
          "name": "stdout",
          "text": [
            "He comido mazo y peso 10kg más.\n"
          ]
        }
      ]
    },
    {
      "cell_type": "code",
      "execution_count": null,
      "metadata": {
        "id": "1wl4ppjhpNC0",
        "outputId": "07e32f28-79a3-4180-d483-c2b853b78395",
        "colab": {
          "base_uri": "https://localhost:8080/",
          "height": 104
        }
      },
      "outputs": [
        {
          "output_type": "execute_result",
          "data": {
            "text/plain": [
              "__main__.Perro"
            ],
            "text/html": [
              "<div style=\"max-width:800px; border: 1px solid var(--colab-border-color);\"><style>\n",
              "      pre.function-repr-contents {\n",
              "        overflow-x: auto;\n",
              "        padding: 8px 12px;\n",
              "        max-height: 500px;\n",
              "      }\n",
              "\n",
              "      pre.function-repr-contents.function-repr-contents-collapsed {\n",
              "        cursor: pointer;\n",
              "        max-height: 100px;\n",
              "      }\n",
              "    </style>\n",
              "    <pre style=\"white-space: initial; background:\n",
              "         var(--colab-secondary-surface-color); padding: 8px 12px;\n",
              "         border-bottom: 1px solid var(--colab-border-color);\"><b>Perro</b><br/>def __init__(nombre, color, raza)</pre><pre class=\"function-repr-contents function-repr-contents-collapsed\" style=\"\"><a class=\"filepath\" style=\"display:none\" href=\"#\"></a>&lt;no docstring&gt;</pre></div>"
            ]
          },
          "metadata": {},
          "execution_count": 29
        }
      ],
      "source": [
        "perro2.__class__ #Clase Perro"
      ]
    },
    {
      "cell_type": "code",
      "execution_count": null,
      "metadata": {
        "id": "kEzHE1rbpNC0",
        "outputId": "44651ee7-dc8c-4c08-d081-aaba5dae7c05",
        "colab": {
          "base_uri": "https://localhost:8080/",
          "height": 104
        }
      },
      "outputs": [
        {
          "output_type": "execute_result",
          "data": {
            "text/plain": [
              "__main__.Animal"
            ],
            "text/html": [
              "<div style=\"max-width:800px; border: 1px solid var(--colab-border-color);\"><style>\n",
              "      pre.function-repr-contents {\n",
              "        overflow-x: auto;\n",
              "        padding: 8px 12px;\n",
              "        max-height: 500px;\n",
              "      }\n",
              "\n",
              "      pre.function-repr-contents.function-repr-contents-collapsed {\n",
              "        cursor: pointer;\n",
              "        max-height: 100px;\n",
              "      }\n",
              "    </style>\n",
              "    <pre style=\"white-space: initial; background:\n",
              "         var(--colab-secondary-surface-color); padding: 8px 12px;\n",
              "         border-bottom: 1px solid var(--colab-border-color);\"><b>Animal</b><br/>def __init__(nombre, color)</pre><pre class=\"function-repr-contents function-repr-contents-collapsed\" style=\"\"><a class=\"filepath\" style=\"display:none\" href=\"#\"></a>&lt;no docstring&gt;</pre></div>"
            ]
          },
          "metadata": {},
          "execution_count": 31
        }
      ],
      "source": [
        "perro2.__class__.__base__ #Clase Animal"
      ]
    },
    {
      "cell_type": "code",
      "source": [
        "coche1.__class__"
      ],
      "metadata": {
        "colab": {
          "base_uri": "https://localhost:8080/",
          "height": 104
        },
        "id": "zTN0I2ARSGYm",
        "outputId": "387d571b-0686-49bb-bbf4-f0e46e5a90d2"
      },
      "execution_count": null,
      "outputs": [
        {
          "output_type": "execute_result",
          "data": {
            "text/plain": [
              "__main__.Coche"
            ],
            "text/html": [
              "<div style=\"max-width:800px; border: 1px solid var(--colab-border-color);\"><style>\n",
              "      pre.function-repr-contents {\n",
              "        overflow-x: auto;\n",
              "        padding: 8px 12px;\n",
              "        max-height: 500px;\n",
              "      }\n",
              "\n",
              "      pre.function-repr-contents.function-repr-contents-collapsed {\n",
              "        cursor: pointer;\n",
              "        max-height: 100px;\n",
              "      }\n",
              "    </style>\n",
              "    <pre style=\"white-space: initial; background:\n",
              "         var(--colab-secondary-surface-color); padding: 8px 12px;\n",
              "         border-bottom: 1px solid var(--colab-border-color);\"><b>Coche</b><br/>def __init__(marca, modelo)</pre><pre class=\"function-repr-contents function-repr-contents-collapsed\" style=\"\"><a class=\"filepath\" style=\"display:none\" href=\"#\"></a>&lt;no docstring&gt;</pre></div>"
            ]
          },
          "metadata": {},
          "execution_count": 39
        }
      ]
    },
    {
      "cell_type": "code",
      "execution_count": null,
      "metadata": {
        "id": "j_QGZV_FpNC3",
        "outputId": "205b5923-aa68-41c7-e4bc-40995ea8f225",
        "colab": {
          "base_uri": "https://localhost:8080/"
        }
      },
      "outputs": [
        {
          "output_type": "execute_result",
          "data": {
            "text/plain": [
              "object"
            ]
          },
          "metadata": {},
          "execution_count": 40
        }
      ],
      "source": [
        "coche1.__class__.__base__ #Clase object\n",
        "#Coche solo tiene una clase, no tiene padre"
      ]
    },
    {
      "cell_type": "code",
      "execution_count": null,
      "metadata": {
        "id": "N6PfCro0pNC4",
        "outputId": "0cdb6b32-5701-4f63-94c5-2410dab910ec",
        "colab": {
          "base_uri": "https://localhost:8080/"
        }
      },
      "outputs": [
        {
          "output_type": "stream",
          "name": "stdout",
          "text": [
            "Siuuuuu Miau\n"
          ]
        }
      ],
      "source": [
        "#Vamos a crear un Gato\n",
        "gato1 = Gato(\"Garfield\",\"Naranja\")\n",
        "#Que nuestros animales hagan sonido\n",
        "print(perro2.hacer_sonido(), gato1.hacer_sonido())"
      ]
    },
    {
      "cell_type": "markdown",
      "metadata": {
        "id": "z1QnL-fNpNC6"
      },
      "source": [
        "### 4 - [ENCAPSULAMIENTO](#5.Encapsulamiento)\n",
        "\n",
        "El `encapsulamiento` es un mecanismo que permite restringir el acceso a los atributos y métodos de una clase. Esto permite proteger los datos sensibles de la clase para que no sean modificados por código externo a la clase.\n",
        "\n",
        "En Python, el encapsulamiento se realiza por convención, es decir, no hay palabras reservadas para definir atributos y métodos privados. Por convención, los atributos y métodos privados se definen con un nombre que comienza por doble guión bajo `__`."
      ]
    },
    {
      "cell_type": "code",
      "execution_count": null,
      "metadata": {
        "id": "15jh8p8PpNC7"
      },
      "outputs": [],
      "source": [
        "#Teníamos la clase persona, os acordáis?\n",
        "\n",
        "class Persona:\n",
        "    raza = \"Humano\" #Atributo de clase\n",
        "    def __init__(self, nombre, edad):\n",
        "        self.nombre = nombre\n",
        "        self.edad = edad\n"
      ]
    },
    {
      "cell_type": "code",
      "execution_count": null,
      "metadata": {
        "id": "gFcl1HK4pNC7",
        "outputId": "bd83d252-7f5d-4048-97ec-426606a4d7ed",
        "colab": {
          "base_uri": "https://localhost:8080/"
        }
      },
      "outputs": [
        {
          "output_type": "stream",
          "name": "stdout",
          "text": [
            "Humano\n"
          ]
        }
      ],
      "source": [
        "impostor = Persona('Juan', 40)\n",
        "print(impostor.raza)"
      ]
    },
    {
      "cell_type": "code",
      "execution_count": null,
      "metadata": {
        "id": "StLSt9UepNC8",
        "outputId": "861f2413-a744-4b91-d33d-6df489c87026",
        "colab": {
          "base_uri": "https://localhost:8080/"
        }
      },
      "outputs": [
        {
          "output_type": "stream",
          "name": "stdout",
          "text": [
            "Pedro\n"
          ]
        }
      ],
      "source": [
        "#Vamos a pensar que Juan se quiere cambiar el nombre\n",
        "impostor.nombre = \"Pedro\"\n",
        "print(impostor.nombre)"
      ]
    },
    {
      "cell_type": "code",
      "execution_count": null,
      "metadata": {
        "id": "GBVd5yITpNDD",
        "outputId": "4af39f17-826b-4ab1-9f94-9f8fcf9511a8",
        "colab": {
          "base_uri": "https://localhost:8080/"
        }
      },
      "outputs": [
        {
          "output_type": "stream",
          "name": "stdout",
          "text": [
            "20\n"
          ]
        }
      ],
      "source": [
        "#Vamos a cambiarle la edad para que tenga carnet joven\n",
        "impostor.edad = 20\n",
        "print(impostor.edad)"
      ]
    },
    {
      "cell_type": "code",
      "execution_count": null,
      "metadata": {
        "id": "Kdb7z4QxpNDE",
        "outputId": "3f32c54e-2a74-4e57-c2b3-0923934132d3",
        "colab": {
          "base_uri": "https://localhost:8080/"
        }
      },
      "outputs": [
        {
          "output_type": "stream",
          "name": "stdout",
          "text": [
            "Alien\n"
          ]
        }
      ],
      "source": [
        "impostor.raza = \"Alien\"\n",
        "print(impostor.raza)"
      ]
    },
    {
      "cell_type": "markdown",
      "metadata": {
        "id": "H4A6ncq1pNDE"
      },
      "source": [
        "Acabamos de cambiar el atributo `raza` para impostor, esto no sería lo deseable verdad?\n",
        "\n",
        "Nos habremos cargado el atributo `raza`de la clase ```Persona```?"
      ]
    },
    {
      "cell_type": "code",
      "execution_count": null,
      "metadata": {
        "id": "wlpjk0eDpNDF",
        "outputId": "6f96f912-d419-4e7a-aca1-dc8cad2e4880",
        "colab": {
          "base_uri": "https://localhost:8080/",
          "height": 36
        }
      },
      "outputs": [
        {
          "output_type": "execute_result",
          "data": {
            "text/plain": [
              "'Humano'"
            ],
            "application/vnd.google.colaboratory.intrinsic+json": {
              "type": "string"
            }
          },
          "metadata": {},
          "execution_count": 49
        }
      ],
      "source": [
        "nuevo_tipo = Persona('Pepe',10)\n",
        "nuevo_tipo.raza"
      ]
    },
    {
      "cell_type": "markdown",
      "metadata": {
        "id": "-Y75GNuFpNDG"
      },
      "source": [
        "Para `proteger` los atributos de la clase deberíamos definirlos como ***privados***, es decir, que solo puedan ser `accedidos desde la propia clase`.\n",
        "\n",
        "En Python, el encapsulamiento se realiza por convención, es decir, no hay palabras reservadas para definir atributos y métodos privados. Por convención, los atributos y métodos privados se definen con un nombre que comienza por doble guión bajo `__`."
      ]
    },
    {
      "cell_type": "code",
      "execution_count": null,
      "metadata": {
        "id": "DgQGfo59pNDH"
      },
      "outputs": [],
      "source": [
        "class CuentaBancaria:\n",
        "    __saldo = 0 #Atributo privado\n",
        "    def __init__(self, saldo):\n",
        "        self.__saldo = saldo\n",
        "\n",
        "    def obtener_saldo(self):\n",
        "        return self.__saldo\n",
        "\n",
        "    def depositar(self, cantidad):\n",
        "        self.__saldo += cantidad\n",
        "\n",
        "    def retirar(self, cantidad):\n",
        "        if cantidad <= self.__saldo:\n",
        "            self.__saldo -= cantidad\n",
        "        else:\n",
        "            print(\"Saldo insuficiente\")"
      ]
    },
    {
      "cell_type": "code",
      "execution_count": null,
      "metadata": {
        "id": "edNHLhWkpNDl"
      },
      "outputs": [],
      "source": [
        "#Vamos a crear una cuenta bancaria con 50 euros\n",
        "mi_cuenta = CuentaBancaria(50)"
      ]
    },
    {
      "cell_type": "code",
      "execution_count": null,
      "metadata": {
        "id": "n2dBBahrpNDl",
        "outputId": "e08c1325-3344-4448-d6c6-70b546f0eb9a",
        "colab": {
          "base_uri": "https://localhost:8080/"
        }
      },
      "outputs": [
        {
          "output_type": "execute_result",
          "data": {
            "text/plain": [
              "50"
            ]
          },
          "metadata": {},
          "execution_count": 52
        }
      ],
      "source": [
        "mi_cuenta.obtener_saldo()"
      ]
    },
    {
      "cell_type": "code",
      "execution_count": null,
      "metadata": {
        "id": "POs2YfNspNDm",
        "outputId": "ffe97075-66bc-4983-9a9b-68915b52ebec",
        "colab": {
          "base_uri": "https://localhost:8080/"
        }
      },
      "outputs": [
        {
          "output_type": "execute_result",
          "data": {
            "text/plain": [
              "10"
            ]
          },
          "metadata": {},
          "execution_count": 53
        }
      ],
      "source": [
        "mi_cuenta.retirar(40)\n",
        "mi_cuenta.obtener_saldo()"
      ]
    },
    {
      "cell_type": "code",
      "execution_count": null,
      "metadata": {
        "id": "3mProgfYpNDn",
        "outputId": "793f5484-2934-4bad-dda5-a83ee445e770",
        "colab": {
          "base_uri": "https://localhost:8080/"
        }
      },
      "outputs": [
        {
          "output_type": "execute_result",
          "data": {
            "text/plain": [
              "10"
            ]
          },
          "metadata": {},
          "execution_count": 54
        }
      ],
      "source": [
        "#Podremos hackear la cuenta como antes?\n",
        "mi_cuenta.__saldo = 1000000\n",
        "mi_cuenta.obtener_saldo()"
      ]
    },
    {
      "cell_type": "markdown",
      "metadata": {
        "id": "8k0ToZJKpNDn"
      },
      "source": [
        "Ahora no hemos podido cambiar el saldo de la cuenta. Pero, tenemos un problema, que si no tuvieramos el método `obtener_saldo` no podríamos saber el saldo de la cuenta.\n"
      ]
    },
    {
      "cell_type": "code",
      "execution_count": null,
      "metadata": {
        "id": "9xSyHkdopNDo",
        "outputId": "d6bf159c-bd63-4321-e120-8aa9a052512f",
        "colab": {
          "base_uri": "https://localhost:8080/"
        }
      },
      "outputs": [
        {
          "output_type": "stream",
          "name": "stdout",
          "text": [
            "1000000\n"
          ]
        }
      ],
      "source": [
        "print(mi_cuenta.__saldo) #.saldo, ni existe\n",
        "#Este saldo es mentira, se lo hemos metido a la instancia a capón"
      ]
    },
    {
      "cell_type": "code",
      "execution_count": null,
      "metadata": {
        "id": "dqwa-i50pNDo",
        "outputId": "a234e688-c65c-4ca6-fed2-8ef331380933",
        "colab": {
          "base_uri": "https://localhost:8080/"
        }
      },
      "outputs": [
        {
          "output_type": "execute_result",
          "data": {
            "text/plain": [
              "['_CuentaBancaria__saldo',\n",
              " '__class__',\n",
              " '__delattr__',\n",
              " '__dict__',\n",
              " '__dir__',\n",
              " '__doc__',\n",
              " '__eq__',\n",
              " '__format__',\n",
              " '__ge__',\n",
              " '__getattribute__',\n",
              " '__gt__',\n",
              " '__hash__',\n",
              " '__init__',\n",
              " '__init_subclass__',\n",
              " '__le__',\n",
              " '__lt__',\n",
              " '__module__',\n",
              " '__ne__',\n",
              " '__new__',\n",
              " '__reduce__',\n",
              " '__reduce_ex__',\n",
              " '__repr__',\n",
              " '__saldo',\n",
              " '__setattr__',\n",
              " '__sizeof__',\n",
              " '__str__',\n",
              " '__subclasshook__',\n",
              " '__weakref__',\n",
              " 'depositar',\n",
              " 'obtener_saldo',\n",
              " 'retirar']"
            ]
          },
          "metadata": {},
          "execution_count": 56
        }
      ],
      "source": [
        "dir(mi_cuenta)"
      ]
    },
    {
      "cell_type": "code",
      "execution_count": null,
      "metadata": {
        "id": "WFJiNidJpNDo",
        "outputId": "993e1820-7fb9-4a2f-ce65-0360fd800833",
        "colab": {
          "base_uri": "https://localhost:8080/"
        }
      },
      "outputs": [
        {
          "output_type": "execute_result",
          "data": {
            "text/plain": [
              "['_CuentaBancaria__saldo',\n",
              " '__class__',\n",
              " '__delattr__',\n",
              " '__dict__',\n",
              " '__dir__',\n",
              " '__doc__',\n",
              " '__eq__',\n",
              " '__format__',\n",
              " '__ge__',\n",
              " '__getattribute__',\n",
              " '__gt__',\n",
              " '__hash__',\n",
              " '__init__',\n",
              " '__init_subclass__',\n",
              " '__le__',\n",
              " '__lt__',\n",
              " '__module__',\n",
              " '__ne__',\n",
              " '__new__',\n",
              " '__reduce__',\n",
              " '__reduce_ex__',\n",
              " '__repr__',\n",
              " '__setattr__',\n",
              " '__sizeof__',\n",
              " '__str__',\n",
              " '__subclasshook__',\n",
              " '__weakref__',\n",
              " 'depositar',\n",
              " 'obtener_saldo',\n",
              " 'retirar']"
            ]
          },
          "metadata": {},
          "execution_count": 57
        }
      ],
      "source": [
        "#Nueva instancia\n",
        "mi_cuenta2 = CuentaBancaria(100)\n",
        "dir(mi_cuenta2)"
      ]
    },
    {
      "cell_type": "markdown",
      "metadata": {
        "id": "d2VsrjX7pNDp"
      },
      "source": [
        "Esta instancia no tiene __saldo, tiene solo _Cuentabancaria__saldo. Por lo tanto, no podemos acceder a este atributo desde fuera de la clase."
      ]
    },
    {
      "cell_type": "markdown",
      "metadata": {
        "id": "CpTxqiVUpNDp"
      },
      "source": [
        "### 5 - [POLIMORFISMO](#5.Polimorfismo)\n",
        "\n",
        "El `polimorfismo` es un mecanismo que permite que una clase hija sobrescriba un método de la clase padre. Esto permite que un objeto de la clase hija pueda utilizar el método de la clase padre o el método de la clase hija.\n",
        "\n",
        "Capacidad de diferentes clases de compartir la misma interfaz, es decir, el mismo nombre de `método` o propiedad, pero con implementaciones específicas para cada clase. Esto permite que un objeto se comporte de manera flexible según el contexto en el que se utilice.\n",
        "\n",
        "Es decir, que un objeto de la clase hija puede comportarse como un objeto de la clase padre o como un objeto de la clase hija.\n",
        "\n",
        "Ehh?? No te preocupes, vamos a verlo con un ejemplo."
      ]
    },
    {
      "cell_type": "markdown",
      "metadata": {
        "id": "hgDsBnB-pNDq"
      },
      "source": [
        "Tomemos el ejemplo de una clase `Figura` que tiene un método llamado `calcular_area`.\n",
        "\n",
        "Tendremos subclases como `Círculo` y `Rectángulo`, que heredan de la clase padre `Figura` pero proporcionan implementaciones específicas del método `calcular_area` según la fórmula correspondiente a cada forma."
      ]
    },
    {
      "cell_type": "code",
      "execution_count": null,
      "metadata": {
        "id": "SbC9Psp8pNDr"
      },
      "outputs": [],
      "source": [
        "class Figura: # Clase padre\n",
        "    def calcular_area(self):\n",
        "        pass\n",
        "\n",
        "class Circulo(Figura): # Clase hija de Figura\n",
        "    def __init__(self, radio):\n",
        "        self.radio = radio\n",
        "\n",
        "    def calcular_area(self):\n",
        "        return 3.14 * self.radio ** 2\n",
        "\n",
        "class Rectangulo(Figura): #otra hija de Figura\n",
        "    def __init__(self, base, altura):\n",
        "        self.base = base\n",
        "        self.altura = altura\n",
        "\n",
        "    def calcular_area(self):\n",
        "        return self.base * self.altura\n",
        "\n",
        "# Función que utiliza polimorfismo\n",
        "def imprimir_area(figura):\n",
        "    print(f\"Área: {figura.calcular_area()}\")"
      ]
    },
    {
      "cell_type": "code",
      "execution_count": null,
      "metadata": {
        "id": "c0LB4-MHpNDs",
        "outputId": "5332d133-5234-48ee-edc8-7ab26f5be844",
        "colab": {
          "base_uri": "https://localhost:8080/"
        }
      },
      "outputs": [
        {
          "output_type": "stream",
          "name": "stdout",
          "text": [
            "<class '__main__.Figura'> <class '__main__.Figura'>\n"
          ]
        }
      ],
      "source": [
        "# Creamos 2 instancias de las clases\n",
        "circulo = Circulo(5)\n",
        "rectangulo = Rectangulo(4, 6)\n",
        "\n",
        "print(circulo.__class__.__base__, rectangulo.__class__.__base__)"
      ]
    },
    {
      "cell_type": "code",
      "execution_count": null,
      "metadata": {
        "id": "Ttsd2wwHpNDt",
        "outputId": "760d0f4b-cdb5-4d13-b3a8-4b2eb3169cc8",
        "colab": {
          "base_uri": "https://localhost:8080/"
        }
      },
      "outputs": [
        {
          "output_type": "stream",
          "name": "stdout",
          "text": [
            "Área: 78.5\n",
            "Área: 24\n"
          ]
        }
      ],
      "source": [
        "# Utilizar la función con diferentes objetos\n",
        "imprimir_area(circulo)    # Salida: Área: 78.5\n",
        "imprimir_area(rectangulo)  # Salida: Área: 24"
      ]
    },
    {
      "cell_type": "markdown",
      "metadata": {
        "id": "BZdQXslHpNDw"
      },
      "source": [
        "Vamos a ver como podemos restringir el tipo de dato que se puede asignar a un atributo o que se puede pasar como parámetro a un método, o para inicializar un objeto."
      ]
    },
    {
      "cell_type": "code",
      "execution_count": null,
      "metadata": {
        "id": "b4CZmTqYpNDx"
      },
      "outputs": [],
      "source": [
        "class Circulo_new: # Pero vamos a hacer que solo acepte numeros\n",
        "    def __init__(self, radio: int):\n",
        "        self.radio = radio\n",
        "    def calcular_area(self):\n",
        "        return 3.14 * self.radio ** 2\n"
      ]
    },
    {
      "cell_type": "code",
      "execution_count": null,
      "metadata": {
        "id": "GwNN20p0pNDx"
      },
      "outputs": [],
      "source": [
        "veamos = Circulo_new('5') #Funcionará?"
      ]
    },
    {
      "cell_type": "code",
      "execution_count": null,
      "metadata": {
        "id": "1YbjB6repNDx",
        "outputId": "7c812b4d-e165-4498-c8ec-d1606b8c0602",
        "colab": {
          "base_uri": "https://localhost:8080/",
          "height": 245
        }
      },
      "outputs": [
        {
          "output_type": "error",
          "ename": "TypeError",
          "evalue": "unsupported operand type(s) for ** or pow(): 'str' and 'int'",
          "traceback": [
            "\u001b[0;31m---------------------------------------------------------------------------\u001b[0m",
            "\u001b[0;31mTypeError\u001b[0m                                 Traceback (most recent call last)",
            "\u001b[0;32m<ipython-input-63-45997fa85b7f>\u001b[0m in \u001b[0;36m<cell line: 2>\u001b[0;34m()\u001b[0m\n\u001b[1;32m      1\u001b[0m \u001b[0;31m#y esto?\u001b[0m\u001b[0;34m\u001b[0m\u001b[0;34m\u001b[0m\u001b[0m\n\u001b[0;32m----> 2\u001b[0;31m \u001b[0mveamos\u001b[0m\u001b[0;34m.\u001b[0m\u001b[0mcalcular_area\u001b[0m\u001b[0;34m(\u001b[0m\u001b[0;34m)\u001b[0m\u001b[0;34m\u001b[0m\u001b[0;34m\u001b[0m\u001b[0m\n\u001b[0m",
            "\u001b[0;32m<ipython-input-61-51546ee01279>\u001b[0m in \u001b[0;36mcalcular_area\u001b[0;34m(self)\u001b[0m\n\u001b[1;32m      3\u001b[0m         \u001b[0mself\u001b[0m\u001b[0;34m.\u001b[0m\u001b[0mradio\u001b[0m \u001b[0;34m=\u001b[0m \u001b[0mradio\u001b[0m\u001b[0;34m\u001b[0m\u001b[0;34m\u001b[0m\u001b[0m\n\u001b[1;32m      4\u001b[0m     \u001b[0;32mdef\u001b[0m \u001b[0mcalcular_area\u001b[0m\u001b[0;34m(\u001b[0m\u001b[0mself\u001b[0m\u001b[0;34m)\u001b[0m\u001b[0;34m:\u001b[0m\u001b[0;34m\u001b[0m\u001b[0;34m\u001b[0m\u001b[0m\n\u001b[0;32m----> 5\u001b[0;31m         \u001b[0;32mreturn\u001b[0m \u001b[0;36m3.14\u001b[0m \u001b[0;34m*\u001b[0m \u001b[0mself\u001b[0m\u001b[0;34m.\u001b[0m\u001b[0mradio\u001b[0m \u001b[0;34m**\u001b[0m \u001b[0;36m2\u001b[0m\u001b[0;34m\u001b[0m\u001b[0;34m\u001b[0m\u001b[0m\n\u001b[0m",
            "\u001b[0;31mTypeError\u001b[0m: unsupported operand type(s) for ** or pow(): 'str' and 'int'"
          ]
        }
      ],
      "source": [
        "#y esto?\n",
        "veamos.calcular_area()"
      ]
    },
    {
      "cell_type": "code",
      "execution_count": null,
      "metadata": {
        "id": "ebz011VjpNDy",
        "outputId": "76fb84da-60a9-4a45-9d43-1a7bdcfc0cce",
        "colab": {
          "base_uri": "https://localhost:8080/"
        }
      },
      "outputs": [
        {
          "output_type": "execute_result",
          "data": {
            "text/plain": [
              "str"
            ]
          },
          "metadata": {},
          "execution_count": 64
        }
      ],
      "source": [
        "type(veamos.radio)"
      ]
    },
    {
      "cell_type": "code",
      "execution_count": null,
      "metadata": {
        "id": "W8XBACSrpND0"
      },
      "outputs": [],
      "source": [
        "class Circulo_restrict:\n",
        "    def __init__(self, radio: int):\n",
        "        if type(radio) == int:\n",
        "            self.radio = radio\n",
        "        else:\n",
        "            raise TypeError(\"El radio debe ser un entero\")\n",
        "    def calcular_area(self):\n",
        "        return 3.14 * self.radio ** 2"
      ]
    },
    {
      "cell_type": "code",
      "execution_count": null,
      "metadata": {
        "id": "Zzx7SRfjpND1",
        "outputId": "95eef1c4-6158-4742-8155-d96a3c126a38",
        "colab": {
          "base_uri": "https://localhost:8080/",
          "height": 263
        }
      },
      "outputs": [
        {
          "output_type": "error",
          "ename": "TypeError",
          "evalue": "El radio debe ser un entero",
          "traceback": [
            "\u001b[0;31m---------------------------------------------------------------------------\u001b[0m",
            "\u001b[0;31mTypeError\u001b[0m                                 Traceback (most recent call last)",
            "\u001b[0;32m<ipython-input-67-c20d7cb10188>\u001b[0m in \u001b[0;36m<cell line: 1>\u001b[0;34m()\u001b[0m\n\u001b[0;32m----> 1\u001b[0;31m \u001b[0mnuevo\u001b[0m \u001b[0;34m=\u001b[0m \u001b[0mCirculo_restrict\u001b[0m\u001b[0;34m(\u001b[0m\u001b[0;34m'5'\u001b[0m\u001b[0;34m)\u001b[0m\u001b[0;34m\u001b[0m\u001b[0;34m\u001b[0m\u001b[0m\n\u001b[0m",
            "\u001b[0;32m<ipython-input-66-75a09e2e15f5>\u001b[0m in \u001b[0;36m__init__\u001b[0;34m(self, radio)\u001b[0m\n\u001b[1;32m      4\u001b[0m             \u001b[0mself\u001b[0m\u001b[0;34m.\u001b[0m\u001b[0mradio\u001b[0m \u001b[0;34m=\u001b[0m \u001b[0mradio\u001b[0m\u001b[0;34m\u001b[0m\u001b[0;34m\u001b[0m\u001b[0m\n\u001b[1;32m      5\u001b[0m         \u001b[0;32melse\u001b[0m\u001b[0;34m:\u001b[0m\u001b[0;34m\u001b[0m\u001b[0;34m\u001b[0m\u001b[0m\n\u001b[0;32m----> 6\u001b[0;31m             \u001b[0;32mraise\u001b[0m \u001b[0mTypeError\u001b[0m\u001b[0;34m(\u001b[0m\u001b[0;34m\"El radio debe ser un entero\"\u001b[0m\u001b[0;34m)\u001b[0m\u001b[0;34m\u001b[0m\u001b[0;34m\u001b[0m\u001b[0m\n\u001b[0m\u001b[1;32m      7\u001b[0m     \u001b[0;32mdef\u001b[0m \u001b[0mcalcular_area\u001b[0m\u001b[0;34m(\u001b[0m\u001b[0mself\u001b[0m\u001b[0;34m)\u001b[0m\u001b[0;34m:\u001b[0m\u001b[0;34m\u001b[0m\u001b[0;34m\u001b[0m\u001b[0m\n\u001b[1;32m      8\u001b[0m         \u001b[0;32mreturn\u001b[0m \u001b[0;36m3.14\u001b[0m \u001b[0;34m*\u001b[0m \u001b[0mself\u001b[0m\u001b[0;34m.\u001b[0m\u001b[0mradio\u001b[0m \u001b[0;34m**\u001b[0m \u001b[0;36m2\u001b[0m\u001b[0;34m\u001b[0m\u001b[0;34m\u001b[0m\u001b[0m\n",
            "\u001b[0;31mTypeError\u001b[0m: El radio debe ser un entero"
          ]
        }
      ],
      "source": [
        "nuevo = Circulo_restrict('5')"
      ]
    },
    {
      "cell_type": "markdown",
      "metadata": {
        "id": "B7ro9vpFpND1"
      },
      "source": [
        "### [BONUS](#Ejercicio)\n",
        "\n",
        "***1 - Tarjeta Bancaria:***\n",
        "\n",
        "Crear una clase tarjeta de crédito que tenga como atributos el número de la tarjeta, fecha de caducidad,nombre del titular, estado de la tarjeta, pin y el saldo. Y como métodos, activar tarjeta, desactivar tarjeta, pagar, retirar, ingresar y consultar saldo.\n",
        "\n",
        "Ten en cuenta las siguientes restricciones:\n",
        "- El numero de la tarjeta deber tener 8 dígitos que se generen de manera aleatoria al crear la tarjeta\n",
        "- El pin debe tener 4 dígitos aleatorios\n",
        "- La tarjeta tiene que estar desactivada por defecto\n",
        "- El saldo no puede ser negativo\n",
        "- El saldo por defecto debe ser 500€"
      ]
    },
    {
      "cell_type": "code",
      "execution_count": null,
      "metadata": {
        "id": "N8l1MbgzpND2"
      },
      "outputs": [],
      "source": []
    },
    {
      "cell_type": "code",
      "execution_count": null,
      "metadata": {
        "id": "kEIZYcYzpND2"
      },
      "outputs": [],
      "source": []
    },
    {
      "cell_type": "code",
      "execution_count": null,
      "metadata": {
        "id": "cKIrfzBopND3"
      },
      "outputs": [],
      "source": []
    },
    {
      "cell_type": "code",
      "execution_count": null,
      "metadata": {
        "id": "clJqIpcXpND3"
      },
      "outputs": [],
      "source": []
    },
    {
      "cell_type": "markdown",
      "metadata": {
        "id": "LnKY0wpXpND3"
      },
      "source": [
        "***2 - Juego de ESTUDIANTES Vs PROFESORES:***\n",
        "\n",
        "Vamos a crear una clase padre llamada `Persona`y 2 clases hijas llamadas `Estudiante`y `Profesor`. La clase `Persona` tendrá los siguientes atributos: nombre, vida, ataque y defensa.\n",
        "\n",
        "Para la clase `Persona`solo le pasaremos el nombre como parámetro, y los atributos vida, ataque y defensa se inicializarán con un valor aleatorio entre 1 y 10.\n",
        "\n",
        "La clase `Estudiante` tendrá un atributo llamado `estudioso` que será un booleano que se inicializará con un valor aleatorio. Y la clase `Profesor` tendrá un atributo llamado `examen` que se inicializará con un booleano aleatorio.\n",
        "\n",
        "Ambas clases tendrán un método llamado `atacar` que recibirá como parámetro un objeto de la clase `Persona`y restará a la vida del objeto atacado el valor del atributo `ataque` del objeto atacante por 1.2 si tiene su atributo `estudioso` o `examen` activado menos el atributo `defensa` del objeto atacado.\n",
        "\n",
        "La clase `Profesor` tendrá una posibilidad del 20% de regenerar 2 puntos de vida cada vez que ataque.\n",
        "\n",
        "Si resultado de la resta es menor que 0, el defensor recuperará tanta vida como el resultado de la resta * -1, es decir se regenerará. Sino, el defensor perderá tanta vida como indique la operación.\n",
        "\n",
        "Si la vida del objeto atacado es menor o igual a 0, el método `atacar` devolverá un mensaje diciendo quien  ha matado a quien.\n",
        "\n",
        "\n",
        "Dinámica del juego:\n",
        "1 - Crear una lista de Estudiantes y Profesores tal y como estamos distribuidos en clase\n",
        "2 - Crear un bucle que se ejecute mientras haya estudiantes y profesores vivos, es decir, con vida mayor que 0, y que se ataquen entre ellos de manera aleatoria pero igual numero de veces:\n",
        "    - Se selecciona un atacante random de los estudiantes o profesores y ataca a un elmento random del otro equipo.\n",
        "    - Se selecciona un atacante random de la otra facción y ataca a otro integrante random del otro bando.\n",
        "    - Se selecciona el segundo atacante random del primer equipo, teniendo en cuenta que tiene que ser uno de los que no ha atacado aun, ya que no se podrá repetir atacante hasta que todo el equipo haya atacado por completo\n",
        "    - y así hasta que solo quede un equipo en pie."
      ]
    },
    {
      "cell_type": "code",
      "execution_count": null,
      "metadata": {
        "id": "PW2CcvjbpND4"
      },
      "outputs": [],
      "source": []
    },
    {
      "cell_type": "code",
      "execution_count": null,
      "metadata": {
        "id": "6F5rJLs_pND4"
      },
      "outputs": [],
      "source": []
    }
  ],
  "metadata": {
    "kernelspec": {
      "display_name": "gamma",
      "language": "python",
      "name": "python3"
    },
    "language_info": {
      "codemirror_mode": {
        "name": "ipython",
        "version": 3
      },
      "file_extension": ".py",
      "mimetype": "text/x-python",
      "name": "python",
      "nbconvert_exporter": "python",
      "pygments_lexer": "ipython3",
      "version": "3.11.2"
    },
    "colab": {
      "provenance": []
    }
  },
  "nbformat": 4,
  "nbformat_minor": 0
}